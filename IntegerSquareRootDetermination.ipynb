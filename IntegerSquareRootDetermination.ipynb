{
 "cells": [
  {
   "cell_type": "markdown",
   "id": "ace65a6f",
   "metadata": {},
   "source": [
    "# 정수 제곱근 판별\n",
    " - 임의의 양의 정수 n에 대해, n이 어떤 양의 정수 x의 제곱인지 아닌지 판단하려 합니다. n이 양의 정수 x의 제곱이라면 x+1의 제곱을 리턴하고, n이 양의 정수 x의 제곱이 아니라면 -1을 리턴하는 함수를 완성하세요."
   ]
  },
  {
   "cell_type": "code",
   "execution_count": 1,
   "id": "83a8837f",
   "metadata": {},
   "outputs": [],
   "source": [
    "# 제한 사항\n",
    "# n은 1이상, 50000000000000 이하인 양의 정수입니다.\n",
    "\n",
    "# n : 121\n",
    "# return : 144"
   ]
  },
  {
   "cell_type": "code",
   "execution_count": 2,
   "id": "545feee8",
   "metadata": {},
   "outputs": [],
   "source": [
    "# def solution(n):\n",
    "#     b = int(n**0.5)\n",
    "#     if b*b != n:\n",
    "#         return -1\n",
    "#     else:\n",
    "#         return (b+1)**2\n",
    "    \n",
    "def solution(n):\n",
    "    a = n**(1/2)\n",
    "    if a % 1 == 0:\n",
    "        return (a+1)**2\n",
    "    else:\n",
    "        return -1"
   ]
  },
  {
   "cell_type": "code",
   "execution_count": 3,
   "id": "5c57c076",
   "metadata": {},
   "outputs": [
    {
     "data": {
      "text/plain": [
       "144.0"
      ]
     },
     "execution_count": 3,
     "metadata": {},
     "output_type": "execute_result"
    }
   ],
   "source": [
    "solution(121)"
   ]
  },
  {
   "cell_type": "code",
   "execution_count": 4,
   "id": "aa2fc519",
   "metadata": {},
   "outputs": [
    {
     "data": {
      "text/plain": [
       "-1"
      ]
     },
     "execution_count": 4,
     "metadata": {},
     "output_type": "execute_result"
    }
   ],
   "source": [
    "solution(3)"
   ]
  },
  {
   "cell_type": "code",
   "execution_count": null,
   "id": "06e5a233",
   "metadata": {},
   "outputs": [],
   "source": []
  }
 ],
 "metadata": {
  "kernelspec": {
   "display_name": "Python 3 (ipykernel)",
   "language": "python",
   "name": "python3"
  },
  "language_info": {
   "codemirror_mode": {
    "name": "ipython",
    "version": 3
   },
   "file_extension": ".py",
   "mimetype": "text/x-python",
   "name": "python",
   "nbconvert_exporter": "python",
   "pygments_lexer": "ipython3",
   "version": "3.9.15"
  }
 },
 "nbformat": 4,
 "nbformat_minor": 5
}
