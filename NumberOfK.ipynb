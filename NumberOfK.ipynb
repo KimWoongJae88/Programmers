{
 "cells": [
  {
   "cell_type": "markdown",
   "id": "653c1448",
   "metadata": {},
   "source": [
    "# k의 개수\n",
    " - 1부터 13까지의 수에서, 1은 1, 10, 11, 12, 13 이렇게 총 6번 등장합니다. 정수 i, j, k가 매개변수로 주어질 때, i부터 j까지 k가 몇 번 등장하는지 return 하도록 solution 함수를 완성해주세요."
   ]
  },
  {
   "cell_type": "markdown",
   "id": "10a080b3",
   "metadata": {},
   "source": [
    "## 제한사항\n",
    " - 1 ≤ i < j ≤ 100,000\n",
    " - 0 ≤ k ≤ 9\n",
    "\n",
    "## 입출력 예\n",
    " - i : 1\n",
    " - j : 13\n",
    " - k : 1\n",
    " - result : 6"
   ]
  },
  {
   "cell_type": "code",
   "execution_count": 1,
   "id": "7b5895bd",
   "metadata": {},
   "outputs": [],
   "source": [
    "def solution(i, j, k):\n",
    "    answer = 0\n",
    "    a = []\n",
    "    k = str(k)\n",
    "    for h in range(i, j+1):\n",
    "        a += str(h)\n",
    "    for t in a:\n",
    "        if t == k:\n",
    "            answer += 1\n",
    "    return answer"
   ]
  },
  {
   "cell_type": "code",
   "execution_count": 2,
   "id": "7fb6dda5",
   "metadata": {},
   "outputs": [
    {
     "data": {
      "text/plain": [
       "6"
      ]
     },
     "execution_count": 2,
     "metadata": {},
     "output_type": "execute_result"
    }
   ],
   "source": [
    "solution(1, 13, 1)"
   ]
  },
  {
   "cell_type": "code",
   "execution_count": 4,
   "id": "9bac5d73",
   "metadata": {},
   "outputs": [
    {
     "data": {
      "text/plain": [
       "5"
      ]
     },
     "execution_count": 4,
     "metadata": {},
     "output_type": "execute_result"
    }
   ],
   "source": [
    "solution(10, 50, 5)"
   ]
  },
  {
   "cell_type": "code",
   "execution_count": 5,
   "id": "99255001",
   "metadata": {},
   "outputs": [
    {
     "data": {
      "text/plain": [
       "0"
      ]
     },
     "execution_count": 5,
     "metadata": {},
     "output_type": "execute_result"
    }
   ],
   "source": [
    "solution(3, 10, 2)"
   ]
  },
  {
   "cell_type": "code",
   "execution_count": null,
   "id": "19fa6574",
   "metadata": {},
   "outputs": [],
   "source": []
  }
 ],
 "metadata": {
  "kernelspec": {
   "display_name": "Python 3 (ipykernel)",
   "language": "python",
   "name": "python3"
  },
  "language_info": {
   "codemirror_mode": {
    "name": "ipython",
    "version": 3
   },
   "file_extension": ".py",
   "mimetype": "text/x-python",
   "name": "python",
   "nbconvert_exporter": "python",
   "pygments_lexer": "ipython3",
   "version": "3.9.15"
  }
 },
 "nbformat": 4,
 "nbformat_minor": 5
}
