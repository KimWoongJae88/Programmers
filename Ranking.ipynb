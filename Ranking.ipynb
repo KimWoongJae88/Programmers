{
 "cells": [
  {
   "cell_type": "markdown",
   "id": "21719e69",
   "metadata": {},
   "source": [
    "# 등수 매기기\n",
    " - 영어 점수와 수학 점수의 평균 점수를 기준으로 학생들의 등수를 매기려고 합니다. 영어 점수와 수학 점수를 담은 2차원 정수 배열 score가 주어질 때, 영어 점수와 수학 점수의 평균을 기준으로 매긴 등수를 담은 배열을 return하도록 solution 함수를 완성해주세요."
   ]
  },
  {
   "cell_type": "code",
   "execution_count": 1,
   "id": "d1d17c38",
   "metadata": {},
   "outputs": [],
   "source": [
    "# 제한사항\n",
    "# 0 ≤ score[0], score[1] ≤ 100\n",
    "# 1 ≤ score의 길이 ≤ 10\n",
    "# score의 원소 길이는 2입니다.\n",
    "# score는 중복된 원소를 갖지 않습니다."
   ]
  },
  {
   "cell_type": "code",
   "execution_count": 116,
   "id": "ea548af6",
   "metadata": {},
   "outputs": [],
   "source": [
    "def solution(score):\n",
    "    a = []\n",
    "    c = {}\n",
    "    d = []\n",
    "    for h in score:\n",
    "        a.append(sum(h)/2)  # 점수 합의 평균을 a리스트에 저장\n",
    "    b = sorted(a, reverse=True)  # 저장된 평균을 내림차순으로 정렬하고 b에 객체화\n",
    "    for i, j in enumerate(b):  # 리스트 b에 값을 j로 인덱스를 i로 설정하기위해 enumerate()해주기\n",
    "        if j not in c:  # 값을 키로, 키를 등수로 쓸 수 있게 만들기\n",
    "            c[j] = i+1  # 여기서 b리스트의 값이 딕셔너리c의 키로가고 b리스트 인덱스가 딕셔너리c의 값으로 간다.          \n",
    "    for j in a:  # 평균이 그대로 저장된 a를 반복하여 키인 j가 있을때 딕셔너리[j]의 값을 반환\n",
    "        d.append(c[j])\n",
    "    return d"
   ]
  },
  {
   "cell_type": "code",
   "execution_count": 117,
   "id": "a5487a8d",
   "metadata": {},
   "outputs": [
    {
     "data": {
      "text/plain": [
       "[4, 4, 6, 2, 2, 1, 7]"
      ]
     },
     "execution_count": 117,
     "metadata": {},
     "output_type": "execute_result"
    }
   ],
   "source": [
    "solution([[80, 70], [70, 80], [30, 50], [90, 100], [100, 90], [100, 100], [10, 30]])"
   ]
  },
  {
   "cell_type": "markdown",
   "id": "7b111879",
   "metadata": {},
   "source": [
    "---\n",
    "# % 참고사항"
   ]
  },
  {
   "cell_type": "code",
   "execution_count": 119,
   "id": "4783cd5e",
   "metadata": {},
   "outputs": [
    {
     "name": "stdout",
     "output_type": "stream",
     "text": [
      "b [75.0, 70.0, 70.0, 55.0, 65.0]\n",
      "c [75.0, 70.0, 70.0, 65.0, 55.0]\n"
     ]
    },
    {
     "data": {
      "text/plain": [
       "[(0, 75.0), (1, 70.0), (2, 70.0), (3, 65.0), (4, 55.0)]"
      ]
     },
     "execution_count": 119,
     "metadata": {},
     "output_type": "execute_result"
    }
   ],
   "source": [
    "a = [[80, 70], [90, 50], [80, 60], [40, 70], [50, 80]]\n",
    "b = []\n",
    "for i in a:\n",
    "    b.append(sum(i)/2)\n",
    "print('b', b)    \n",
    "\n",
    "c = sorted(b, reverse=True)\n",
    "print('c', c)\n",
    "list(enumerate(c))"
   ]
  },
  {
   "cell_type": "code",
   "execution_count": 109,
   "id": "a05fff9b",
   "metadata": {},
   "outputs": [
    {
     "data": {
      "text/plain": [
       "1"
      ]
     },
     "execution_count": 109,
     "metadata": {},
     "output_type": "execute_result"
    }
   ],
   "source": [
    "e = {}\n",
    "for i, j in enumerate(c):  # 리스트 c에 값을 j로 인덱스를 i로 설정하기위해 enumerate()해주기\n",
    "    e[j] = i+1\n",
    "e[75.0]"
   ]
  }
 ],
 "metadata": {
  "kernelspec": {
   "display_name": "Python 3 (ipykernel)",
   "language": "python",
   "name": "python3"
  },
  "language_info": {
   "codemirror_mode": {
    "name": "ipython",
    "version": 3
   },
   "file_extension": ".py",
   "mimetype": "text/x-python",
   "name": "python",
   "nbconvert_exporter": "python",
   "pygments_lexer": "ipython3",
   "version": "3.9.12"
  }
 },
 "nbformat": 4,
 "nbformat_minor": 5
}
