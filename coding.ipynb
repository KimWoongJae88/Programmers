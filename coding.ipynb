{
 "cells": [
  {
   "cell_type": "markdown",
   "id": "e66e45f8",
   "metadata": {},
   "source": [
    "# 양꼬치\n",
    " - 머쓱이네 양꼬치 가게는 10인분을 먹으면 음료수 하나를 서비스로 줍니다. 양꼬치는 1인분에 12,000원, 음료수는 2,000원입니다. 정수 n과 k가 매개변수로 주어졌을 때, 양꼬치 n인분과 음료수 k개를 먹었다면 총얼마를 지불해야 하는지 return 하도록 solution 함수를 완성해보세요."
   ]
  },
  {
   "cell_type": "code",
   "execution_count": 1,
   "id": "9e18d1b8",
   "metadata": {},
   "outputs": [],
   "source": [
    "# 제한사항\n",
    "# 0 < n < 1,000\n",
    "# n / 10 ≤ k < 1,000\n",
    "# 서비스로 받은 음료수는 모두 마십니다.\n",
    "\n",
    "# n : 10\n",
    "# k : 3\n",
    "# result : 124,000"
   ]
  },
  {
   "cell_type": "code",
   "execution_count": 2,
   "id": "fa70672c",
   "metadata": {},
   "outputs": [],
   "source": [
    "def solution(n, k):\n",
    "    return n * 12000 + (k - n//10) * 2000"
   ]
  },
  {
   "cell_type": "code",
   "execution_count": 3,
   "id": "12752bcf",
   "metadata": {},
   "outputs": [
    {
     "data": {
      "text/plain": [
       "124000"
      ]
     },
     "execution_count": 3,
     "metadata": {},
     "output_type": "execute_result"
    }
   ],
   "source": [
    "solution(10, 3)"
   ]
  },
  {
   "cell_type": "code",
   "execution_count": 4,
   "id": "0126ae71",
   "metadata": {},
   "outputs": [
    {
     "data": {
      "text/plain": [
       "768000"
      ]
     },
     "execution_count": 4,
     "metadata": {},
     "output_type": "execute_result"
    }
   ],
   "source": [
    "solution(64, 6)"
   ]
  },
  {
   "cell_type": "code",
   "execution_count": null,
   "id": "20333780",
   "metadata": {},
   "outputs": [],
   "source": []
  }
 ],
 "metadata": {
  "kernelspec": {
   "display_name": "Python 3 (ipykernel)",
   "language": "python",
   "name": "python3"
  },
  "language_info": {
   "codemirror_mode": {
    "name": "ipython",
    "version": 3
   },
   "file_extension": ".py",
   "mimetype": "text/x-python",
   "name": "python",
   "nbconvert_exporter": "python",
   "pygments_lexer": "ipython3",
   "version": "3.9.7"
  }
 },
 "nbformat": 4,
 "nbformat_minor": 5
}
