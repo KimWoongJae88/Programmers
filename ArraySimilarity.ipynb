{
 "cells": [
  {
   "cell_type": "markdown",
   "id": "1ddbe0cf",
   "metadata": {},
   "source": [
    "# 배열의 유사도\n",
    " -  배열이 얼마나 유사한지 확인해보려고 합니다. 문자열 배열 s1과 s2가 주어질 때 같은 원소의 개수를 return하도록 solution 함수를 완성해주세요."
   ]
  },
  {
   "cell_type": "code",
   "execution_count": 1,
   "id": "908e1397",
   "metadata": {},
   "outputs": [],
   "source": [
    "# 제한사항\n",
    "# 1 ≤ s1, s2의 길이 ≤ 100\n",
    "# 1 ≤ s1, s2의 원소의 길이 ≤ 10\n",
    "# s1과 s2의 원소는 알파벳 소문자로만 이루어져 있습니다\n",
    "# s1과 s2는 각각 중복된 원소를 갖지 않습니다.\n",
    "\n",
    "# s1 : [\"a\", \"b\", \"c\"]\n",
    "# s2 : [\"com\", \"b\", \"d\", \"p\", \"c\"]\n",
    "# result : 2"
   ]
  },
  {
   "cell_type": "code",
   "execution_count": 2,
   "id": "9a4dcf3d",
   "metadata": {},
   "outputs": [],
   "source": [
    "def solution(s1, s2):\n",
    "    answer = 0\n",
    "    for i in s1:\n",
    "        if i in s2:\n",
    "            answer += 1\n",
    "    return answer"
   ]
  },
  {
   "cell_type": "code",
   "execution_count": 3,
   "id": "b2794cfa",
   "metadata": {},
   "outputs": [
    {
     "data": {
      "text/plain": [
       "2"
      ]
     },
     "execution_count": 3,
     "metadata": {},
     "output_type": "execute_result"
    }
   ],
   "source": [
    "solution([\"a\", \"b\", \"c\"], [\"com\", \"b\", \"d\", \"p\", \"c\"])"
   ]
  },
  {
   "cell_type": "code",
   "execution_count": 4,
   "id": "5df58153",
   "metadata": {},
   "outputs": [
    {
     "data": {
      "text/plain": [
       "0"
      ]
     },
     "execution_count": 4,
     "metadata": {},
     "output_type": "execute_result"
    }
   ],
   "source": [
    "solution([\"n\", \"omg\"], [\"m\", \"dot\"])"
   ]
  },
  {
   "cell_type": "code",
   "execution_count": null,
   "id": "f9149690",
   "metadata": {},
   "outputs": [],
   "source": []
  }
 ],
 "metadata": {
  "kernelspec": {
   "display_name": "Python 3 (ipykernel)",
   "language": "python",
   "name": "python3"
  },
  "language_info": {
   "codemirror_mode": {
    "name": "ipython",
    "version": 3
   },
   "file_extension": ".py",
   "mimetype": "text/x-python",
   "name": "python",
   "nbconvert_exporter": "python",
   "pygments_lexer": "ipython3",
   "version": "3.9.15"
  }
 },
 "nbformat": 4,
 "nbformat_minor": 5
}
