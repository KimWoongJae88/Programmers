{
 "cells": [
  {
   "cell_type": "markdown",
   "id": "dea0dc14",
   "metadata": {},
   "source": [
    "# 문자열 리스트를 문자열로 변환\n",
    " - 문자들이 담겨있는 배열 arr가 주어집니다. arr의 원소들을 순서대로 이어 붙인 문자열을 return 하는 solution함수를 작성해 주세요."
   ]
  },
  {
   "cell_type": "markdown",
   "id": "398faac2",
   "metadata": {},
   "source": [
    "## 제한사항\n",
    "- 1 ≤ arr의 길이 ≤ 200\n",
    "- arr의 원소는 전부 알파벳 소문자로 이루어진 길이가 1인 문자열입니다.\n",
    "\n",
    "## 입출력 예\n",
    "- arr = [\"a\",\"b\",\"c\"]\n",
    "- result = \"abc\""
   ]
  },
  {
   "cell_type": "code",
   "execution_count": 1,
   "id": "68991a8a",
   "metadata": {},
   "outputs": [],
   "source": [
    "def solution(arr):\n",
    "    answer = ''\n",
    "    for i in arr:\n",
    "        answer += i\n",
    "    return answer"
   ]
  },
  {
   "cell_type": "code",
   "execution_count": 2,
   "id": "59e53f1e",
   "metadata": {},
   "outputs": [
    {
     "data": {
      "text/plain": [
       "'abc'"
      ]
     },
     "execution_count": 2,
     "metadata": {},
     "output_type": "execute_result"
    }
   ],
   "source": [
    "solution([\"a\",\"b\",\"c\"])"
   ]
  },
  {
   "cell_type": "code",
   "execution_count": null,
   "id": "e3d858a6",
   "metadata": {},
   "outputs": [],
   "source": []
  }
 ],
 "metadata": {
  "kernelspec": {
   "display_name": "Python 3 (ipykernel)",
   "language": "python",
   "name": "python3"
  },
  "language_info": {
   "codemirror_mode": {
    "name": "ipython",
    "version": 3
   },
   "file_extension": ".py",
   "mimetype": "text/x-python",
   "name": "python",
   "nbconvert_exporter": "python",
   "pygments_lexer": "ipython3",
   "version": "3.9.15"
  }
 },
 "nbformat": 4,
 "nbformat_minor": 5
}
