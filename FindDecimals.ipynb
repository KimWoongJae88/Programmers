{
 "cells": [
  {
   "cell_type": "markdown",
   "id": "bd544abc",
   "metadata": {},
   "source": [
    "# 소수 찾기\n",
    " - 1부터 입력받은 숫자 n 사이에 있는 소수의 개수를 반환하는 함수, solution을 만들어 보세요.\n",
    " - 소수는 1과 자기 자신으로만 나누어지는 수를 의미합니다. (1은 소수가 아닙니다.)"
   ]
  },
  {
   "cell_type": "markdown",
   "id": "3ca753f6",
   "metadata": {},
   "source": [
    "## 제한 조건\n",
    " - n은 2이상 1000000이하의 자연수입니다.\n",
    "\n",
    "## 입출력 예\n",
    " - n = 10\n",
    " - result = 4"
   ]
  },
  {
   "cell_type": "markdown",
   "id": "7d838f9e",
   "metadata": {},
   "source": [
    "## 첫번째 풀이"
   ]
  },
  {
   "cell_type": "code",
   "execution_count": 38,
   "id": "e13db9f4",
   "metadata": {},
   "outputs": [],
   "source": [
    "def solution(n):\n",
    "    answer = []\n",
    "    a = []\n",
    "    for i in range(2, n+1):\n",
    "        for j in range(1, i+1):\n",
    "            if i%j == 0:\n",
    "                a.append(j)\n",
    "            else:\n",
    "                pass\n",
    "        if len(a) == 2:\n",
    "            answer.append(i)\n",
    "        a = []\n",
    "    return len(answer)"
   ]
  },
  {
   "cell_type": "code",
   "execution_count": 39,
   "id": "3f164203",
   "metadata": {},
   "outputs": [
    {
     "data": {
      "text/plain": [
       "4"
      ]
     },
     "execution_count": 39,
     "metadata": {},
     "output_type": "execute_result"
    }
   ],
   "source": [
    "solution(10)"
   ]
  },
  {
   "cell_type": "code",
   "execution_count": 40,
   "id": "d14116ce",
   "metadata": {},
   "outputs": [
    {
     "data": {
      "text/plain": [
       "3"
      ]
     },
     "execution_count": 40,
     "metadata": {},
     "output_type": "execute_result"
    }
   ],
   "source": [
    "solution(5)"
   ]
  },
  {
   "cell_type": "markdown",
   "id": "9f505908",
   "metadata": {},
   "source": [
    " - 시간 초과"
   ]
  },
  {
   "cell_type": "markdown",
   "id": "85dcbcc9",
   "metadata": {},
   "source": [
    "## 두번째 풀이"
   ]
  },
  {
   "cell_type": "code",
   "execution_count": 60,
   "id": "c77d6643",
   "metadata": {},
   "outputs": [],
   "source": [
    "def solution(n):\n",
    "    a = [True] * (n + 1)\n",
    "    m = int(n**0.5)\n",
    "    for i in range(2, m + 1):\n",
    "        if a[i] == True:\n",
    "            for j in range(i + i, n + 1, i):\n",
    "                a[j] = False\n",
    "    return len(([i for i in range(2, n + 1) if a[i] == True]))"
   ]
  },
  {
   "cell_type": "code",
   "execution_count": 61,
   "id": "db71b96b",
   "metadata": {},
   "outputs": [
    {
     "data": {
      "text/plain": [
       "4"
      ]
     },
     "execution_count": 61,
     "metadata": {},
     "output_type": "execute_result"
    }
   ],
   "source": [
    "solution(10)"
   ]
  },
  {
   "cell_type": "code",
   "execution_count": 62,
   "id": "c2793037",
   "metadata": {},
   "outputs": [
    {
     "data": {
      "text/plain": [
       "3"
      ]
     },
     "execution_count": 62,
     "metadata": {},
     "output_type": "execute_result"
    }
   ],
   "source": [
    "solution(5)"
   ]
  },
  {
   "cell_type": "code",
   "execution_count": null,
   "id": "e2ee5310",
   "metadata": {},
   "outputs": [],
   "source": []
  }
 ],
 "metadata": {
  "kernelspec": {
   "display_name": "Python 3 (ipykernel)",
   "language": "python",
   "name": "python3"
  },
  "language_info": {
   "codemirror_mode": {
    "name": "ipython",
    "version": 3
   },
   "file_extension": ".py",
   "mimetype": "text/x-python",
   "name": "python",
   "nbconvert_exporter": "python",
   "pygments_lexer": "ipython3",
   "version": "3.9.15"
  }
 },
 "nbformat": 4,
 "nbformat_minor": 5
}
