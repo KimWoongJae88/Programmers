{
 "cells": [
  {
   "cell_type": "markdown",
   "id": "7893ca2d",
   "metadata": {},
   "source": [
    "# 옷가게 할인 받기\n",
    " - 머쓱이네 옷가게는 10만 원 이상 사면 5%, 30만 원 이상 사면 10%, 50만 원 이상 사면 20%를 할인해줍니다. 구매한 옷의 가격 price가 주어질 때, 지불해야 할 금액을 return 하도록 solution 함수를 완성해보세요."
   ]
  },
  {
   "cell_type": "code",
   "execution_count": 1,
   "id": "ff0e0a00",
   "metadata": {},
   "outputs": [],
   "source": [
    "# 제한사항\n",
    "# 10 ≤ price ≤ 1,000,000\n",
    "# price는 10원 단위로(1의 자리가 0) 주어집니다.\n",
    "# 소수점 이하를 버린 정수를 return합니다.\n",
    "\n",
    "# price : 150,000 \n",
    "# result : 142,500"
   ]
  },
  {
   "cell_type": "code",
   "execution_count": 2,
   "id": "4f4250ff",
   "metadata": {},
   "outputs": [],
   "source": [
    "def solution(price):\n",
    "    if price < 100000:\n",
    "        return int(price)\n",
    "    if price >= 100000 and price < 300000:\n",
    "        return int(price * 0.95)\n",
    "    if price >= 300000 and price < 500000:\n",
    "        return int(price * 0.9)\n",
    "    if price >= 500000:\n",
    "        return int(price * 0.8)"
   ]
  },
  {
   "cell_type": "code",
   "execution_count": 3,
   "id": "ac1eafe5",
   "metadata": {},
   "outputs": [
    {
     "data": {
      "text/plain": [
       "142500"
      ]
     },
     "execution_count": 3,
     "metadata": {},
     "output_type": "execute_result"
    }
   ],
   "source": [
    "solution(150000)"
   ]
  },
  {
   "cell_type": "code",
   "execution_count": 4,
   "id": "001439de",
   "metadata": {},
   "outputs": [
    {
     "data": {
      "text/plain": [
       "464000"
      ]
     },
     "execution_count": 4,
     "metadata": {},
     "output_type": "execute_result"
    }
   ],
   "source": [
    "solution(580000)"
   ]
  },
  {
   "cell_type": "code",
   "execution_count": null,
   "id": "08acd626",
   "metadata": {},
   "outputs": [],
   "source": []
  }
 ],
 "metadata": {
  "kernelspec": {
   "display_name": "Python 3 (ipykernel)",
   "language": "python",
   "name": "python3"
  },
  "language_info": {
   "codemirror_mode": {
    "name": "ipython",
    "version": 3
   },
   "file_extension": ".py",
   "mimetype": "text/x-python",
   "name": "python",
   "nbconvert_exporter": "python",
   "pygments_lexer": "ipython3",
   "version": "3.9.13"
  }
 },
 "nbformat": 4,
 "nbformat_minor": 5
}
