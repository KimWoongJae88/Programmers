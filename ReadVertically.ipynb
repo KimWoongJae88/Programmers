{
 "cells": [
  {
   "cell_type": "markdown",
   "id": "2e5636d2",
   "metadata": {},
   "source": [
    "# 세로로 읽기\n",
    " - 문자열 my_string과 두 정수 m, c가 주어집니다. my_string을 한 줄에 m 글자씩 가로로 적었을 때 왼쪽부터 세로로 c번째 열에 적힌 글자들을 문자열로 return 하는 solution 함수를 작성해 주세요."
   ]
  },
  {
   "cell_type": "markdown",
   "id": "68e6be4c",
   "metadata": {},
   "source": [
    "## 제한사항\n",
    "- my_string은 영소문자로 이루어져 있습니다.\n",
    "- 1 ≤ m ≤ my_string의 길이 ≤ 1,000\n",
    "- m은 my_string 길이의 약수로만 주어집니다.\n",
    "- 1 ≤ c ≤ m\n",
    "\n",
    "## 입출력 예\n",
    "- my_string = \"ihrhbakrfpndopljhygc\"\n",
    "- m = 4\n",
    "- c = 2\n",
    "- result = \"happy\""
   ]
  },
  {
   "cell_type": "code",
   "execution_count": 22,
   "id": "b44ada1d",
   "metadata": {},
   "outputs": [],
   "source": [
    "def solution(my_string, m, c):\n",
    "    answer = ''\n",
    "    for i in range(len(my_string)//m):\n",
    "        answer += my_string[i*m:(i+1)*m][c-1]\n",
    "    return answer"
   ]
  },
  {
   "cell_type": "code",
   "execution_count": 24,
   "id": "bba6f659",
   "metadata": {},
   "outputs": [
    {
     "data": {
      "text/plain": [
       "'happy'"
      ]
     },
     "execution_count": 24,
     "metadata": {},
     "output_type": "execute_result"
    }
   ],
   "source": [
    "solution(\"ihrhbakrfpndopljhygc\", 4 ,2)"
   ]
  },
  {
   "cell_type": "code",
   "execution_count": 25,
   "id": "cf564fa9",
   "metadata": {},
   "outputs": [
    {
     "data": {
      "text/plain": [
       "'programmers'"
      ]
     },
     "execution_count": 25,
     "metadata": {},
     "output_type": "execute_result"
    }
   ],
   "source": [
    "solution(\"programmers\", 1, 1)"
   ]
  },
  {
   "cell_type": "code",
   "execution_count": null,
   "id": "5b93bb63",
   "metadata": {},
   "outputs": [],
   "source": []
  }
 ],
 "metadata": {
  "kernelspec": {
   "display_name": "Python 3 (ipykernel)",
   "language": "python",
   "name": "python3"
  },
  "language_info": {
   "codemirror_mode": {
    "name": "ipython",
    "version": 3
   },
   "file_extension": ".py",
   "mimetype": "text/x-python",
   "name": "python",
   "nbconvert_exporter": "python",
   "pygments_lexer": "ipython3",
   "version": "3.9.15"
  }
 },
 "nbformat": 4,
 "nbformat_minor": 5
}
