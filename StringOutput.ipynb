{
 "cells": [
  {
   "cell_type": "markdown",
   "id": "898aaa8a",
   "metadata": {},
   "source": [
    "# 문자열 출력하기\n",
    "- 문자열 str이 주어질 때, str을 출력하는 코드를 작성해 보세요."
   ]
  },
  {
   "cell_type": "markdown",
   "id": "ff9a093c",
   "metadata": {},
   "source": [
    "## 제한사항\n",
    "- 1 ≤ str의 길이 ≤ 1,000,000\n",
    "- str에는 공백이 없으며, 첫째 줄에 한 줄로만 주어집니다.\n",
    "\n",
    "## 입출력 예\n",
    " - 입력 #1 = HelloWorld!\n",
    " - 출력 #1 = HelloWorld!"
   ]
  },
  {
   "cell_type": "code",
   "execution_count": 1,
   "id": "f655f051",
   "metadata": {},
   "outputs": [
    {
     "name": "stdout",
     "output_type": "stream",
     "text": [
      "HelloWorld!\n",
      "HelloWorld!\n"
     ]
    }
   ],
   "source": [
    "str = input()\n",
    "print(str)"
   ]
  },
  {
   "cell_type": "code",
   "execution_count": null,
   "id": "33d7738f",
   "metadata": {},
   "outputs": [],
   "source": []
  }
 ],
 "metadata": {
  "kernelspec": {
   "display_name": "Python 3 (ipykernel)",
   "language": "python",
   "name": "python3"
  },
  "language_info": {
   "codemirror_mode": {
    "name": "ipython",
    "version": 3
   },
   "file_extension": ".py",
   "mimetype": "text/x-python",
   "name": "python",
   "nbconvert_exporter": "python",
   "pygments_lexer": "ipython3",
   "version": "3.9.15"
  }
 },
 "nbformat": 4,
 "nbformat_minor": 5
}
