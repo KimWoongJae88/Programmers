{
 "cells": [
  {
   "cell_type": "markdown",
   "id": "3948f3d2",
   "metadata": {},
   "source": [
    "# 다항식 더하기\n",
    " - 한 개 이상의 항의 합으로 이루어진 식을 다항식이라고 합니다. 다항식을 계산할 때는 동류항끼리 계산해 정리합니다. 덧셈으로 이루어진 다항식 polynomial이 매개변수로 주어질 때, 동류항끼리 더한 결괏값을 문자열로 return 하도록 solution 함수를 완성해보세요. 같은 식이라면 가장 짧은 수식을 return 합니다."
   ]
  },
  {
   "cell_type": "code",
   "execution_count": 1,
   "id": "f20b7b6c",
   "metadata": {},
   "outputs": [],
   "source": [
    "# 제한사항\n",
    "# 0 < polynomial에 있는 수 < 100\n",
    "# polynomial에 변수는 'x'만 존재합니다.\n",
    "# polynomial은 0부터 9까지의 정수, 공백, ‘x’, ‘+'로 이루어져 있습니다.\n",
    "# 항과 연산기호 사이에는 항상 공백이 존재합니다.\n",
    "# 공백은 연속되지 않으며 시작이나 끝에는 공백이 없습니다.\n",
    "# 하나의 항에서 변수가 숫자 앞에 오는 경우는 없습니다.\n",
    "# \" + 3xx + + x7 + \"와 같은 잘못된 입력은 주어지지 않습니다.\n",
    "# \"012x + 001\"처럼 0을 제외하고는 0으로 시작하는 수는 없습니다.\n",
    "# 문자와 숫자 사이의 곱하기는 생략합니다.\n",
    "# polynomial에는 일차 항과 상수항만 존재합니다.\n",
    "# 계수 1은 생략합니다.\n",
    "# 결괏값에 상수항은 마지막에 둡니다.\n",
    "# 0 < polynomial의 길이 < 50"
   ]
  },
  {
   "cell_type": "code",
   "execution_count": 2,
   "id": "97dd27ff",
   "metadata": {},
   "outputs": [],
   "source": [
    "def solution(polynomial):\n",
    "    a = []\n",
    "    b = []\n",
    "    c = 0\n",
    "    d = []\n",
    "    e = 0\n",
    "    for i in polynomial.split(' + '):\n",
    "        if 'x' in i: \n",
    "            a.append(i)  # 1차항을 a리스트에 모아주고\n",
    "        else:\n",
    "            b.append(i)  # 상수항을 b리스트에 모아준다.\n",
    "    for j in a:\n",
    "        if j[:-1].isdigit():  # 1차항에 x앞의 숫자형 문자가 계수이므로 숫자로 바꿔주고 더해준다.\n",
    "            c += int(j[:-1])\n",
    "        else:\n",
    "            c += 1  # 1차항에 계수 1은 생략이되므로 생략된 갯수만큼 더해준다.\n",
    "            \n",
    "    for h in b:  # 상수항 b는 모두 더해준다.\n",
    "        e += int(h)\n",
    "        \n",
    "    if c > 0:  # 1차항이 0일수 있으므로 조건을 걸어주고\n",
    "        if c == 1:  # 계수가 1일때 생략되므로 '1x'로 표현되지 않게한다.\n",
    "            d.append('x')\n",
    "        else:\n",
    "            d.append(str(c)+'x')  # 계수를 문자형으로 바꾸고 x를 더하여 1차항으로 표현해준다.\n",
    "    if c > 0 and e >= 1:  # 1차항과 상수가 존재할때 가운데 ' + ' 들어가겠금 위치를 잡아준다.\n",
    "        d.append(' + ')\n",
    "    if e >= 1:  # 상수가 0이 아닐때 마지막에 문자형으로 바꿔서 더해준다.\n",
    "        d.append(str(e))\n",
    "    return ''.join(d)"
   ]
  },
  {
   "cell_type": "code",
   "execution_count": 3,
   "id": "83fd44bc",
   "metadata": {},
   "outputs": [
    {
     "data": {
      "text/plain": [
       "'4x'"
      ]
     },
     "execution_count": 3,
     "metadata": {},
     "output_type": "execute_result"
    }
   ],
   "source": [
    "solution(\"2x + 2x\")"
   ]
  }
 ],
 "metadata": {
  "kernelspec": {
   "display_name": "Python 3 (ipykernel)",
   "language": "python",
   "name": "python3"
  },
  "language_info": {
   "codemirror_mode": {
    "name": "ipython",
    "version": 3
   },
   "file_extension": ".py",
   "mimetype": "text/x-python",
   "name": "python",
   "nbconvert_exporter": "python",
   "pygments_lexer": "ipython3",
   "version": "3.9.12"
  }
 },
 "nbformat": 4,
 "nbformat_minor": 5
}
