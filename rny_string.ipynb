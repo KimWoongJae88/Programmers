{
 "cells": [
  {
   "cell_type": "markdown",
   "id": "16538419",
   "metadata": {},
   "source": [
    "# rny_string\n",
    " -'m'과 \"rn\"이 모양이 비슷하게 생긴 점을 활용해 문자열에 장난을 하려고 합니다. 문자열 rny_string이 주어질 때, rny_string의 모든 'm'을 \"rn\"으로 바꾼 문자열을 return 하는 solution 함수를 작성해 주세요."
   ]
  },
  {
   "cell_type": "markdown",
   "id": "75cd678c",
   "metadata": {},
   "source": [
    "## 제한사항\n",
    "- 1 ≤ rny_string의 길이 ≤ 100\n",
    "- rny_string은 영소문자로만 이루어져 있습니다.\n",
    "\n",
    "## 입출력 예\n",
    "- rny_string = \"masterpiece\"\n",
    "- result = \"rnasterpiece\""
   ]
  },
  {
   "cell_type": "code",
   "execution_count": 1,
   "id": "32fc6b17",
   "metadata": {},
   "outputs": [],
   "source": [
    "def solution(rny_string):\n",
    "    answer = ''\n",
    "    for i in rny_string:\n",
    "        if i == 'm':\n",
    "            answer += 'rn'\n",
    "        else:\n",
    "            answer += i\n",
    "    return answer"
   ]
  },
  {
   "cell_type": "code",
   "execution_count": 2,
   "id": "06b68626",
   "metadata": {},
   "outputs": [
    {
     "data": {
      "text/plain": [
       "'rnasterpiece'"
      ]
     },
     "execution_count": 2,
     "metadata": {},
     "output_type": "execute_result"
    }
   ],
   "source": [
    "solution(\"masterpiece\")"
   ]
  },
  {
   "cell_type": "code",
   "execution_count": 3,
   "id": "bae04e92",
   "metadata": {},
   "outputs": [
    {
     "data": {
      "text/plain": [
       "'prograrnrners'"
      ]
     },
     "execution_count": 3,
     "metadata": {},
     "output_type": "execute_result"
    }
   ],
   "source": [
    "solution(\"programmers\")"
   ]
  },
  {
   "cell_type": "code",
   "execution_count": null,
   "id": "8fa45f8d",
   "metadata": {},
   "outputs": [],
   "source": []
  }
 ],
 "metadata": {
  "kernelspec": {
   "display_name": "Python 3 (ipykernel)",
   "language": "python",
   "name": "python3"
  },
  "language_info": {
   "codemirror_mode": {
    "name": "ipython",
    "version": 3
   },
   "file_extension": ".py",
   "mimetype": "text/x-python",
   "name": "python",
   "nbconvert_exporter": "python",
   "pygments_lexer": "ipython3",
   "version": "3.9.15"
  }
 },
 "nbformat": 4,
 "nbformat_minor": 5
}
