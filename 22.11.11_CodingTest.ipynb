{
 "cells": [
  {
   "cell_type": "markdown",
   "id": "1b4a6e36",
   "metadata": {},
   "source": [
    "# 약수의 개수와 덧셈\n",
    " - 두 정수 left와 right가 매개변수로 주어집니다. left부터 right까지의 모든 수들 중에서, 약수의 개수가 짝수인 수는 더하고, 약수의 개수가 홀수인 수는 뺀 수를 return 하도록 solution 함수를 완성해주세요."
   ]
  },
  {
   "cell_type": "code",
   "execution_count": 1,
   "id": "733a04a2",
   "metadata": {},
   "outputs": [],
   "source": [
    "# 제한사항\n",
    "# 1 ≤ left ≤ right ≤ 1,000"
   ]
  },
  {
   "cell_type": "code",
   "execution_count": 2,
   "id": "a51d0704",
   "metadata": {},
   "outputs": [],
   "source": [
    "def solution(left, right):\n",
    "    answer = 0\n",
    "    for i in range(left, right+1):\n",
    "        a = 0\n",
    "        for j in range(1, i+1):\n",
    "            if i % j == 0:\n",
    "                a += 1\n",
    "        if a % 2 == 0:\n",
    "            answer += i\n",
    "        else:\n",
    "            answer -= i\n",
    "    return answer"
   ]
  },
  {
   "cell_type": "code",
   "execution_count": 3,
   "id": "a41b263b",
   "metadata": {},
   "outputs": [
    {
     "data": {
      "text/plain": [
       "43"
      ]
     },
     "execution_count": 3,
     "metadata": {},
     "output_type": "execute_result"
    }
   ],
   "source": [
    "solution(13, 17)"
   ]
  },
  {
   "cell_type": "markdown",
   "id": "09c1f47c",
   "metadata": {},
   "source": [
    "---\n",
    "# 부족한 금액 계산하기\n",
    " - 새로 생긴 놀이기구는 인기가 매우 많아 줄이 끊이질 않습니다. 이 놀이기구의 원래 이용료는 price원 인데, 놀이기구를 N 번 째 이용한다면 원래 이용료의 N배를 받기로 하였습니다. 즉, 처음 이용료가 100이었다면 2번째에는 200, 3번째에는 300으로 요금이 인상됩니다. 놀이기구를 count번 타게 되면 현재 자신이 가지고 있는 금액에서 얼마가 모자라는지를 return 하도록 solution 함수를 완성하세요. 단, 금액이 부족하지 않으면 0을 return 하세요."
   ]
  },
  {
   "cell_type": "code",
   "execution_count": 4,
   "id": "f52c2cee",
   "metadata": {},
   "outputs": [],
   "source": [
    "# 제한사항\n",
    "# 놀이기구의 이용료 price : 1 ≤ price ≤ 2,500, price는 자연수\n",
    "# 처음 가지고 있던 금액 money : 1 ≤ money ≤ 1,000,000,000, money는 자연수\n",
    "# 놀이기구의 이용 횟수 count : 1 ≤ count ≤ 2,500, count는 자연수\n",
    "\n",
    "# price = 3\n",
    "# money = 20\n",
    "# count = 4\n",
    "# result = 10"
   ]
  },
  {
   "cell_type": "code",
   "execution_count": 5,
   "id": "0028a1a3",
   "metadata": {},
   "outputs": [],
   "source": [
    "def solution(price, money, count):\n",
    "    answer = 0\n",
    "    for i in range(1, count+1):\n",
    "        answer += price*i\n",
    "    if answer >= money:\n",
    "        return answer - money\n",
    "    if answer < money:\n",
    "        return 0"
   ]
  },
  {
   "cell_type": "code",
   "execution_count": 6,
   "id": "6d927c5e",
   "metadata": {},
   "outputs": [
    {
     "data": {
      "text/plain": [
       "10"
      ]
     },
     "execution_count": 6,
     "metadata": {},
     "output_type": "execute_result"
    }
   ],
   "source": [
    "solution(3, 20, 4)"
   ]
  },
  {
   "cell_type": "markdown",
   "id": "05fa2fc2",
   "metadata": {},
   "source": [
    "---\n",
    "# 행렬의 덧셈\n",
    " - 행렬의 덧셈은 행과 열의 크기가 같은 두 행렬의 같은 행, 같은 열의 값을 서로 더한 결과가 됩니다. 2개의 행렬 arr1과 arr2를 입력받아, 행렬 덧셈의 결과를 반환하는 함수, solution을 완성해주세요."
   ]
  },
  {
   "cell_type": "code",
   "execution_count": 7,
   "id": "33cffaf1",
   "metadata": {},
   "outputs": [],
   "source": [
    "# 제한 조건\n",
    "# 행렬 arr1, arr2의 행과 열의 길이는 500을 넘지 않습니다.\n",
    "\n",
    "# arr1 = [[1,2],[2,3]]\n",
    "# arr2 = [[3,4],[5,6]]\n",
    "# return = [[4,6],[7,9]]"
   ]
  },
  {
   "cell_type": "code",
   "execution_count": 8,
   "id": "43476e6c",
   "metadata": {},
   "outputs": [],
   "source": [
    "def solution(arr1, arr2):\n",
    "    answer = []\n",
    "    for i in range(len(arr1)):\n",
    "        answer+=[[]]\n",
    "        for j in range(len(arr1[i])):           \n",
    "            answer[i].append(arr1[i][j]+arr2[i][j])\n",
    "    return answer"
   ]
  },
  {
   "cell_type": "code",
   "execution_count": 9,
   "id": "55b0e06a",
   "metadata": {},
   "outputs": [
    {
     "data": {
      "text/plain": [
       "[[4, 6], [7, 9]]"
      ]
     },
     "execution_count": 9,
     "metadata": {},
     "output_type": "execute_result"
    }
   ],
   "source": [
    "solution([[1,2],[2,3]], [[3,4],[5,6]])"
   ]
  },
  {
   "cell_type": "markdown",
   "id": "0d8247b6",
   "metadata": {},
   "source": [
    "---\n",
    "# 직사각형 별찍기\n",
    " - 이 문제에는 표준 입력으로 두 개의 정수 n과 m이 주어집니다. 별(*) 문자를 이용해 가로의 길이가 n, 세로의 길이가 m인 직사각형 형태를 출력해보세요."
   ]
  },
  {
   "cell_type": "code",
   "execution_count": 1,
   "id": "7d685cb5",
   "metadata": {},
   "outputs": [],
   "source": [
    "# 제한 조건\n",
    "# n과 m은 각각 1000 이하인 자연수입니다."
   ]
  },
  {
   "cell_type": "code",
   "execution_count": 2,
   "id": "695999ba",
   "metadata": {
    "scrolled": true
   },
   "outputs": [
    {
     "name": "stdout",
     "output_type": "stream",
     "text": [
      "5 7\n",
      "*****\n",
      "*****\n",
      "*****\n",
      "*****\n",
      "*****\n",
      "*****\n",
      "*****\n"
     ]
    }
   ],
   "source": [
    "a, b = map(int, input().strip().split(' '))\n",
    "for i in range(b):\n",
    "    print('*'*a)"
   ]
  },
  {
   "cell_type": "markdown",
   "id": "4bda820f",
   "metadata": {},
   "source": [
    "---\n",
    "# 같은 숫자는 싫어\n",
    " - 배열 arr가 주어집니다. 배열 arr의 각 원소는 숫자 0부터 9까지로 이루어져 있습니다. 이때, 배열 arr에서 연속적으로 나타나는 숫자는 하나만 남기고 전부 제거하려고 합니다. 단, 제거된 후 남은 수들을 반환할 때는 배열 arr의 원소들의 순서를 유지해야 합니다. 예를 들면,\n",
    "  - arr = [1, 1, 3, 3, 0, 1, 1] 이면 [1, 3, 0, 1] 을 return 합니다.\n",
    "  - arr = [4, 4, 4, 3, 3] 이면 [4, 3] 을 return 합니다.\n",
    " - 배열 arr에서 연속적으로 나타나는 숫자는 제거하고 남은 수들을 return 하는 solution 함수를 완성해 주세요."
   ]
  },
  {
   "cell_type": "code",
   "execution_count": 3,
   "id": "24c59701",
   "metadata": {},
   "outputs": [],
   "source": [
    "# 제한사항\n",
    "# 배열 arr의 크기 : 1,000,000 이하의 자연수\n",
    "# 배열 arr의 원소의 크기 : 0보다 크거나 같고 9보다 작거나 같은 정수\n",
    "\n",
    "# arr = [1,1,3,3,0,1,1]\n",
    "# result = [1,3,0,1]"
   ]
  },
  {
   "cell_type": "code",
   "execution_count": 4,
   "id": "9cc0344d",
   "metadata": {},
   "outputs": [],
   "source": [
    "def solution(arr):\n",
    "    answer = [arr[0]]\n",
    "    for i in range(1, len(arr)):\n",
    "        if answer[-1] == arr[i]:\n",
    "            pass\n",
    "        else:\n",
    "            answer.append(arr[i])\n",
    "    return answer"
   ]
  },
  {
   "cell_type": "code",
   "execution_count": 5,
   "id": "1ea9f69d",
   "metadata": {},
   "outputs": [
    {
     "data": {
      "text/plain": [
       "[1, 3, 0, 1]"
      ]
     },
     "execution_count": 5,
     "metadata": {},
     "output_type": "execute_result"
    }
   ],
   "source": [
    "solution([1,1,3,3,0,1,1])"
   ]
  },
  {
   "cell_type": "markdown",
   "id": "6c73d388",
   "metadata": {},
   "source": [
    "---\n",
    "# 이상한 문제 만들기\n",
    " - 문자열 s는 한 개 이상의 단어로 구성되어 있습니다. 각 단어는 하나 이상의 공백문자로 구분되어 있습니다. 각 단어의 짝수번째 알파벳은 대문자로, 홀수번째 알파벳은 소문자로 바꾼 문자열을 리턴하는 함수, solution을 완성하세요."
   ]
  },
  {
   "cell_type": "code",
   "execution_count": 6,
   "id": "e15e62d3",
   "metadata": {},
   "outputs": [],
   "source": [
    "# 제한 사항\n",
    "# 문자열 전체의 짝/홀수 인덱스가 아니라, 단어(공백을 기준)별로 짝/홀수 인덱스를 판단해야합니다.\n",
    "# 첫 번째 글자는 0번째 인덱스로 보아 짝수번째 알파벳으로 처리해야 합니다.\n",
    "\n",
    "# s = \"try hello world\"\n",
    "# return = \"TrY HeLlO WoRlD\""
   ]
  },
  {
   "cell_type": "code",
   "execution_count": 7,
   "id": "2930b902",
   "metadata": {},
   "outputs": [],
   "source": [
    "def solution(s):\n",
    "    answer = ''\n",
    "    for i in s.split(' '):\n",
    "        for j in range(len(i)):\n",
    "            if j%2 == 0:\n",
    "                answer+=i[j].upper()\n",
    "            else:\n",
    "                answer+=i[j].lower()\n",
    "        answer+=' '\n",
    "    return answer[:-1]"
   ]
  },
  {
   "cell_type": "code",
   "execution_count": 8,
   "id": "4d19aa5a",
   "metadata": {
    "scrolled": true
   },
   "outputs": [
    {
     "data": {
      "text/plain": [
       "'TrY HeLlO WoRlD'"
      ]
     },
     "execution_count": 8,
     "metadata": {},
     "output_type": "execute_result"
    }
   ],
   "source": [
    "solution(\"try hello world\")"
   ]
  },
  {
   "cell_type": "markdown",
   "id": "ccb45acf",
   "metadata": {},
   "source": [
    "## 참고 사항\n",
    " - 하나 이상의 공백?"
   ]
  },
  {
   "cell_type": "code",
   "execution_count": 9,
   "id": "8425bda4",
   "metadata": {
    "scrolled": true
   },
   "outputs": [
    {
     "name": "stdout",
     "output_type": "stream",
     "text": [
      "['try', 'hello', 'world']\n",
      "['try', 'hello', '', '', 'world']\n"
     ]
    }
   ],
   "source": [
    "s = \"try hello   world\"\n",
    "print(s.split())\n",
    "print(s.split(' '))"
   ]
  },
  {
   "cell_type": "code",
   "execution_count": null,
   "id": "81fc1f84",
   "metadata": {},
   "outputs": [],
   "source": []
  }
 ],
 "metadata": {
  "kernelspec": {
   "display_name": "Python 3 (ipykernel)",
   "language": "python",
   "name": "python3"
  },
  "language_info": {
   "codemirror_mode": {
    "name": "ipython",
    "version": 3
   },
   "file_extension": ".py",
   "mimetype": "text/x-python",
   "name": "python",
   "nbconvert_exporter": "python",
   "pygments_lexer": "ipython3",
   "version": "3.9.12"
  }
 },
 "nbformat": 4,
 "nbformat_minor": 5
}
