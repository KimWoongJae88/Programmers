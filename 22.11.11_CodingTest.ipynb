{
 "cells": [
  {
   "cell_type": "markdown",
   "id": "1b4a6e36",
   "metadata": {},
   "source": [
    "# 약수의 개수와 덧셈\n",
    " - 두 정수 left와 right가 매개변수로 주어집니다. left부터 right까지의 모든 수들 중에서, 약수의 개수가 짝수인 수는 더하고, 약수의 개수가 홀수인 수는 뺀 수를 return 하도록 solution 함수를 완성해주세요."
   ]
  },
  {
   "cell_type": "code",
   "execution_count": 36,
   "id": "733a04a2",
   "metadata": {},
   "outputs": [],
   "source": [
    "# 제한사항\n",
    "# 1 ≤ left ≤ right ≤ 1,000"
   ]
  },
  {
   "cell_type": "code",
   "execution_count": 37,
   "id": "a51d0704",
   "metadata": {},
   "outputs": [],
   "source": [
    "def solution(left, right):\n",
    "    answer = 0\n",
    "    for i in range(left, right+1):\n",
    "        a = 0\n",
    "        for j in range(1, i+1):\n",
    "            if i % j == 0:\n",
    "                a += 1\n",
    "        if a % 2 == 0:\n",
    "            answer += i\n",
    "        else:\n",
    "            answer -= i\n",
    "    return answer"
   ]
  },
  {
   "cell_type": "code",
   "execution_count": 38,
   "id": "a41b263b",
   "metadata": {},
   "outputs": [
    {
     "data": {
      "text/plain": [
       "43"
      ]
     },
     "execution_count": 38,
     "metadata": {},
     "output_type": "execute_result"
    }
   ],
   "source": [
    "solution(13, 17)"
   ]
  },
  {
   "cell_type": "markdown",
   "id": "09c1f47c",
   "metadata": {},
   "source": [
    "---\n",
    "# 부족한 금액 계산하기\n",
    " - 새로 생긴 놀이기구는 인기가 매우 많아 줄이 끊이질 않습니다. 이 놀이기구의 원래 이용료는 price원 인데, 놀이기구를 N 번 째 이용한다면 원래 이용료의 N배를 받기로 하였습니다. 즉, 처음 이용료가 100이었다면 2번째에는 200, 3번째에는 300으로 요금이 인상됩니다. 놀이기구를 count번 타게 되면 현재 자신이 가지고 있는 금액에서 얼마가 모자라는지를 return 하도록 solution 함수를 완성하세요. 단, 금액이 부족하지 않으면 0을 return 하세요."
   ]
  },
  {
   "cell_type": "code",
   "execution_count": 39,
   "id": "f52c2cee",
   "metadata": {},
   "outputs": [],
   "source": [
    "# 제한사항\n",
    "# 놀이기구의 이용료 price : 1 ≤ price ≤ 2,500, price는 자연수\n",
    "# 처음 가지고 있던 금액 money : 1 ≤ money ≤ 1,000,000,000, money는 자연수\n",
    "# 놀이기구의 이용 횟수 count : 1 ≤ count ≤ 2,500, count는 자연수\n",
    "\n",
    "# price = 3\n",
    "# money = 20\n",
    "# count = 4\n",
    "# result = 10"
   ]
  },
  {
   "cell_type": "code",
   "execution_count": 41,
   "id": "0028a1a3",
   "metadata": {},
   "outputs": [],
   "source": [
    "def solution(price, money, count):\n",
    "    answer = 0\n",
    "    for i in range(1, count+1):\n",
    "        answer += price*i\n",
    "    if answer >= money:\n",
    "        return answer - money\n",
    "    if answer < money:\n",
    "        return 0"
   ]
  },
  {
   "cell_type": "code",
   "execution_count": 42,
   "id": "6d927c5e",
   "metadata": {},
   "outputs": [
    {
     "data": {
      "text/plain": [
       "10"
      ]
     },
     "execution_count": 42,
     "metadata": {},
     "output_type": "execute_result"
    }
   ],
   "source": [
    "solution(3, 20, 4)"
   ]
  },
  {
   "cell_type": "markdown",
   "id": "05fa2fc2",
   "metadata": {},
   "source": [
    "---\n",
    "# 행렬의 덧셈\n",
    " - 행렬의 덧셈은 행과 열의 크기가 같은 두 행렬의 같은 행, 같은 열의 값을 서로 더한 결과가 됩니다. 2개의 행렬 arr1과 arr2를 입력받아, 행렬 덧셈의 결과를 반환하는 함수, solution을 완성해주세요."
   ]
  },
  {
   "cell_type": "code",
   "execution_count": null,
   "id": "33cffaf1",
   "metadata": {},
   "outputs": [],
   "source": [
    "# 제한 조건\n",
    "# 행렬 arr1, arr2의 행과 열의 길이는 500을 넘지 않습니다.\n",
    "\n",
    "# arr1 = [[1,2],[2,3]]\n",
    "# arr2 = [[3,4],[5,6]]\n",
    "# return = [[4,6],[7,9]]"
   ]
  },
  {
   "cell_type": "code",
   "execution_count": 45,
   "id": "43476e6c",
   "metadata": {},
   "outputs": [],
   "source": [
    "def solution(arr1, arr2):\n",
    "    answer = []\n",
    "    for i in range(len(arr1)):\n",
    "        answer.append([arr1+arr2])\n",
    "    return answer"
   ]
  },
  {
   "cell_type": "code",
   "execution_count": 47,
   "id": "55b0e06a",
   "metadata": {},
   "outputs": [
    {
     "data": {
      "text/plain": [
       "[[[[1, 2], [2, 3], [3, 4], [5, 6]]], [[[1, 2], [2, 3], [3, 4], [5, 6]]]]"
      ]
     },
     "execution_count": 47,
     "metadata": {},
     "output_type": "execute_result"
    }
   ],
   "source": [
    "solution([[1,2],[2,3]], [[3,4],[5,6]])"
   ]
  },
  {
   "cell_type": "code",
   "execution_count": 50,
   "id": "dbd5ddba",
   "metadata": {},
   "outputs": [
    {
     "data": {
      "text/plain": [
       "[1, 2, 2, 3]"
      ]
     },
     "execution_count": 50,
     "metadata": {},
     "output_type": "execute_result"
    }
   ],
   "source": [
    "[1,2]+[2,3]"
   ]
  },
  {
   "cell_type": "code",
   "execution_count": null,
   "id": "83bca893",
   "metadata": {},
   "outputs": [],
   "source": []
  }
 ],
 "metadata": {
  "kernelspec": {
   "display_name": "Python 3 (ipykernel)",
   "language": "python",
   "name": "python3"
  },
  "language_info": {
   "codemirror_mode": {
    "name": "ipython",
    "version": 3
   },
   "file_extension": ".py",
   "mimetype": "text/x-python",
   "name": "python",
   "nbconvert_exporter": "python",
   "pygments_lexer": "ipython3",
   "version": "3.9.12"
  }
 },
 "nbformat": 4,
 "nbformat_minor": 5
}
