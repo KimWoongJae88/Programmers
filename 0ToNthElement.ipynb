{
 "cells": [
  {
   "cell_type": "markdown",
   "id": "aec8d8cb",
   "metadata": {},
   "source": [
    "# n번째 원소까지\n",
    " - 정수 리스트 num_list와 정수 n이 주어질 때, num_list의 첫 번째 원소부터 n 번째 원소까지의 모든 원소를 담은 리스트를 return하"
   ]
  },
  {
   "cell_type": "markdown",
   "id": "df994461",
   "metadata": {},
   "source": [
    "## 제한사항\n",
    "- 2 ≤ num_list의 길이 ≤ 30\n",
    "- 1 ≤ num_list의 원소 ≤ 9\n",
    "- 1 ≤ n ≤ num_list의 길이 ___\n",
    "\n",
    "## 입출력 예\n",
    "- num_list = [2, 1, 6]\n",
    "- n = 1\n",
    "- result = [2]"
   ]
  },
  {
   "cell_type": "code",
   "execution_count": 1,
   "id": "d5973440",
   "metadata": {},
   "outputs": [],
   "source": [
    "def solution(num_list, n):\n",
    "    return num_list[:n]"
   ]
  },
  {
   "cell_type": "code",
   "execution_count": 2,
   "id": "dd310d66",
   "metadata": {},
   "outputs": [
    {
     "data": {
      "text/plain": [
       "[2]"
      ]
     },
     "execution_count": 2,
     "metadata": {},
     "output_type": "execute_result"
    }
   ],
   "source": [
    "solution([2, 1, 6], 1)"
   ]
  },
  {
   "cell_type": "code",
   "execution_count": 3,
   "id": "d6e60c49",
   "metadata": {},
   "outputs": [
    {
     "data": {
      "text/plain": [
       "[5, 2, 1]"
      ]
     },
     "execution_count": 3,
     "metadata": {},
     "output_type": "execute_result"
    }
   ],
   "source": [
    "solution([5, 2, 1, 7, 5], 3)"
   ]
  },
  {
   "cell_type": "code",
   "execution_count": null,
   "id": "4278b6e2",
   "metadata": {},
   "outputs": [],
   "source": []
  }
 ],
 "metadata": {
  "kernelspec": {
   "display_name": "Python 3 (ipykernel)",
   "language": "python",
   "name": "python3"
  },
  "language_info": {
   "codemirror_mode": {
    "name": "ipython",
    "version": 3
   },
   "file_extension": ".py",
   "mimetype": "text/x-python",
   "name": "python",
   "nbconvert_exporter": "python",
   "pygments_lexer": "ipython3",
   "version": "3.9.15"
  }
 },
 "nbformat": 4,
 "nbformat_minor": 5
}
