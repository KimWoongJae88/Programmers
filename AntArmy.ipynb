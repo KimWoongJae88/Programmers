{
 "cells": [
  {
   "cell_type": "markdown",
   "id": "da55558f",
   "metadata": {},
   "source": [
    "# 개미 군단\n",
    " - 개미 군단이 사냥을 나가려고 합니다. 개미군단은 사냥감의 체력에 딱 맞는 병력을 데리고 나가려고 합니다. 장군개미는 5의 공격력을, 병정개미는 3의 공격력을 일개미는 1의 공격력을 가지고 있습니다. 예를 들어 체력 23의 여치를 사냥하려고 할 때, 일개미 23마리를 데리고 가도 되지만, 장군개미 네 마리와 병정개미 한 마리를 데리고 간다면 더 적은 병력으로 사냥할 수 있습니다. 사냥감의 체력 hp가 매개변수로 주어질 때, 사냥감의 체력에 딱 맞게 최소한의 병력을 구성하려면 몇 마리의 개미가 필요한지를 return하도록 solution 함수를 완성해주세요."
   ]
  },
  {
   "cell_type": "code",
   "execution_count": 1,
   "id": "64c1d092",
   "metadata": {},
   "outputs": [],
   "source": [
    "# 제한사항\n",
    "# hp는 자연수입니다.\n",
    "# 0 ≤ hp ≤ 1000\n",
    "\n",
    "# hp : 23\n",
    "# result : 5"
   ]
  },
  {
   "cell_type": "code",
   "execution_count": 2,
   "id": "bbf014d7",
   "metadata": {},
   "outputs": [],
   "source": [
    "def solution(hp):\n",
    "    answer = 0\n",
    "    if hp % 5 == 0:\n",
    "        answer += (hp//5)\n",
    "    if hp % 5 != 0:\n",
    "        if hp%5%3 == 0:\n",
    "            answer += (hp//5)\n",
    "            answer += (hp%5//3)\n",
    "        elif hp%5%3 != 0:\n",
    "            answer += (hp//5)\n",
    "            answer += (hp%5//3)\n",
    "            answer += (hp%5%3//1)\n",
    "    return answer"
   ]
  },
  {
   "cell_type": "code",
   "execution_count": 3,
   "id": "04ead706",
   "metadata": {},
   "outputs": [
    {
     "data": {
      "text/plain": [
       "5"
      ]
     },
     "execution_count": 3,
     "metadata": {},
     "output_type": "execute_result"
    }
   ],
   "source": [
    "solution(23)"
   ]
  },
  {
   "cell_type": "code",
   "execution_count": 4,
   "id": "678b20f2",
   "metadata": {},
   "outputs": [
    {
     "data": {
      "text/plain": [
       "6"
      ]
     },
     "execution_count": 4,
     "metadata": {},
     "output_type": "execute_result"
    }
   ],
   "source": [
    "solution(24)"
   ]
  },
  {
   "cell_type": "code",
   "execution_count": 5,
   "id": "878a8614",
   "metadata": {},
   "outputs": [
    {
     "data": {
      "text/plain": [
       "201"
      ]
     },
     "execution_count": 5,
     "metadata": {},
     "output_type": "execute_result"
    }
   ],
   "source": [
    "solution(999)"
   ]
  },
  {
   "cell_type": "code",
   "execution_count": null,
   "id": "4253a6a7",
   "metadata": {},
   "outputs": [],
   "source": []
  }
 ],
 "metadata": {
  "kernelspec": {
   "display_name": "Python 3 (ipykernel)",
   "language": "python",
   "name": "python3"
  },
  "language_info": {
   "codemirror_mode": {
    "name": "ipython",
    "version": 3
   },
   "file_extension": ".py",
   "mimetype": "text/x-python",
   "name": "python",
   "nbconvert_exporter": "python",
   "pygments_lexer": "ipython3",
   "version": "3.9.15"
  }
 },
 "nbformat": 4,
 "nbformat_minor": 5
}
