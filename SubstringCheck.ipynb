{
 "cells": [
  {
   "cell_type": "markdown",
   "id": "63a59623",
   "metadata": {},
   "source": [
    "# 부분 문자열인지 확인하기\n",
    " - 부분 문자열이란 문자열에서 연속된 일부분에 해당하는 문자열을 의미합니다. 예를 들어, 문자열 \"ana\", \"ban\", \"anana\", \"banana\", \"n\"는 모두 문자열 \"banana\"의 부분 문자열이지만, \"aaa\", \"bnana\", \"wxyz\"는 모두 \"banana\"의 부분 문자열이 아닙니다. 문자열 my_string과 target이 매개변수로 주어질 때, target이 문자열 my_string의 부분 문자열이라면 1을, 아니라면 0을 return 하는 solution 함수를 작성해 주세요."
   ]
  },
  {
   "cell_type": "markdown",
   "id": "5b3c554e",
   "metadata": {},
   "source": [
    "## 제한사항\n",
    " - 1 ≤ my_string의 길이 ≤ 100\n",
    " - my_string은 영소문자로만 이루어져 있습니다.\n",
    " - 1 ≤ target의 길이 ≤ 100\n",
    " - target은 영소문자로만 이루어져 있습니다.\n",
    "\n",
    "## 입출력 예\n",
    " - my_string = \"banana\"\n",
    " - target = \"ana\"\n",
    " - result = 1"
   ]
  },
  {
   "cell_type": "code",
   "execution_count": 1,
   "id": "6e657c94",
   "metadata": {},
   "outputs": [],
   "source": [
    "def solution(my_string, target):\n",
    "    if target in my_string:\n",
    "        return 1\n",
    "    else:\n",
    "        return 0"
   ]
  },
  {
   "cell_type": "code",
   "execution_count": 2,
   "id": "8479c612",
   "metadata": {},
   "outputs": [
    {
     "data": {
      "text/plain": [
       "1"
      ]
     },
     "execution_count": 2,
     "metadata": {},
     "output_type": "execute_result"
    }
   ],
   "source": [
    "solution(\"banana\", \"ana\")"
   ]
  },
  {
   "cell_type": "code",
   "execution_count": 3,
   "id": "e062aaab",
   "metadata": {},
   "outputs": [
    {
     "data": {
      "text/plain": [
       "0"
      ]
     },
     "execution_count": 3,
     "metadata": {},
     "output_type": "execute_result"
    }
   ],
   "source": [
    "solution(\"banana\", \"xzxc\")"
   ]
  },
  {
   "cell_type": "code",
   "execution_count": null,
   "id": "d95b9e8c",
   "metadata": {},
   "outputs": [],
   "source": []
  }
 ],
 "metadata": {
  "kernelspec": {
   "display_name": "Python 3 (ipykernel)",
   "language": "python",
   "name": "python3"
  },
  "language_info": {
   "codemirror_mode": {
    "name": "ipython",
    "version": 3
   },
   "file_extension": ".py",
   "mimetype": "text/x-python",
   "name": "python",
   "nbconvert_exporter": "python",
   "pygments_lexer": "ipython3",
   "version": "3.9.15"
  }
 },
 "nbformat": 4,
 "nbformat_minor": 5
}
