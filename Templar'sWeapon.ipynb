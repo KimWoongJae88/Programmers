{
 "cells": [
  {
   "cell_type": "markdown",
   "id": "ff470539",
   "metadata": {},
   "source": [
    "# 기사단원의 무기\n",
    " - 숫자나라 기사단의 각 기사에게는 1번부터 number까지 번호가 지정되어 있습니다. 기사들은 무기점에서 무기를 구매하려고 합니다.\n",
    "\n",
    " - 각 기사는 자신의 기사 번호의 약수 개수에 해당하는 공격력을 가진 무기를 구매하려 합니다. 단, 이웃나라와의 협약에 의해 공격력의 제한수치를 정하고, 제한수치보다 큰 공격력을 가진 무기를 구매해야 하는 기사는 협약기관에서 정한 공격력을 가지는 무기를 구매해야 합니다.\n",
    "\n",
    " - 예를 들어, 15번으로 지정된 기사단원은 15의 약수가 1, 3, 5, 15로 4개 이므로, 공격력이 4인 무기를 구매합니다. 만약, 이웃나라와의 협약으로 정해진 공격력의 제한수치가 3이고 제한수치를 초과한 기사가 사용할 무기의 공격력이 2라면, 15번으로 지정된 기사단원은 무기점에서 공격력이 2인 무기를 구매합니다. 무기를 만들 때, 무기의 공격력 1당 1kg의 철이 필요합니다. 그래서 무기점에서 무기를 모두 만들기 위해 필요한 철의 무게를 미리 계산하려 합니다.\n",
    "\n",
    " - 기사단원의 수를 나타내는 정수 number와 이웃나라와 협약으로 정해진 공격력의 제한수치를 나타내는 정수 limit와 제한수치를 초과한 기사가 사용할 무기의 공격력을 나타내는 정수 power가 주어졌을 때, 무기점의 주인이 무기를 모두 만들기 위해 필요한 철의 무게를 return 하는 solution 함수를 완성하시오."
   ]
  },
  {
   "cell_type": "markdown",
   "id": "2bccb93c",
   "metadata": {},
   "source": [
    "## 제한사항\n",
    " - 1 ≤ number ≤ 100,000\n",
    " - 2 ≤ limit ≤ 100\n",
    " - 1 ≤ power ≤ limit\n",
    "\n",
    "## 입출력 예\n",
    " - number = 5\n",
    " - limit = 3\n",
    " - power = 2\n",
    " - result = 10"
   ]
  },
  {
   "cell_type": "code",
   "execution_count": 47,
   "id": "d9dc32cb",
   "metadata": {},
   "outputs": [],
   "source": [
    "number = 5\n",
    "limit = 3\n",
    "power = 2\n",
    "answer = []"
   ]
  },
  {
   "cell_type": "code",
   "execution_count": 48,
   "id": "c90acdc2",
   "metadata": {},
   "outputs": [],
   "source": [
    "for i in range(1, number+1):\n",
    "    a = 0\n",
    "    for j in range(1, i+1):\n",
    "        if i % j == 0:\n",
    "            a += 1\n",
    "    if a > limit:\n",
    "        a == power\n",
    "    answer.append(a)"
   ]
  },
  {
   "cell_type": "code",
   "execution_count": 49,
   "id": "f3ede467",
   "metadata": {},
   "outputs": [
    {
     "data": {
      "text/plain": [
       "[1, 2, 2, 3, 2]"
      ]
     },
     "execution_count": 49,
     "metadata": {},
     "output_type": "execute_result"
    }
   ],
   "source": [
    "answer"
   ]
  },
  {
   "cell_type": "code",
   "execution_count": 26,
   "id": "dd0365ef",
   "metadata": {},
   "outputs": [
    {
     "data": {
      "text/plain": [
       "0"
      ]
     },
     "execution_count": 26,
     "metadata": {},
     "output_type": "execute_result"
    }
   ],
   "source": [
    "1 % 1"
   ]
  },
  {
   "cell_type": "code",
   "execution_count": 174,
   "id": "32960e4e",
   "metadata": {},
   "outputs": [],
   "source": [
    "def solution(number, limit, power):\n",
    "    answer = []\n",
    "    for i in range(1, int(number**0.5)+1):\n",
    "        a = 0\n",
    "        if i == j**2:\n",
    "            a += 1\n",
    "        if i % j == 0:\n",
    "            a += 2\n",
    "        if a > limit:\n",
    "            a = power\n",
    "        answer.append(a)\n",
    "    return answer"
   ]
  },
  {
   "cell_type": "code",
   "execution_count": 175,
   "id": "16c70f2c",
   "metadata": {},
   "outputs": [
    {
     "data": {
      "text/plain": [
       "[3, 2]"
      ]
     },
     "execution_count": 175,
     "metadata": {},
     "output_type": "execute_result"
    }
   ],
   "source": [
    "solution(5, 3, 2)"
   ]
  },
  {
   "cell_type": "code",
   "execution_count": 176,
   "id": "1cf61440",
   "metadata": {},
   "outputs": [
    {
     "data": {
      "text/plain": [
       "[3, 2, 2]"
      ]
     },
     "execution_count": 176,
     "metadata": {},
     "output_type": "execute_result"
    }
   ],
   "source": [
    "solution(10, 3, 2)"
   ]
  },
  {
   "cell_type": "code",
   "execution_count": 159,
   "id": "dddfcdde",
   "metadata": {},
   "outputs": [
    {
     "data": {
      "text/plain": [
       "2.0"
      ]
     },
     "execution_count": 159,
     "metadata": {},
     "output_type": "execute_result"
    }
   ],
   "source": [
    "4/2"
   ]
  },
  {
   "cell_type": "code",
   "execution_count": 170,
   "id": "9b4f3337",
   "metadata": {},
   "outputs": [
    {
     "data": {
      "text/plain": [
       "1.4142135623730951"
      ]
     },
     "execution_count": 170,
     "metadata": {},
     "output_type": "execute_result"
    }
   ],
   "source": [
    "2**0.5"
   ]
  },
  {
   "cell_type": "code",
   "execution_count": null,
   "id": "0bd858a5",
   "metadata": {},
   "outputs": [],
   "source": []
  }
 ],
 "metadata": {
  "kernelspec": {
   "display_name": "Python 3 (ipykernel)",
   "language": "python",
   "name": "python3"
  },
  "language_info": {
   "codemirror_mode": {
    "name": "ipython",
    "version": 3
   },
   "file_extension": ".py",
   "mimetype": "text/x-python",
   "name": "python",
   "nbconvert_exporter": "python",
   "pygments_lexer": "ipython3",
   "version": "3.9.15"
  }
 },
 "nbformat": 4,
 "nbformat_minor": 5
}
