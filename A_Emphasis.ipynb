{
 "cells": [
  {
   "cell_type": "markdown",
   "id": "398d7061",
   "metadata": {},
   "source": [
    "# A 강조하기\n",
    " - 문자열 myString이 주어집니다. myString에서 알파벳 \"a\"가 등장하면 전부 \"A\"로 변환하고, \"A\"가 아닌 모든 대문자 알파벳은 소문자 알파벳으로 변환하여 return 하는 solution 함수를 완성하세요."
   ]
  },
  {
   "cell_type": "markdown",
   "id": "58f5d519",
   "metadata": {},
   "source": [
    "## 제한사항\n",
    "- 1 ≤ myString의 길이 ≤ 20\n",
    "- myString은 알파벳으로 이루어진 문자열입니다.\n",
    "\n",
    "## 입출력 예\n",
    "- myString = \"abstract algebra\"\n",
    "- result = \"AbstrAct AlgebrA\""
   ]
  },
  {
   "cell_type": "code",
   "execution_count": 1,
   "id": "e9a9e658",
   "metadata": {},
   "outputs": [],
   "source": [
    "def solution(myString):\n",
    "    myString = myString.lower()\n",
    "    answer = ''\n",
    "    for i in myString:\n",
    "        if i == 'a':\n",
    "            answer += i.upper()\n",
    "        else:\n",
    "            answer += i\n",
    "    return answer"
   ]
  },
  {
   "cell_type": "code",
   "execution_count": 2,
   "id": "9ca156fb",
   "metadata": {},
   "outputs": [
    {
     "data": {
      "text/plain": [
       "'AbstrAct AlgebrA'"
      ]
     },
     "execution_count": 2,
     "metadata": {},
     "output_type": "execute_result"
    }
   ],
   "source": [
    "solution(\"abstract algebra\")"
   ]
  },
  {
   "cell_type": "code",
   "execution_count": 3,
   "id": "9b4e1103",
   "metadata": {},
   "outputs": [
    {
     "data": {
      "text/plain": [
       "'progrAmmers'"
      ]
     },
     "execution_count": 3,
     "metadata": {},
     "output_type": "execute_result"
    }
   ],
   "source": [
    "solution(\"PrOgRaMmErS\")"
   ]
  },
  {
   "cell_type": "code",
   "execution_count": null,
   "id": "dd7ff53d",
   "metadata": {},
   "outputs": [],
   "source": []
  }
 ],
 "metadata": {
  "kernelspec": {
   "display_name": "Python 3 (ipykernel)",
   "language": "python",
   "name": "python3"
  },
  "language_info": {
   "codemirror_mode": {
    "name": "ipython",
    "version": 3
   },
   "file_extension": ".py",
   "mimetype": "text/x-python",
   "name": "python",
   "nbconvert_exporter": "python",
   "pygments_lexer": "ipython3",
   "version": "3.9.15"
  }
 },
 "nbformat": 4,
 "nbformat_minor": 5
}
