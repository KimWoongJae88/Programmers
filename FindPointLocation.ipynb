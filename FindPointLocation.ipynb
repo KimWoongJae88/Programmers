{
 "cells": [
  {
   "cell_type": "markdown",
   "id": "458f4b4d",
   "metadata": {},
   "source": [
    "# 점의 위치 구하기\n",
    " - 사분면은 한 평면을 x축과 y축을 기준으로 나눈 네 부분입니다. 사분면은 아래와 같이 1부터 4까지 번호를매깁니다.\n",
    " - x 좌표와 y 좌표가 모두 양수이면 제1사분면에 속합니다.\n",
    " - x 좌표가 음수, y 좌표가 양수이면 제2사분면에 속합니다.\n",
    " - x 좌표와 y 좌표가 모두 음수이면 제3사분면에 속합니다.\n",
    " - x 좌표가 양수, y 좌표가 음수이면 제4사분면에 속합니다.\n",
    "  - x 좌표 (x, y)를 차례대로 담은 정수 배열 dot이 매개변수로 주어집니다. 좌표 dot이 사분면 중 어디에 속하는지 1, 2, 3, 4 중 하나를 return 하도록 solution 함수를 완성해주세요."
   ]
  },
  {
   "cell_type": "code",
   "execution_count": 1,
   "id": "934c98fc",
   "metadata": {},
   "outputs": [],
   "source": [
    "# 제한사항\n",
    "# dot의 길이 = 2\n",
    "# dot[0]은 x좌표를, dot[1]은 y좌표를 나타냅니다\n",
    "# -500 ≤ dot의 원소 ≤ 500\n",
    "# dot의 원소는 0이 아닙니다.\n",
    "\n",
    "# dot : [2, 4]\n",
    "# result : 1"
   ]
  },
  {
   "cell_type": "code",
   "execution_count": 2,
   "id": "6f85bbfe",
   "metadata": {},
   "outputs": [],
   "source": [
    "def solution(dot):\n",
    "    if dot[0] > 0 and dot[1] > 0:\n",
    "        return 1\n",
    "    elif dot[0] < 0 and dot[1] > 0:\n",
    "        return 2\n",
    "    elif dot[0] < 0 and dot[1] < 0:\n",
    "        return 3\n",
    "    else:\n",
    "        return 4"
   ]
  },
  {
   "cell_type": "code",
   "execution_count": 3,
   "id": "15635835",
   "metadata": {},
   "outputs": [
    {
     "data": {
      "text/plain": [
       "1"
      ]
     },
     "execution_count": 3,
     "metadata": {},
     "output_type": "execute_result"
    }
   ],
   "source": [
    "solution([2, 4])"
   ]
  },
  {
   "cell_type": "code",
   "execution_count": 4,
   "id": "d20c5f2a",
   "metadata": {},
   "outputs": [
    {
     "data": {
      "text/plain": [
       "2"
      ]
     },
     "execution_count": 4,
     "metadata": {},
     "output_type": "execute_result"
    }
   ],
   "source": [
    "solution([-7, 9])"
   ]
  },
  {
   "cell_type": "code",
   "execution_count": null,
   "id": "266bd870",
   "metadata": {},
   "outputs": [],
   "source": []
  }
 ],
 "metadata": {
  "kernelspec": {
   "display_name": "Python 3 (ipykernel)",
   "language": "python",
   "name": "python3"
  },
  "language_info": {
   "codemirror_mode": {
    "name": "ipython",
    "version": 3
   },
   "file_extension": ".py",
   "mimetype": "text/x-python",
   "name": "python",
   "nbconvert_exporter": "python",
   "pygments_lexer": "ipython3",
   "version": "3.9.15"
  }
 },
 "nbformat": 4,
 "nbformat_minor": 5
}
