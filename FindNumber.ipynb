{
 "cells": [
  {
   "cell_type": "markdown",
   "id": "39fa9a26",
   "metadata": {},
   "source": [
    "# 숫자 찾기\n",
    " - 정수 num과 k가 매개변수로 주어질 때, num을 이루는 숫자 중에 k가 있으면 num의 그 숫자가 있는 자리 수를 return하고 없으면 -1을 return 하도록 solution 함수를 완성해보세요."
   ]
  },
  {
   "cell_type": "code",
   "execution_count": 1,
   "id": "8f886a8a",
   "metadata": {},
   "outputs": [],
   "source": [
    "# 제한사항\n",
    "# 0 < num < 1,000,000\n",
    "# 0 ≤ k < 10\n",
    "# num에 k가 여러 개 있으면 가장 처음 나타나는 자리를 return 합니다.\n",
    "\n",
    "# num : 29183\n",
    "# k : 1\n",
    "# result : 3"
   ]
  },
  {
   "cell_type": "code",
   "execution_count": 2,
   "id": "b4509eeb",
   "metadata": {},
   "outputs": [],
   "source": [
    "def solution(num, k):\n",
    "    a = ''\n",
    "    a+=str(num)\n",
    "    k=str(k)\n",
    "    if k in a:\n",
    "        return int(a.find(k))+1\n",
    "    else:\n",
    "        return -1"
   ]
  },
  {
   "cell_type": "code",
   "execution_count": 3,
   "id": "0c9964e0",
   "metadata": {},
   "outputs": [
    {
     "data": {
      "text/plain": [
       "3"
      ]
     },
     "execution_count": 3,
     "metadata": {},
     "output_type": "execute_result"
    }
   ],
   "source": [
    "solution(29183, 1)"
   ]
  },
  {
   "cell_type": "code",
   "execution_count": 4,
   "id": "70773a9b",
   "metadata": {},
   "outputs": [
    {
     "data": {
      "text/plain": [
       "-1"
      ]
     },
     "execution_count": 4,
     "metadata": {},
     "output_type": "execute_result"
    }
   ],
   "source": [
    "solution(123456, 7)"
   ]
  },
  {
   "cell_type": "code",
   "execution_count": null,
   "id": "3c453bcb",
   "metadata": {},
   "outputs": [],
   "source": []
  }
 ],
 "metadata": {
  "kernelspec": {
   "display_name": "Python 3 (ipykernel)",
   "language": "python",
   "name": "python3"
  },
  "language_info": {
   "codemirror_mode": {
    "name": "ipython",
    "version": 3
   },
   "file_extension": ".py",
   "mimetype": "text/x-python",
   "name": "python",
   "nbconvert_exporter": "python",
   "pygments_lexer": "ipython3",
   "version": "3.9.15"
  }
 },
 "nbformat": 4,
 "nbformat_minor": 5
}
