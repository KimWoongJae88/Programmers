{
 "cells": [
  {
   "cell_type": "markdown",
   "id": "ce551fe3",
   "metadata": {},
   "source": [
    "# 외계행성의 나이\n",
    " - 우주여행을 하던 머쓱이는 엔진 고장으로 PROGRAMMERS-962 행성에 불시착하게 됐습니다. 입국심사에서 나이를 말해야 하는데, PROGRAMMERS-962 행성에서는 나이를 알파벳으로 말하고 있습니다. a는 0, b는 1, c는 2, ..., j는 9입니다. 예를 들어 23살은 cd, 51살은 fb로 표현합니다. 나이 age가 매개변수로 주어질 때 PROGRAMMER-962식 나이를 return하도록 solution 함수를 완성해주세요."
   ]
  },
  {
   "cell_type": "code",
   "execution_count": 1,
   "id": "21c1589d",
   "metadata": {},
   "outputs": [],
   "source": [
    "# 제한사항\n",
    "# age는 자연수입니다.\n",
    "# age ≤ 1,000\n",
    "# PROGRAMMERS-962 행성은 알파벳 소문자만 사용합니다.\n",
    "\n",
    "# age : 23\n",
    "# result : \"cd\""
   ]
  },
  {
   "cell_type": "code",
   "execution_count": 2,
   "id": "8df1512b",
   "metadata": {},
   "outputs": [],
   "source": [
    "def solution(age):\n",
    "    a = ['a','b','c','d','e','f','g','h','i','j']\n",
    "    if len(str(age)) == 1:\n",
    "        return a[age]\n",
    "    if len(str(age)) == 2:\n",
    "        return a[age//10] + a[age%10]\n",
    "    if len(str(age)) == 3:\n",
    "        return a[age//100] + a[age%100//10] + a[age%100%10]\n",
    "    if len(str(age)) == 4:\n",
    "        return 'baaa'"
   ]
  },
  {
   "cell_type": "code",
   "execution_count": 3,
   "id": "88bf44f3",
   "metadata": {},
   "outputs": [
    {
     "data": {
      "text/plain": [
       "'cd'"
      ]
     },
     "execution_count": 3,
     "metadata": {},
     "output_type": "execute_result"
    }
   ],
   "source": [
    "solution(23)"
   ]
  },
  {
   "cell_type": "code",
   "execution_count": 4,
   "id": "c81f38d2",
   "metadata": {},
   "outputs": [
    {
     "data": {
      "text/plain": [
       "'fb'"
      ]
     },
     "execution_count": 4,
     "metadata": {},
     "output_type": "execute_result"
    }
   ],
   "source": [
    "solution(51)"
   ]
  },
  {
   "cell_type": "code",
   "execution_count": 5,
   "id": "11f6472a",
   "metadata": {},
   "outputs": [
    {
     "data": {
      "text/plain": [
       "'baa'"
      ]
     },
     "execution_count": 5,
     "metadata": {},
     "output_type": "execute_result"
    }
   ],
   "source": [
    "solution(100)"
   ]
  },
  {
   "cell_type": "code",
   "execution_count": null,
   "id": "165a20f2",
   "metadata": {},
   "outputs": [],
   "source": []
  }
 ],
 "metadata": {
  "kernelspec": {
   "display_name": "Python 3 (ipykernel)",
   "language": "python",
   "name": "python3"
  },
  "language_info": {
   "codemirror_mode": {
    "name": "ipython",
    "version": 3
   },
   "file_extension": ".py",
   "mimetype": "text/x-python",
   "name": "python",
   "nbconvert_exporter": "python",
   "pygments_lexer": "ipython3",
   "version": "3.9.15"
  }
 },
 "nbformat": 4,
 "nbformat_minor": 5
}
