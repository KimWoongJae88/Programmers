{
 "cells": [
  {
   "cell_type": "markdown",
   "id": "884c7462",
   "metadata": {},
   "source": [
    "# 7의 개수\n",
    " - 머쓱이는 행운의 숫자 7을 가장 좋아합니다. 정수 배열 array가 매개변수로 주어질 때, 7이 총 몇 개 있는지 return 하도록 solution 함수를 완성해보세요."
   ]
  },
  {
   "cell_type": "markdown",
   "id": "254eb3ca",
   "metadata": {},
   "source": [
    "## 제한사항\n",
    " - 1 ≤ array의 길이 ≤ 100\n",
    " - 0 ≤ array의 원소 ≤ 100,000\n",
    "\n",
    "## 입출력 예\n",
    " - array : [7, 77, 17]\n",
    " - result : 4"
   ]
  },
  {
   "cell_type": "code",
   "execution_count": 1,
   "id": "e922daf2",
   "metadata": {},
   "outputs": [],
   "source": [
    "def solution(array):\n",
    "    a = []\n",
    "    b = 0\n",
    "    for i in array:\n",
    "        a += str(i)\n",
    "    for j in a:\n",
    "        if j == '7':\n",
    "            b += 1\n",
    "    return b"
   ]
  },
  {
   "cell_type": "code",
   "execution_count": 2,
   "id": "8d17d269",
   "metadata": {},
   "outputs": [
    {
     "data": {
      "text/plain": [
       "4"
      ]
     },
     "execution_count": 2,
     "metadata": {},
     "output_type": "execute_result"
    }
   ],
   "source": [
    "solution([7, 77, 17])"
   ]
  },
  {
   "cell_type": "code",
   "execution_count": 3,
   "id": "2d9913dc",
   "metadata": {},
   "outputs": [
    {
     "data": {
      "text/plain": [
       "0"
      ]
     },
     "execution_count": 3,
     "metadata": {},
     "output_type": "execute_result"
    }
   ],
   "source": [
    "solution([10, 29])"
   ]
  },
  {
   "cell_type": "code",
   "execution_count": null,
   "id": "99223646",
   "metadata": {},
   "outputs": [],
   "source": []
  }
 ],
 "metadata": {
  "kernelspec": {
   "display_name": "Python 3 (ipykernel)",
   "language": "python",
   "name": "python3"
  },
  "language_info": {
   "codemirror_mode": {
    "name": "ipython",
    "version": 3
   },
   "file_extension": ".py",
   "mimetype": "text/x-python",
   "name": "python",
   "nbconvert_exporter": "python",
   "pygments_lexer": "ipython3",
   "version": "3.9.15"
  }
 },
 "nbformat": 4,
 "nbformat_minor": 5
}
