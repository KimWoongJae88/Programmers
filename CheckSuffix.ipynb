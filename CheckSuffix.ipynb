{
 "cells": [
  {
   "cell_type": "markdown",
   "id": "635e088d",
   "metadata": {},
   "source": [
    "# 접미사인지 확인하기\n",
    " - 어떤 문자열에 대해서 접미사는 특정 인덱스부터 시작하는 문자열을 의미합니다. 예를 들어, \"banana\"의 모든 접미사는 \"banana\", \"anana\", \"nana\", \"ana\", \"na\", \"a\"입니다. 문자열 my_string과 is_suffix가 주어질 때, is_suffix가 my_string의 접미사라면 1을, 아니면 0을 return 하는 solution 함수를 작성해 주세요."
   ]
  },
  {
   "cell_type": "markdown",
   "id": "b0c56db8",
   "metadata": {},
   "source": [
    "## 제한사항\n",
    "- 1 ≤ my_string의 길이 ≤ 100\n",
    "- 1 ≤ is_suffix의 길이 ≤ 100\n",
    "- my_string과 is_suffix는 영소문자로만 이루어져 있습니다.\n",
    "\n",
    "## 입출력 예1)\n",
    "- my_string = \"banana\"\n",
    "- is_suffix = \"ana\"\n",
    "- result = 1\n",
    "\n",
    "## 입출력 예2)\n",
    "- my_string = \"banana\"\n",
    "- is_suffix = \"nan\"\n",
    "- result = 0"
   ]
  },
  {
   "cell_type": "code",
   "execution_count": 15,
   "id": "c2c18647",
   "metadata": {},
   "outputs": [],
   "source": [
    "def solution(my_string, is_suffix):\n",
    "    answer = 1\n",
    "    if len(my_string) >= len(is_suffix):\n",
    "        for i in range(len(is_suffix)):\n",
    "            if is_suffix[-len(is_suffix)+i] == my_string[-len(is_suffix)+i]:\n",
    "                pass\n",
    "            else:\n",
    "                answer -= 1\n",
    "    if len(my_string) < len(is_suffix):\n",
    "        return 0\n",
    "    if answer == 1:\n",
    "        return 1\n",
    "    else:\n",
    "        return 0"
   ]
  },
  {
   "cell_type": "code",
   "execution_count": 16,
   "id": "a349da63",
   "metadata": {},
   "outputs": [
    {
     "data": {
      "text/plain": [
       "1"
      ]
     },
     "execution_count": 16,
     "metadata": {},
     "output_type": "execute_result"
    }
   ],
   "source": [
    "solution(\"banana\", \"ana\")"
   ]
  },
  {
   "cell_type": "code",
   "execution_count": 17,
   "id": "c0f1814e",
   "metadata": {},
   "outputs": [
    {
     "data": {
      "text/plain": [
       "0"
      ]
     },
     "execution_count": 17,
     "metadata": {},
     "output_type": "execute_result"
    }
   ],
   "source": [
    "solution(\"banana\", \"nan\")"
   ]
  },
  {
   "cell_type": "code",
   "execution_count": null,
   "id": "d658b594",
   "metadata": {},
   "outputs": [],
   "source": []
  }
 ],
 "metadata": {
  "kernelspec": {
   "display_name": "Python 3 (ipykernel)",
   "language": "python",
   "name": "python3"
  },
  "language_info": {
   "codemirror_mode": {
    "name": "ipython",
    "version": 3
   },
   "file_extension": ".py",
   "mimetype": "text/x-python",
   "name": "python",
   "nbconvert_exporter": "python",
   "pygments_lexer": "ipython3",
   "version": "3.9.15"
  }
 },
 "nbformat": 4,
 "nbformat_minor": 5
}
