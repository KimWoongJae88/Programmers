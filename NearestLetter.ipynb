{
 "cells": [
  {
   "cell_type": "markdown",
   "id": "d2374e0b",
   "metadata": {},
   "source": [
    "## 가장 가까운 글자\n",
    " - 문자열 s가 주어졌을 때, s의 각 위치마다 자신보다 앞에 나왔으면서, 자신과 가장 가까운 곳에 있는 같은 글자가 어디 있는지 알고 싶습니다.\n",
    " - 예를 들어, s=\"banana\"라고 할 때,  각 글자들을 왼쪽부터 오른쪽으로 읽어 나가면서 다음과 같이 진행할 수 있습니다.\n",
    "  - b는 처음 나왔기 때문에 자신의 앞에 같은 글자가 없습니다. 이는 -1로 표현합니다.\n",
    "  - a는 처음 나왔기 때문에 자신의 앞에 같은 글자가 없습니다. 이는 -1로 표현합니다.\n",
    "  - n은 처음 나왔기 때문에 자신의 앞에 같은 글자가 없습니다. 이는 -1로 표현합니다.\n",
    "  - a는 자신보다 두 칸 앞에 a가 있습니다. 이는 2로 표현합니다.\n",
    "  - n도 자신보다 두 칸 앞에 n이 있습니다. 이는 2로 표현합니다.\n",
    "  - a는 자신보다 두 칸, 네 칸 앞에 a가 있습니다. 이 중 가까운 것은 두 칸 앞이고, 이는 2로 표현합니다.\n",
    "  - 따라서 최종 결과물은 [-1, -1, -1, 2, 2, 2]가 됩니다.\n",
    " - 문자열 s이 주어질 때, 위와 같이 정의된 연산을 수행하는 함수 solution을 완성해주세요."
   ]
  },
  {
   "cell_type": "markdown",
   "id": "f1cde8fe",
   "metadata": {},
   "source": [
    "## 제한사항\n",
    " - 1 ≤ s의 길이 ≤ 10,000\n",
    " - s은 영어 소문자로만 이루어져 있습니다.\n",
    "\n",
    "## 입출력 예\n",
    " - s = \"banana\"\n",
    " - result = [-1, -1, -1, 2, 2, 2]"
   ]
  },
  {
   "cell_type": "code",
   "execution_count": 9,
   "id": "74f3ac0f",
   "metadata": {},
   "outputs": [],
   "source": [
    "def solution(s):\n",
    "    answer = []\n",
    "    st = ''\n",
    "    for i in s:\n",
    "        if i in st:\n",
    "            index_num = st.rindex(i)\n",
    "            st += i\n",
    "            answer.append(st.rindex(i)-index_num)\n",
    "        else:\n",
    "            st += i\n",
    "            answer.append(-1)\n",
    "    return answer"
   ]
  },
  {
   "cell_type": "code",
   "execution_count": 10,
   "id": "a0621cc5",
   "metadata": {},
   "outputs": [
    {
     "data": {
      "text/plain": [
       "[-1, -1, -1, 2, 2, 2]"
      ]
     },
     "execution_count": 10,
     "metadata": {},
     "output_type": "execute_result"
    }
   ],
   "source": [
    "solution(\"banana\")"
   ]
  },
  {
   "cell_type": "code",
   "execution_count": 11,
   "id": "7bc452ed",
   "metadata": {},
   "outputs": [
    {
     "data": {
      "text/plain": [
       "[-1, -1, 1, -1, -1, -1]"
      ]
     },
     "execution_count": 11,
     "metadata": {},
     "output_type": "execute_result"
    }
   ],
   "source": [
    "solution(\"foobar\")"
   ]
  },
  {
   "cell_type": "code",
   "execution_count": null,
   "id": "b9fa6127",
   "metadata": {},
   "outputs": [],
   "source": []
  }
 ],
 "metadata": {
  "kernelspec": {
   "display_name": "Python 3 (ipykernel)",
   "language": "python",
   "name": "python3"
  },
  "language_info": {
   "codemirror_mode": {
    "name": "ipython",
    "version": 3
   },
   "file_extension": ".py",
   "mimetype": "text/x-python",
   "name": "python",
   "nbconvert_exporter": "python",
   "pygments_lexer": "ipython3",
   "version": "3.9.15"
  }
 },
 "nbformat": 4,
 "nbformat_minor": 5
}
