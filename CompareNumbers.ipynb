{
 "cells": [
  {
   "cell_type": "markdown",
   "id": "fa056bf4",
   "metadata": {},
   "source": [
    "# 숫자 비교하기\n",
    " - 정수 num1과 num2가 매개변수로 주어집니다. 두 수가 같으면 1 다르면 -1을 retrun하도록 solution 함수를 완성해주세요."
   ]
  },
  {
   "cell_type": "code",
   "execution_count": 1,
   "id": "b6924c73",
   "metadata": {},
   "outputs": [],
   "source": [
    "# 0 ≤ num1 ≤ 10,000\n",
    "# 0 ≤ num2 ≤ 10,000\n",
    "\n",
    "# num1 : 2\n",
    "# num2 : 3\n",
    "# result : -1"
   ]
  },
  {
   "cell_type": "code",
   "execution_count": 2,
   "id": "c18b6401",
   "metadata": {},
   "outputs": [],
   "source": [
    "def solution(num1, num2):\n",
    "    if num1 == num2:\n",
    "        return 1\n",
    "    else:\n",
    "        return -1"
   ]
  },
  {
   "cell_type": "code",
   "execution_count": 3,
   "id": "c4256e6a",
   "metadata": {},
   "outputs": [
    {
     "data": {
      "text/plain": [
       "1"
      ]
     },
     "execution_count": 3,
     "metadata": {},
     "output_type": "execute_result"
    }
   ],
   "source": [
    "solution(11, 11)"
   ]
  },
  {
   "cell_type": "code",
   "execution_count": null,
   "id": "e7865383",
   "metadata": {},
   "outputs": [],
   "source": []
  }
 ],
 "metadata": {
  "kernelspec": {
   "display_name": "Python 3 (ipykernel)",
   "language": "python",
   "name": "python3"
  },
  "language_info": {
   "codemirror_mode": {
    "name": "ipython",
    "version": 3
   },
   "file_extension": ".py",
   "mimetype": "text/x-python",
   "name": "python",
   "nbconvert_exporter": "python",
   "pygments_lexer": "ipython3",
   "version": "3.9.15"
  }
 },
 "nbformat": 4,
 "nbformat_minor": 5
}
