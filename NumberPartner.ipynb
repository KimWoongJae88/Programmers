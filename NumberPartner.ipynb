{
 "cells": [
  {
   "cell_type": "markdown",
   "id": "b48e0099",
   "metadata": {},
   "source": [
    "# 숫자 짝꿍\n",
    " - 두 정수 X, Y의 임의의 자리에서 공통으로 나타나는 정수 k(0 ≤ k ≤ 9)들을 이용하여 만들 수 있는 가장 큰 정수를 두 수의 짝꿍이라 합니다(단, 공통으로 나타나는 정수 중 서로 짝지을 수 있는 숫자만 사용합니다). X, Y의 짝꿍이 존재하지 않으면, 짝꿍은 -1입니다. X, Y의 짝꿍이 0으로만 구성되어 있다면, 짝꿍은 0입니다. 예를 들어, X = 3403이고 Y = 13203이라면, X와 Y의 짝꿍은 X와 Y에서 공통으로 나타나는 3, 0, 3으로 만들 수 있는 가장 큰 정수인 330입니다. 다른 예시로 X = 5525이고 Y = 1255이면 X와 Y의 짝꿍은 X와 Y에서 공통으로 나타나는 2, 5, 5로 만들 수 있는 가장 큰 정수인 552입니다(X에는 5가 3개, Y에는 5가 2개 나타나므로 남는 5 한 개는 짝 지을 수 없습니다.) 두 정수 X, Y가 주어졌을 때, X, Y의 짝꿍을 return하는 solution 함수를 완성해주세요."
   ]
  },
  {
   "cell_type": "code",
   "execution_count": 1,
   "id": "5ecb3a53",
   "metadata": {},
   "outputs": [],
   "source": [
    "# 제한사항\n",
    "# 3 ≤ X, Y의 길이(자릿수) ≤ 3,000,000입니다.\n",
    "# X, Y는 0으로 시작하지 않습니다.\n",
    "# X, Y의 짝꿍은 상당히 큰 정수일 수 있으므로, 문자열로 반환합니다."
   ]
  },
  {
   "cell_type": "markdown",
   "id": "b51d53a8",
   "metadata": {},
   "source": [
    "---\n",
    "## 첫번째 시도"
   ]
  },
  {
   "cell_type": "code",
   "execution_count": 2,
   "id": "61b627a3",
   "metadata": {},
   "outputs": [],
   "source": [
    "from itertools import permutations\n",
    "def solution(X, Y):\n",
    "    a = []\n",
    "    answer = []\n",
    "    if set(X)&set(Y) == set():  # 교집합이 아무것도 없을때 '-1'을 return\n",
    "        return '-1'\n",
    "    if set(X)&set(Y) == set('0'):  # 교집합에 '0'만 있을 경우 '0'을 return <-- 안하면 '00', '000' 을 return 할때도 있으므로\n",
    "        return '0'\n",
    "    x = list(X)  # pop을 쓰기위해 리스트화\n",
    "    y = list(Y)\n",
    "    for i in x:\n",
    "        if i in y:\n",
    "            a += i\n",
    "            y.pop(y.index(i))  # 중복되는 값을 없애가면서 반복\n",
    "    b = permutations(a, len(a))  # 모든 경우의 수를 만들어주는 permutations를 사용\n",
    "    for j in b:\n",
    "        answer.append(''.join(j))  # 모든 경우의 수를 각각 하나의 문자열로 만들어서 answer에 담고\n",
    "    return max(answer)  # 가장 큰 값을 return"
   ]
  },
  {
   "cell_type": "markdown",
   "id": "0a8e4578",
   "metadata": {},
   "source": [
    " - 시간초과"
   ]
  },
  {
   "cell_type": "markdown",
   "id": "e874e812",
   "metadata": {},
   "source": [
    "---\n",
    "## 두번째 시도"
   ]
  },
  {
   "cell_type": "code",
   "execution_count": 25,
   "id": "7237bc58",
   "metadata": {},
   "outputs": [],
   "source": [
    "def solution(X, Y):\n",
    "    answer = []\n",
    "    if set(X)&set(Y) == set():  # 교집합이 아무것도 없을때 '-1'을 return\n",
    "        return '-1'\n",
    "    if set(X)&set(Y) == set('0'):  # 교집합에 '0'만 있을 경우 '0'을 return <-- 안하면 '00', '000' 을 return 할때도 있으므로\n",
    "        return '0'\n",
    "    for i in set(X)&set(Y):  # 교집합을 반복\n",
    "        for j in range(min(X.count(i), Y.count(i))):  # 교집합 숫자의 각 갯수 중 작은 것만큼 반복하여\n",
    "            answer.append(i)  # answer리스트에 반복만큼 append\n",
    "    answer.sort(reverse=True)  # 내림차순으로 정렬하여 가장 큰 수로 만들어주고\n",
    "    return ''.join(answer)  # 결과 형식에 맞게 join"
   ]
  },
  {
   "cell_type": "code",
   "execution_count": 26,
   "id": "da0cc1ca",
   "metadata": {
    "scrolled": true
   },
   "outputs": [
    {
     "data": {
      "text/plain": [
       "'-1'"
      ]
     },
     "execution_count": 26,
     "metadata": {},
     "output_type": "execute_result"
    }
   ],
   "source": [
    "solution(\"1001\", \"2345\")"
   ]
  },
  {
   "cell_type": "code",
   "execution_count": 27,
   "id": "5cc84cc2",
   "metadata": {},
   "outputs": [
    {
     "data": {
      "text/plain": [
       "'1100'"
      ]
     },
     "execution_count": 27,
     "metadata": {},
     "output_type": "execute_result"
    }
   ],
   "source": [
    "solution(\"1010\", \"12130450\")"
   ]
  },
  {
   "cell_type": "code",
   "execution_count": 28,
   "id": "cac6e309",
   "metadata": {
    "scrolled": true
   },
   "outputs": [
    {
     "data": {
      "text/plain": [
       "'0'"
      ]
     },
     "execution_count": 28,
     "metadata": {},
     "output_type": "execute_result"
    }
   ],
   "source": [
    "solution(\"100\", \"203045\")"
   ]
  },
  {
   "cell_type": "code",
   "execution_count": 29,
   "id": "c170e430",
   "metadata": {},
   "outputs": [
    {
     "data": {
      "text/plain": [
       "'321'"
      ]
     },
     "execution_count": 29,
     "metadata": {},
     "output_type": "execute_result"
    }
   ],
   "source": [
    "solution(\"12321\", \"42531\")"
   ]
  },
  {
   "cell_type": "code",
   "execution_count": null,
   "id": "149f23ed",
   "metadata": {},
   "outputs": [],
   "source": []
  }
 ],
 "metadata": {
  "kernelspec": {
   "display_name": "Python 3 (ipykernel)",
   "language": "python",
   "name": "python3"
  },
  "language_info": {
   "codemirror_mode": {
    "name": "ipython",
    "version": 3
   },
   "file_extension": ".py",
   "mimetype": "text/x-python",
   "name": "python",
   "nbconvert_exporter": "python",
   "pygments_lexer": "ipython3",
   "version": "3.9.12"
  }
 },
 "nbformat": 4,
 "nbformat_minor": 5
}
