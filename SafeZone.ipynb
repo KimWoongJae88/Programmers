{
 "cells": [
  {
   "cell_type": "markdown",
   "id": "087cd67e",
   "metadata": {},
   "source": [
    "# 안전지대\n",
    " - 지뢰가 있는 지역과 지뢰에 인접한 위, 아래, 좌, 우 대각선 칸을 모두 위험지역으로 분류합니다. 지뢰는 2차원 배열 board에 1로 표시되어 있고 board에는 지뢰가 매설 된 지역 1과, 지뢰가 없는 지역 0만 존재합니다. 지뢰가 매설된 지역의 지도 board가 매개변수로 주어질 때, 안전한 지역의 칸 수를 return하도록 solution 함수를 완성해주세요."
   ]
  },
  {
   "cell_type": "code",
   "execution_count": 1,
   "id": "e992df5e",
   "metadata": {},
   "outputs": [],
   "source": [
    "# 제한사항\n",
    "# board는 n * n 배열입니다.\n",
    "# 1 ≤ n ≤ 100\n",
    "# 지뢰는 1로 표시되어 있습니다.\n",
    "# board에는 지뢰가 있는 지역 1과 지뢰가 없는 지역 0만 존재합니다."
   ]
  },
  {
   "cell_type": "code",
   "execution_count": 43,
   "id": "8e23263b",
   "metadata": {},
   "outputs": [],
   "source": [
    "def solution(board):\n",
    "    a = []\n",
    "    b = []\n",
    "    c = []\n",
    "    d = []\n",
    "    e = []\n",
    "    for i in range(len(board)):\n",
    "        for j in range(len(board[i])):  # 보드판의 모든 좌표를 2차원 a리스트에 저장\n",
    "            a.append([i,j]) \n",
    "            if board[i][j] == 1:  # 좌표의 값이 1인 좌표를 2차원 b리스트에 저장\n",
    "                b.append([i,j])\n",
    "    for i in range(len(b)):  # 좌표 값이 1인 좌표를 포함한 9방향 좌표를 2차원 c리스트에 저장\n",
    "        c.append([b[i][0],b[i][1]])\n",
    "        c.append([b[i][0],b[i][1]-1])\n",
    "        c.append([b[i][0],b[i][1]+1])\n",
    "        c.append([b[i][0]-1,b[i][1]])\n",
    "        c.append([b[i][0]-1,b[i][1]-1])\n",
    "        c.append([b[i][0]-1,b[i][1]+1])\n",
    "        c.append([b[i][0]+1,b[i][1]])\n",
    "        c.append([b[i][0]+1,b[i][1]-1])\n",
    "        c.append([b[i][0]+1,b[i][1]+1])    \n",
    "    for i in c:\n",
    "        if i not in d:  # c리스트 좌표 중 중복되는 값은 제거\n",
    "            d.append(i)\n",
    "    for i in a:  # 모든 좌표가 저장된 2차원 a리스트에서\n",
    "        if i not in d:\n",
    "            e.append(i)  # 좌표의 값이 1인 좌표와 같은 값은 제거\n",
    "    return len(e)  # 제거되고 남은 좌표의 갯수를 반환"
   ]
  },
  {
   "cell_type": "code",
   "execution_count": 44,
   "id": "07574ee1",
   "metadata": {},
   "outputs": [
    {
     "data": {
      "text/plain": [
       "13"
      ]
     },
     "execution_count": 44,
     "metadata": {},
     "output_type": "execute_result"
    }
   ],
   "source": [
    "solution([[0, 0, 0, 0, 0], [0, 0, 0, 0, 0], [0, 0, 0, 0, 0], [0, 0, 1, 1, 0], [0, 0, 0, 0, 0]])"
   ]
  }
 ],
 "metadata": {
  "kernelspec": {
   "display_name": "Python 3 (ipykernel)",
   "language": "python",
   "name": "python3"
  },
  "language_info": {
   "codemirror_mode": {
    "name": "ipython",
    "version": 3
   },
   "file_extension": ".py",
   "mimetype": "text/x-python",
   "name": "python",
   "nbconvert_exporter": "python",
   "pygments_lexer": "ipython3",
   "version": "3.9.12"
  }
 },
 "nbformat": 4,
 "nbformat_minor": 5
}
