{
 "cells": [
  {
   "cell_type": "markdown",
   "id": "b4e44f92",
   "metadata": {},
   "source": [
    "# 문자열을 정수로 변환하기\n",
    " - 숫자로만 이루어진 문자열 n_str이 주어질 때, n_str을 정수로 변환하여 return하도록 solution 함수를 완성해주세요."
   ]
  },
  {
   "cell_type": "markdown",
   "id": "890c2fc1",
   "metadata": {},
   "source": [
    "## 제한사항\n",
    " - 1 ≤ n_str ≤ 5\n",
    " - n_str은 0부터 9까지의 정수 문자로만 이루어져 있습니다.\n",
    "\n",
    "## 입출력 예\n",
    " - n_str = \"10\"\n",
    " - result = 10"
   ]
  },
  {
   "cell_type": "code",
   "execution_count": 1,
   "id": "92c09246",
   "metadata": {},
   "outputs": [],
   "source": [
    "def solution(n_str):\n",
    "    return int(n_str)"
   ]
  },
  {
   "cell_type": "code",
   "execution_count": 2,
   "id": "25bc3e3a",
   "metadata": {},
   "outputs": [
    {
     "data": {
      "text/plain": [
       "10"
      ]
     },
     "execution_count": 2,
     "metadata": {},
     "output_type": "execute_result"
    }
   ],
   "source": [
    "solution(\"10\")"
   ]
  },
  {
   "cell_type": "code",
   "execution_count": 3,
   "id": "ff067014",
   "metadata": {},
   "outputs": [
    {
     "data": {
      "text/plain": [
       "8542"
      ]
     },
     "execution_count": 3,
     "metadata": {},
     "output_type": "execute_result"
    }
   ],
   "source": [
    "solution(\"8542\")"
   ]
  },
  {
   "cell_type": "code",
   "execution_count": null,
   "id": "a9008409",
   "metadata": {},
   "outputs": [],
   "source": []
  }
 ],
 "metadata": {
  "kernelspec": {
   "display_name": "Python 3 (ipykernel)",
   "language": "python",
   "name": "python3"
  },
  "language_info": {
   "codemirror_mode": {
    "name": "ipython",
    "version": 3
   },
   "file_extension": ".py",
   "mimetype": "text/x-python",
   "name": "python",
   "nbconvert_exporter": "python",
   "pygments_lexer": "ipython3",
   "version": "3.9.15"
  }
 },
 "nbformat": 4,
 "nbformat_minor": 5
}
