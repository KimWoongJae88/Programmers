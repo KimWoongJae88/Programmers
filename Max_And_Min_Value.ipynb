{
 "cells": [
  {
   "cell_type": "markdown",
   "id": "70fce374",
   "metadata": {},
   "source": [
    "# 최댓값과 최솟값"
   ]
  },
  {
   "cell_type": "markdown",
   "id": "93c72bbe",
   "metadata": {},
   "source": [
    " - 문자열 s에는 공백으로 구분된 숫자들이 저장되어 있습니다. str에 나타나는 숫자 중 최소값과 최대값을 찾아 이를 \"(최소값) (최대값)\"형태의 문자열을 반환하는 함수, solution을 완성하세요. 예를들어 s가 \"1 2 3 4\"라면 \"1 4\"를 리턴하고, \"-1 -2 -3 -4\"라면 \"-4 -1\"을 리턴하면 됩니다."
   ]
  },
  {
   "cell_type": "markdown",
   "id": "9aea0f57",
   "metadata": {},
   "source": [
    "## 첫번째 풀이"
   ]
  },
  {
   "cell_type": "code",
   "execution_count": 1,
   "id": "75587dbe",
   "metadata": {},
   "outputs": [],
   "source": [
    "# 제한 조건\n",
    "# s에는 둘 이상의 정수가 공백으로 구분되어 있습니다.\n",
    "\n",
    "# s : \"1 2 3 4\"\n",
    "# return : \"1 4\""
   ]
  },
  {
   "cell_type": "code",
   "execution_count": 2,
   "id": "6361bd1e",
   "metadata": {},
   "outputs": [],
   "source": [
    "def solution(s):\n",
    "    if float(min(s.split())) < float(max(s.split())):  # 모든 요소가 -문자열이라면 -1보다 -4가 max라고 인식되므로 숫자로 바꿔주고 비교해서 \n",
    "        return min(s.split())+' '+max(s.split())  # 원하는 결과로 출력되게 해준다.\n",
    "    else:\n",
    "        return max(s.split())+' '+min(s.split())"
   ]
  },
  {
   "cell_type": "code",
   "execution_count": 3,
   "id": "f0b2ad24",
   "metadata": {},
   "outputs": [
    {
     "data": {
      "text/plain": [
       "'-11 0'"
      ]
     },
     "execution_count": 3,
     "metadata": {},
     "output_type": "execute_result"
    }
   ],
   "source": [
    "solution(\"-11 -22 0\")"
   ]
  },
  {
   "cell_type": "code",
   "execution_count": 4,
   "id": "4de4a0b4",
   "metadata": {},
   "outputs": [
    {
     "data": {
      "text/plain": [
       "'0 4'"
      ]
     },
     "execution_count": 4,
     "metadata": {},
     "output_type": "execute_result"
    }
   ],
   "source": [
    "solution(\"0 2 3 4\")"
   ]
  },
  {
   "cell_type": "code",
   "execution_count": 5,
   "id": "1ee691b5",
   "metadata": {},
   "outputs": [
    {
     "data": {
      "text/plain": [
       "'11 41'"
      ]
     },
     "execution_count": 5,
     "metadata": {},
     "output_type": "execute_result"
    }
   ],
   "source": [
    "solution(\"11 21 31 41\")"
   ]
  },
  {
   "cell_type": "markdown",
   "id": "b8a21736",
   "metadata": {},
   "source": [
    " - 테스트케이스에서 실패가 뜨는데 이유를 모르겠음."
   ]
  },
  {
   "cell_type": "markdown",
   "id": "56ef6150",
   "metadata": {},
   "source": [
    "---\n",
    " ## 두번째 풀이"
   ]
  },
  {
   "cell_type": "code",
   "execution_count": 6,
   "id": "ed884274",
   "metadata": {},
   "outputs": [],
   "source": [
    "def solution(s):\n",
    "    a = []\n",
    "    for i in s.split():\n",
    "        a.append(int(i))  # -요소가 있을때 뭔가 오류가 나는거 같아 max, min을 찾기전에 숫자형으로 바꿔줌\n",
    "    return str(min(a))+' '+str(max(a))"
   ]
  },
  {
   "cell_type": "code",
   "execution_count": 7,
   "id": "3bc015fd",
   "metadata": {},
   "outputs": [
    {
     "data": {
      "text/plain": [
       "'-41 31'"
      ]
     },
     "execution_count": 7,
     "metadata": {},
     "output_type": "execute_result"
    }
   ],
   "source": [
    "solution(\"-11 21 31 -41\")"
   ]
  }
 ],
 "metadata": {
  "kernelspec": {
   "display_name": "Python 3 (ipykernel)",
   "language": "python",
   "name": "python3"
  },
  "language_info": {
   "codemirror_mode": {
    "name": "ipython",
    "version": 3
   },
   "file_extension": ".py",
   "mimetype": "text/x-python",
   "name": "python",
   "nbconvert_exporter": "python",
   "pygments_lexer": "ipython3",
   "version": "3.9.12"
  }
 },
 "nbformat": 4,
 "nbformat_minor": 5
}
