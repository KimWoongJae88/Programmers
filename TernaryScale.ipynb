{
 "cells": [
  {
   "cell_type": "markdown",
   "id": "d9207dd5",
   "metadata": {},
   "source": [
    "# 3진법 뒤집기\n",
    " - 자연수 n이 매개변수로 주어집니다. n을 3진법 상에서 앞뒤로 뒤집은 후, 이를 다시 10진법으로 표현한 수를 return 하도록 solution 함수를 완성해주세요."
   ]
  },
  {
   "cell_type": "code",
   "execution_count": 1,
   "id": "5969394a",
   "metadata": {},
   "outputs": [],
   "source": [
    "# 제한사항\n",
    "# n은 1 이상 100,000,000 이하인 자연수입니다.\n",
    "\n",
    "# n = 45\n",
    "# result = 7"
   ]
  },
  {
   "cell_type": "code",
   "execution_count": 2,
   "id": "8bbafeb6",
   "metadata": {},
   "outputs": [],
   "source": [
    "def solution(n):\n",
    "    answer = 0\n",
    "    a=''\n",
    "    while n >= 3:\n",
    "        a += str(n%3)\n",
    "        n = n//3\n",
    "    if n < 3:\n",
    "        a += str(n)\n",
    "    for i in range(len(a)):\n",
    "        answer+=3**i*int(a[-(i+1)])\n",
    "    return answer"
   ]
  },
  {
   "cell_type": "code",
   "execution_count": 3,
   "id": "5566456f",
   "metadata": {},
   "outputs": [
    {
     "data": {
      "text/plain": [
       "7"
      ]
     },
     "execution_count": 3,
     "metadata": {},
     "output_type": "execute_result"
    }
   ],
   "source": [
    "solution(45)"
   ]
  },
  {
   "cell_type": "code",
   "execution_count": null,
   "id": "6e77deab",
   "metadata": {},
   "outputs": [],
   "source": []
  }
 ],
 "metadata": {
  "kernelspec": {
   "display_name": "Python 3 (ipykernel)",
   "language": "python",
   "name": "python3"
  },
  "language_info": {
   "codemirror_mode": {
    "name": "ipython",
    "version": 3
   },
   "file_extension": ".py",
   "mimetype": "text/x-python",
   "name": "python",
   "nbconvert_exporter": "python",
   "pygments_lexer": "ipython3",
   "version": "3.9.12"
  }
 },
 "nbformat": 4,
 "nbformat_minor": 5
}
