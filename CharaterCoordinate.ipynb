{
 "cells": [
  {
   "cell_type": "markdown",
   "id": "963e3989",
   "metadata": {},
   "source": [
    "# 캐릭터의 좌표\n",
    "- 머쓱이는 RPG게임을 하고 있습니다. 게임에는 up, down, left, right 방향키가 있으며 각 키를 누르면 위, 아래, 왼쪽, 오른쪽으로 한 칸씩 이동합니다. 예를 들어 [0,0]에서 up을 누른다면 캐릭터의 좌표는 [0, 1], down을 누른다면 [0, -1], left를 누른다면 [-1, 0], right를 누른다면 [1, 0]입니다. 머쓱이가 입력한 방향키의 배열 keyinput와 맵의 크기 board이 매개변수로 주어집니다. 캐릭터는 항상 [0,0]에서 시작할 때 키 입력이 모두 끝난 뒤에 캐릭터의 좌표 [x, y]를 return하도록 solution 함수를 완성해주세요.\n",
    "\n",
    " - [0, 0]은 board의 정 중앙에 위치합니다. 예를 들어 board의 가로 크기가 9라면 캐릭터는 왼쪽으로 최대 [-4, 0]까지 오른쪽으로 최대 [4, 0]까지 이동할 수 있습니다."
   ]
  },
  {
   "cell_type": "code",
   "execution_count": 115,
   "id": "f7449220",
   "metadata": {},
   "outputs": [
    {
     "name": "stdout",
     "output_type": "stream",
     "text": [
      "[0, -1]\n"
     ]
    }
   ],
   "source": [
    "keyinput = [\"up\", \"up\", \"up\", \"down\", \"down\", \"down\"]\n",
    "board = [7, 5]\n",
    "a = [0, 0]\n",
    "\n",
    "# keyinput 을 반복\n",
    "# 반복값이 left 일때 조건에 맞는 수식을 써서 계산\n",
    "# a[0],a[1]의 절대값은 board[0],borad[1]를 2로 나눈 몫을 넘어설 수 없다.\n",
    "\n",
    "for i in keyinput:\n",
    "    if i == 'left':\n",
    "        if a[0]-1 >= -(board[0]//2):\n",
    "            a[0] -= 1    \n",
    "    elif i == 'right':\n",
    "        if a[0]+1 <= (board[0]//2):\n",
    "            a[0] += 1\n",
    "    if i == 'up':\n",
    "        if a[1]+1 <= (board[1]//2):\n",
    "            a[1] += 1\n",
    "    if i == 'down':\n",
    "        if a[1]-1 >= -(board[1]//2):\n",
    "            a[1] -= 1\n",
    "print(a)"
   ]
  }
 ],
 "metadata": {
  "kernelspec": {
   "display_name": "Python 3 (ipykernel)",
   "language": "python",
   "name": "python3"
  },
  "language_info": {
   "codemirror_mode": {
    "name": "ipython",
    "version": 3
   },
   "file_extension": ".py",
   "mimetype": "text/x-python",
   "name": "python",
   "nbconvert_exporter": "python",
   "pygments_lexer": "ipython3",
   "version": "3.9.12"
  }
 },
 "nbformat": 4,
 "nbformat_minor": 5
}
