{
 "cells": [
  {
   "cell_type": "markdown",
   "id": "7887ed26",
   "metadata": {},
   "source": [
    "# 나머지가 1이 되는 수 찾기\n",
    " - 자연수 n이 매개변수로 주어집니다. n을 x로 나눈 나머지가 1이 되도록 하는 가장 작은 자연수 x를 return 하도록 solution 함수를 완성해주세요. 답이 항상 존재함은 증명될 수 있습니다."
   ]
  },
  {
   "cell_type": "code",
   "execution_count": 1,
   "id": "d09a7329",
   "metadata": {},
   "outputs": [],
   "source": [
    "# 제한사항\n",
    "# 3 ≤ n ≤ 1,000,000\n",
    "\n",
    "# n : 10\n",
    "# result : 3"
   ]
  },
  {
   "cell_type": "code",
   "execution_count": 2,
   "id": "5ec71e8c",
   "metadata": {},
   "outputs": [],
   "source": [
    "def solution(n):\n",
    "    return min(i for i in range(1, n) if n % i == 1)"
   ]
  },
  {
   "cell_type": "code",
   "execution_count": 3,
   "id": "1467721f",
   "metadata": {},
   "outputs": [
    {
     "data": {
      "text/plain": [
       "3"
      ]
     },
     "execution_count": 3,
     "metadata": {},
     "output_type": "execute_result"
    }
   ],
   "source": [
    "solution(10)"
   ]
  },
  {
   "cell_type": "code",
   "execution_count": 4,
   "id": "09624e1b",
   "metadata": {},
   "outputs": [
    {
     "data": {
      "text/plain": [
       "11"
      ]
     },
     "execution_count": 4,
     "metadata": {},
     "output_type": "execute_result"
    }
   ],
   "source": [
    "solution(12)"
   ]
  },
  {
   "cell_type": "code",
   "execution_count": null,
   "id": "12ba0d82",
   "metadata": {},
   "outputs": [],
   "source": []
  }
 ],
 "metadata": {
  "kernelspec": {
   "display_name": "Python 3 (ipykernel)",
   "language": "python",
   "name": "python3"
  },
  "language_info": {
   "codemirror_mode": {
    "name": "ipython",
    "version": 3
   },
   "file_extension": ".py",
   "mimetype": "text/x-python",
   "name": "python",
   "nbconvert_exporter": "python",
   "pygments_lexer": "ipython3",
   "version": "3.9.15"
  }
 },
 "nbformat": 4,
 "nbformat_minor": 5
}
