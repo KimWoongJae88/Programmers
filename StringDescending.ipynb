{
 "cells": [
  {
   "cell_type": "markdown",
   "id": "77bb159b",
   "metadata": {},
   "source": [
    "# 문자열 내림차순 정렬하기\n",
    " - 문자열 s에 나타나는 문자를 큰것부터 작은 순으로 정렬해 새로운 문자열을 리턴하는 함수, solution을 완성해주세요. s는 영문 대소문자로만 구성되어 있으며, 대문자는 소문자보다 작은 것으로 간주합니다."
   ]
  },
  {
   "cell_type": "markdown",
   "id": "fb68bb11",
   "metadata": {},
   "source": [
    "## 제한 사항\n",
    " - str은 길이 1 이상인 문자열입니다.\n",
    "\n",
    "## 입출력 예\n",
    " - s : \"Zbcdefg\"\n",
    " - return : \"gfedcbZ\""
   ]
  },
  {
   "cell_type": "code",
   "execution_count": 1,
   "id": "75bda749",
   "metadata": {},
   "outputs": [],
   "source": [
    "def solution(s):\n",
    "    return ''.join(sorted(s, reverse = True))"
   ]
  },
  {
   "cell_type": "code",
   "execution_count": 2,
   "id": "27555f48",
   "metadata": {},
   "outputs": [
    {
     "data": {
      "text/plain": [
       "'gfedcbZ'"
      ]
     },
     "execution_count": 2,
     "metadata": {},
     "output_type": "execute_result"
    }
   ],
   "source": [
    "solution(\"Zbcdefg\")"
   ]
  },
  {
   "cell_type": "code",
   "execution_count": null,
   "id": "dc92b7f0",
   "metadata": {},
   "outputs": [],
   "source": []
  }
 ],
 "metadata": {
  "kernelspec": {
   "display_name": "Python 3 (ipykernel)",
   "language": "python",
   "name": "python3"
  },
  "language_info": {
   "codemirror_mode": {
    "name": "ipython",
    "version": 3
   },
   "file_extension": ".py",
   "mimetype": "text/x-python",
   "name": "python",
   "nbconvert_exporter": "python",
   "pygments_lexer": "ipython3",
   "version": "3.9.15"
  }
 },
 "nbformat": 4,
 "nbformat_minor": 5
}
