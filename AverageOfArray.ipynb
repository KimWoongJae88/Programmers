{
 "cells": [
  {
   "cell_type": "markdown",
   "id": "0352e008",
   "metadata": {},
   "source": [
    "# 배열의 평균값\n",
    " - 정수 배열 numbers가 매개변수로 주어집니다. numbers의 원소의 평균값을 return하도록 solution 함수를 완성해주세요."
   ]
  },
  {
   "cell_type": "code",
   "execution_count": 1,
   "id": "1168e738",
   "metadata": {},
   "outputs": [],
   "source": [
    "# 제한사항\n",
    "# 0 ≤ numbers의 원소 ≤ 1,000\n",
    "# 1 ≤ numbers의 길이 ≤ 100\n",
    "# 정답의 소수 부분이 .0 또는 .5인 경우만 입력으로 주어집니다.\n",
    "\n",
    "# numbers : [1, 2, 3, 4, 5, 6, 7, 8, 9, 10]\n",
    "# result : 5.5"
   ]
  },
  {
   "cell_type": "code",
   "execution_count": 2,
   "id": "58458803",
   "metadata": {},
   "outputs": [],
   "source": [
    "def solution(numbers):\n",
    "    answer = 0\n",
    "    a = len(numbers)\n",
    "    for i in numbers:\n",
    "        answer += i / a\n",
    "    return answer"
   ]
  },
  {
   "cell_type": "code",
   "execution_count": 3,
   "id": "29b36aa0",
   "metadata": {},
   "outputs": [
    {
     "data": {
      "text/plain": [
       "5.5"
      ]
     },
     "execution_count": 3,
     "metadata": {},
     "output_type": "execute_result"
    }
   ],
   "source": [
    "solution([1, 2, 3, 4, 5, 6, 7, 8, 9, 10])"
   ]
  },
  {
   "cell_type": "code",
   "execution_count": null,
   "id": "e3ae3030",
   "metadata": {},
   "outputs": [],
   "source": []
  }
 ],
 "metadata": {
  "kernelspec": {
   "display_name": "Python 3 (ipykernel)",
   "language": "python",
   "name": "python3"
  },
  "language_info": {
   "codemirror_mode": {
    "name": "ipython",
    "version": 3
   },
   "file_extension": ".py",
   "mimetype": "text/x-python",
   "name": "python",
   "nbconvert_exporter": "python",
   "pygments_lexer": "ipython3",
   "version": "3.9.15"
  }
 },
 "nbformat": 4,
 "nbformat_minor": 5
}
