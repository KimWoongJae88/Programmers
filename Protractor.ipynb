{
 "cells": [
  {
   "cell_type": "markdown",
   "id": "5974976c",
   "metadata": {},
   "source": [
    "# 각도기\n",
    " - 각에서 0도 초과 90도 미만은 예각, 90도는 직각, 90도 초과 180도 미만은 둔각 180도는 평각으로 분류합니다. 각 angle이 매개변수로 주어질 때 예각일 때 1, 직각일 때 2, 둔각일 때 3, 평각일 때 4를 return하도록 solution 함수를 완성해주세요.\n",
    "\n",
    "  - 예각 : 0 < angle < 90\n",
    "  - 직각 : angle = 90\n",
    "  - 둔각 : 90 < angle < 180\n",
    "  - 평각 : angle = 180"
   ]
  },
  {
   "cell_type": "code",
   "execution_count": 1,
   "id": "ccb92427",
   "metadata": {},
   "outputs": [],
   "source": [
    "# 제한사항\n",
    "# 0 < angle ≤ 180\n",
    "# angle은 정수입니다.\n",
    "\n",
    "# angle : 70\n",
    "# result : 1"
   ]
  },
  {
   "cell_type": "code",
   "execution_count": 2,
   "id": "1fe8bf44",
   "metadata": {},
   "outputs": [],
   "source": [
    "def solution(angle):\n",
    "    if angle > 0 and angle < 90:\n",
    "        return 1\n",
    "    elif angle == 90:\n",
    "        return 2\n",
    "    elif angle > 90 and angle < 180:\n",
    "        return 3\n",
    "    else:\n",
    "        return 4"
   ]
  },
  {
   "cell_type": "code",
   "execution_count": 3,
   "id": "56ec20a3",
   "metadata": {},
   "outputs": [
    {
     "data": {
      "text/plain": [
       "1"
      ]
     },
     "execution_count": 3,
     "metadata": {},
     "output_type": "execute_result"
    }
   ],
   "source": [
    "solution(70)"
   ]
  },
  {
   "cell_type": "code",
   "execution_count": 4,
   "id": "ad29185e",
   "metadata": {},
   "outputs": [
    {
     "data": {
      "text/plain": [
       "3"
      ]
     },
     "execution_count": 4,
     "metadata": {},
     "output_type": "execute_result"
    }
   ],
   "source": [
    "solution(91)"
   ]
  },
  {
   "cell_type": "code",
   "execution_count": null,
   "id": "9fa820aa",
   "metadata": {},
   "outputs": [],
   "source": []
  }
 ],
 "metadata": {
  "kernelspec": {
   "display_name": "Python 3 (ipykernel)",
   "language": "python",
   "name": "python3"
  },
  "language_info": {
   "codemirror_mode": {
    "name": "ipython",
    "version": 3
   },
   "file_extension": ".py",
   "mimetype": "text/x-python",
   "name": "python",
   "nbconvert_exporter": "python",
   "pygments_lexer": "ipython3",
   "version": "3.9.15"
  }
 },
 "nbformat": 4,
 "nbformat_minor": 5
}
