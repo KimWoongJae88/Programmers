{
 "cells": [
  {
   "cell_type": "markdown",
   "id": "2eb94699",
   "metadata": {},
   "source": [
    "# n번째 원소부터\n",
    " - 정수 리스트 num_list와 정수 n이 주어질 때, n 번째 원소부터 마지막 원소까지의 모든 원소를 담은 리스트를 return하도록 solution 함수를 완성해주세요."
   ]
  },
  {
   "cell_type": "markdown",
   "id": "d065052e",
   "metadata": {},
   "source": [
    "## 제한사항\n",
    " - 2 ≤ num_list의 길이 ≤ 30\n",
    " - 1 ≤ num_list의 원소 ≤ 9\n",
    " - 1 ≤ n ≤ num_list의 길이\n",
    "\n",
    "## 입출력 예\n",
    " - num_list = [2, 1, 6]\n",
    " - n = 3\n",
    " - result = [6]"
   ]
  },
  {
   "cell_type": "code",
   "execution_count": 10,
   "id": "de2988c8",
   "metadata": {},
   "outputs": [],
   "source": [
    "def solution(num_list, n):\n",
    "    return num_list[n-1:]"
   ]
  },
  {
   "cell_type": "code",
   "execution_count": 11,
   "id": "7c2c0268",
   "metadata": {},
   "outputs": [
    {
     "data": {
      "text/plain": [
       "[6]"
      ]
     },
     "execution_count": 11,
     "metadata": {},
     "output_type": "execute_result"
    }
   ],
   "source": [
    "solution([2, 1, 6], 3)"
   ]
  },
  {
   "cell_type": "code",
   "execution_count": 12,
   "id": "47edce1b",
   "metadata": {},
   "outputs": [
    {
     "data": {
      "text/plain": [
       "[2, 1, 7, 5]"
      ]
     },
     "execution_count": 12,
     "metadata": {},
     "output_type": "execute_result"
    }
   ],
   "source": [
    "solution([5, 2, 1, 7, 5], 2)"
   ]
  },
  {
   "cell_type": "code",
   "execution_count": null,
   "id": "3c938e94",
   "metadata": {},
   "outputs": [],
   "source": []
  }
 ],
 "metadata": {
  "kernelspec": {
   "display_name": "Python 3 (ipykernel)",
   "language": "python",
   "name": "python3"
  },
  "language_info": {
   "codemirror_mode": {
    "name": "ipython",
    "version": 3
   },
   "file_extension": ".py",
   "mimetype": "text/x-python",
   "name": "python",
   "nbconvert_exporter": "python",
   "pygments_lexer": "ipython3",
   "version": "3.9.15"
  }
 },
 "nbformat": 4,
 "nbformat_minor": 5
}
