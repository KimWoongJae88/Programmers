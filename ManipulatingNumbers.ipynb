{
 "cells": [
  {
   "cell_type": "markdown",
   "id": "ce2628a2",
   "metadata": {},
   "source": [
    "# 수 조작하기\n",
    " - 정수 n과 문자열 control이 주어집니다. control은 \"w\", \"a\", \"s\", \"d\"의 4개의 문자로 이루어져 있으며, control의 앞에서부터 순서대로 문자에 따라 n의 값을 바꿉니다.\n",
    "  - \"w\" : n이 1 커집니다.\n",
    "  - \"s\" : n이 1 작아집니다.\n",
    "  - \"d\" : n이 10 커집니다.\n",
    "  - \"a\" : n이 10 작아집니다.\n",
    " - 위 규칙에 따라 n을 바꿨을 때 가장 마지막에 나오는 n의 값을 return 하는 solution 함수를 완성해 주세요."
   ]
  },
  {
   "cell_type": "markdown",
   "id": "407ad5a8",
   "metadata": {},
   "source": [
    "## 제한사항\n",
    "- -100,000 ≤ n ≤ 100,000\n",
    "- 1 ≤ control의 길이 ≤ 100,000\n",
    "- control은 알파벳 소문자 \"w\", \"a\", \"s\", \"d\"로 이루어진 문자열입니다.\n",
    "\n",
    "## 입출력 예\n",
    "- n = 0\n",
    "- control = \"wsdawsdassw\"\n",
    "- result = -1"
   ]
  },
  {
   "cell_type": "code",
   "execution_count": 1,
   "id": "b71dba45",
   "metadata": {},
   "outputs": [],
   "source": [
    "def solution(n, control):\n",
    "    for i in control:\n",
    "        if i == \"w\":\n",
    "            n += 1\n",
    "        elif i == \"s\":\n",
    "            n += -1\n",
    "        elif i == \"d\":\n",
    "            n += 10\n",
    "        else:\n",
    "            n += -10\n",
    "    return n"
   ]
  },
  {
   "cell_type": "code",
   "execution_count": 2,
   "id": "110a2079",
   "metadata": {},
   "outputs": [
    {
     "data": {
      "text/plain": [
       "-1"
      ]
     },
     "execution_count": 2,
     "metadata": {},
     "output_type": "execute_result"
    }
   ],
   "source": [
    "solution(0, \"wsdawsdassw\")"
   ]
  },
  {
   "cell_type": "code",
   "execution_count": null,
   "id": "3aa8afbb",
   "metadata": {},
   "outputs": [],
   "source": []
  }
 ],
 "metadata": {
  "kernelspec": {
   "display_name": "Python 3 (ipykernel)",
   "language": "python",
   "name": "python3"
  },
  "language_info": {
   "codemirror_mode": {
    "name": "ipython",
    "version": 3
   },
   "file_extension": ".py",
   "mimetype": "text/x-python",
   "name": "python",
   "nbconvert_exporter": "python",
   "pygments_lexer": "ipython3",
   "version": "3.9.15"
  }
 },
 "nbformat": 4,
 "nbformat_minor": 5
}
