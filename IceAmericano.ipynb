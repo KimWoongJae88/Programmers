{
 "cells": [
  {
   "cell_type": "markdown",
   "id": "27cabfc9",
   "metadata": {},
   "source": [
    "# 아이스 아메리카노\n",
    " - 머쓱이는 추운 날에도 아이스 아메리카노만 마십니다. 아이스 아메리카노는 한잔에 5,500원입니다. 머쓱이가 가지고 있는 돈 money가 매개변수로 주어질 때, 머쓱이가 최대로 마실 수 있는 아메리카노의 잔 수와 남는 돈을 순서대로 담은 배열을 return 하도록 solution 함수를 완성해보세요."
   ]
  },
  {
   "cell_type": "code",
   "execution_count": 1,
   "id": "e355d56f",
   "metadata": {},
   "outputs": [],
   "source": [
    "# 제한사항\n",
    "# 0 < money ≤ 1,000,000\n",
    "\n",
    "# money : 5,500\n",
    "# result : [1, 0]"
   ]
  },
  {
   "cell_type": "code",
   "execution_count": 2,
   "id": "12a4a9dc",
   "metadata": {},
   "outputs": [],
   "source": [
    "def solution(money):\n",
    "    return [money // 5500, money % 5500]"
   ]
  },
  {
   "cell_type": "code",
   "execution_count": 3,
   "id": "6f779b52",
   "metadata": {},
   "outputs": [
    {
     "data": {
      "text/plain": [
       "[1, 0]"
      ]
     },
     "execution_count": 3,
     "metadata": {},
     "output_type": "execute_result"
    }
   ],
   "source": [
    "solution(5500)"
   ]
  },
  {
   "cell_type": "code",
   "execution_count": 4,
   "id": "7762e415",
   "metadata": {},
   "outputs": [
    {
     "data": {
      "text/plain": [
       "[2, 4000]"
      ]
     },
     "execution_count": 4,
     "metadata": {},
     "output_type": "execute_result"
    }
   ],
   "source": [
    "solution(15000)"
   ]
  },
  {
   "cell_type": "code",
   "execution_count": null,
   "id": "edef7601",
   "metadata": {},
   "outputs": [],
   "source": []
  }
 ],
 "metadata": {
  "kernelspec": {
   "display_name": "Python 3 (ipykernel)",
   "language": "python",
   "name": "python3"
  },
  "language_info": {
   "codemirror_mode": {
    "name": "ipython",
    "version": 3
   },
   "file_extension": ".py",
   "mimetype": "text/x-python",
   "name": "python",
   "nbconvert_exporter": "python",
   "pygments_lexer": "ipython3",
   "version": "3.9.15"
  }
 },
 "nbformat": 4,
 "nbformat_minor": 5
}
