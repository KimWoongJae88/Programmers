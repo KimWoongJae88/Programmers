{
 "cells": [
  {
   "cell_type": "markdown",
   "id": "e1511764",
   "metadata": {},
   "source": [
    "# 첫번째로 나오는 음수\n",
    " - 정수 리스트 num_list가 주어질 때, 첫 번째로 나오는 음수의 인덱스를 return하도록 solution 함수를 완성해주세요. 음수가 없다면 -1을 return합니다."
   ]
  },
  {
   "cell_type": "markdown",
   "id": "cdf1dd76",
   "metadata": {},
   "source": [
    "## 제한사항\n",
    "- 5 ≤ num_list의 길이 ≤ 100\n",
    "- -10 ≤ num_list의 원소 ≤ 100\n",
    "\n",
    "## 입출력 예\n",
    "- num_list = [12, 4, 15, 46, 38, -2, 15]\n",
    "- result = 5"
   ]
  },
  {
   "cell_type": "code",
   "execution_count": 1,
   "id": "5b7ef080",
   "metadata": {},
   "outputs": [],
   "source": [
    "def solution(num_list):\n",
    "    for i in range(len(num_list)):\n",
    "        if num_list[i] < 0:\n",
    "            return i\n",
    "    else:\n",
    "        return -1"
   ]
  },
  {
   "cell_type": "code",
   "execution_count": 4,
   "id": "4d9e8241",
   "metadata": {},
   "outputs": [
    {
     "data": {
      "text/plain": [
       "5"
      ]
     },
     "execution_count": 4,
     "metadata": {},
     "output_type": "execute_result"
    }
   ],
   "source": [
    "solution([12, 4, 15, 46, 38, -2, 15])"
   ]
  },
  {
   "cell_type": "code",
   "execution_count": 5,
   "id": "0d8fcd4f",
   "metadata": {},
   "outputs": [
    {
     "data": {
      "text/plain": [
       "-1"
      ]
     },
     "execution_count": 5,
     "metadata": {},
     "output_type": "execute_result"
    }
   ],
   "source": [
    "solution([13, 22, 53, 24, 15, 6])"
   ]
  },
  {
   "cell_type": "code",
   "execution_count": null,
   "id": "eef9b3c9",
   "metadata": {},
   "outputs": [],
   "source": []
  }
 ],
 "metadata": {
  "kernelspec": {
   "display_name": "Python 3 (ipykernel)",
   "language": "python",
   "name": "python3"
  },
  "language_info": {
   "codemirror_mode": {
    "name": "ipython",
    "version": 3
   },
   "file_extension": ".py",
   "mimetype": "text/x-python",
   "name": "python",
   "nbconvert_exporter": "python",
   "pygments_lexer": "ipython3",
   "version": "3.9.15"
  }
 },
 "nbformat": 4,
 "nbformat_minor": 5
}
