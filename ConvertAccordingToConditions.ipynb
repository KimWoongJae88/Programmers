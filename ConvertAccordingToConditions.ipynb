{
 "cells": [
  {
   "cell_type": "markdown",
   "id": "c6219752",
   "metadata": {},
   "source": [
    "# 조건에 맞게 수열 변환하기\n",
    " - 정수 배열 arr가 주어집니다. arr의 각 원소에 대해 값이 50보다 크거나 같은 짝수라면 2로 나누고, 50보다 작은 홀수라면 2를 곱합니다. 그 결과인 정수 배열을 return 하는 solution 함수를 완성해 주세요."
   ]
  },
  {
   "cell_type": "markdown",
   "id": "7c870633",
   "metadata": {},
   "source": [
    "## 제한사항\n",
    "- 1 ≤ arr의 길이 ≤ 1,000,000\n",
    "- 1 ≤ arr의 원소의 값 ≤ 100\n",
    "\n",
    "## 입출력 예\n",
    "- arr = [1, 2, 3, 100, 99, 98]\n",
    "- result = [2, 2, 6, 50, 99, 49]"
   ]
  },
  {
   "cell_type": "code",
   "execution_count": 1,
   "id": "885d57e6",
   "metadata": {},
   "outputs": [],
   "source": [
    "def solution(arr):\n",
    "    answer = []\n",
    "    for i in arr:\n",
    "        if i >= 50 and i % 2 == 0:\n",
    "            answer.append(i/2)\n",
    "        elif i < 50 and i % 2 != 0:\n",
    "            answer.append(i*2)\n",
    "        else:\n",
    "            answer.append(i)\n",
    "    return answer"
   ]
  },
  {
   "cell_type": "code",
   "execution_count": 2,
   "id": "403934c3",
   "metadata": {},
   "outputs": [
    {
     "data": {
      "text/plain": [
       "[2, 2, 6, 50.0, 99, 49.0]"
      ]
     },
     "execution_count": 2,
     "metadata": {},
     "output_type": "execute_result"
    }
   ],
   "source": [
    "solution([1, 2, 3, 100, 99, 98])"
   ]
  },
  {
   "cell_type": "code",
   "execution_count": null,
   "id": "ce116a36",
   "metadata": {},
   "outputs": [],
   "source": []
  }
 ],
 "metadata": {
  "kernelspec": {
   "display_name": "Python 3 (ipykernel)",
   "language": "python",
   "name": "python3"
  },
  "language_info": {
   "codemirror_mode": {
    "name": "ipython",
    "version": 3
   },
   "file_extension": ".py",
   "mimetype": "text/x-python",
   "name": "python",
   "nbconvert_exporter": "python",
   "pygments_lexer": "ipython3",
   "version": "3.9.15"
  }
 },
 "nbformat": 4,
 "nbformat_minor": 5
}
