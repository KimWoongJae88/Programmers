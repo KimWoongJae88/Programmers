{
 "cells": [
  {
   "cell_type": "markdown",
   "id": "3c66e921",
   "metadata": {},
   "source": [
    "# 배열 회전시키기\n",
    " - 정수가 담긴 배열 numbers와 문자열 direction가 매개변수로 주어집니다. 배열 numbers의 원소를 direction방향으로 한 칸씩 회전시킨 배열을 return하도록 solution 함수를 완성해주세요."
   ]
  },
  {
   "cell_type": "code",
   "execution_count": 1,
   "id": "ffc2e8b9",
   "metadata": {},
   "outputs": [],
   "source": [
    "# 제한사항\n",
    "# 3 ≤ numbers의 길이 ≤ 20\n",
    "# direction은 \"left\" 와 \"right\" 둘 중 하나입니다.\n",
    "\n",
    "# numbers : [1, 2, 3]\n",
    "# direction : \"right\"\n",
    "# result : [3, 1, 2]"
   ]
  },
  {
   "cell_type": "code",
   "execution_count": 2,
   "id": "f158a528",
   "metadata": {},
   "outputs": [],
   "source": [
    "def solution(numbers, direction):\n",
    "    c = []\n",
    "    if direction == 'right':\n",
    "        a = numbers[0:-1]\n",
    "        b = numbers[-1:]\n",
    "        c += b+a\n",
    "        return c\n",
    "    if direction == 'left':\n",
    "        a = numbers[:1]\n",
    "        b = numbers[1:]\n",
    "        c += b+a\n",
    "        return c"
   ]
  },
  {
   "cell_type": "code",
   "execution_count": 3,
   "id": "2fbb0234",
   "metadata": {},
   "outputs": [
    {
     "data": {
      "text/plain": [
       "[3, 1, 2]"
      ]
     },
     "execution_count": 3,
     "metadata": {},
     "output_type": "execute_result"
    }
   ],
   "source": [
    "solution([1, 2, 3], \"right\")"
   ]
  },
  {
   "cell_type": "code",
   "execution_count": 4,
   "id": "ddac7121",
   "metadata": {},
   "outputs": [
    {
     "data": {
      "text/plain": [
       "[455, 6, 4, -1, 45, 6, 4]"
      ]
     },
     "execution_count": 4,
     "metadata": {},
     "output_type": "execute_result"
    }
   ],
   "source": [
    "solution([4, 455, 6, 4, -1, 45, 6], \"left\")"
   ]
  },
  {
   "cell_type": "code",
   "execution_count": null,
   "id": "69362573",
   "metadata": {},
   "outputs": [],
   "source": []
  }
 ],
 "metadata": {
  "kernelspec": {
   "display_name": "Python 3 (ipykernel)",
   "language": "python",
   "name": "python3"
  },
  "language_info": {
   "codemirror_mode": {
    "name": "ipython",
    "version": 3
   },
   "file_extension": ".py",
   "mimetype": "text/x-python",
   "name": "python",
   "nbconvert_exporter": "python",
   "pygments_lexer": "ipython3",
   "version": "3.9.15"
  }
 },
 "nbformat": 4,
 "nbformat_minor": 5
}
