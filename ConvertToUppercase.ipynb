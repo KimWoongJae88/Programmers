{
 "cells": [
  {
   "cell_type": "markdown",
   "id": "9f160eef",
   "metadata": {},
   "source": [
    "# 대문자로 바꾸기\n",
    " - 알파벳으로 이루어진 문자열 myString이 주어집니다. 모든 알파벳을 대문자로 변환하여 return 하는 solution 함수를 완성해 주세요."
   ]
  },
  {
   "cell_type": "markdown",
   "id": "c1fd8be6",
   "metadata": {},
   "source": [
    "## 제한사항\n",
    "- 1 ≤ myString의 길이 ≤ 100,000\n",
    "- myString은 알파벳으로 이루어진 문자열입니다.\n",
    "## 입출력 예\n",
    "- myString = \"aBcDeFg\"\n",
    "- result = \"ABCDEFG\""
   ]
  },
  {
   "cell_type": "code",
   "execution_count": 1,
   "id": "6bbf7b04",
   "metadata": {},
   "outputs": [],
   "source": [
    "def solution(myString):\n",
    "    return myString.upper()"
   ]
  },
  {
   "cell_type": "code",
   "execution_count": 2,
   "id": "c222cd17",
   "metadata": {},
   "outputs": [
    {
     "data": {
      "text/plain": [
       "'ABCDEFG'"
      ]
     },
     "execution_count": 2,
     "metadata": {},
     "output_type": "execute_result"
    }
   ],
   "source": [
    "solution(\"aBcDeFg\")"
   ]
  },
  {
   "cell_type": "code",
   "execution_count": 3,
   "id": "707a15d9",
   "metadata": {},
   "outputs": [
    {
     "data": {
      "text/plain": [
       "'AAA'"
      ]
     },
     "execution_count": 3,
     "metadata": {},
     "output_type": "execute_result"
    }
   ],
   "source": [
    "solution(\"AAA\")"
   ]
  },
  {
   "cell_type": "code",
   "execution_count": null,
   "id": "1d68d3c0",
   "metadata": {},
   "outputs": [],
   "source": []
  }
 ],
 "metadata": {
  "kernelspec": {
   "display_name": "Python 3 (ipykernel)",
   "language": "python",
   "name": "python3"
  },
  "language_info": {
   "codemirror_mode": {
    "name": "ipython",
    "version": 3
   },
   "file_extension": ".py",
   "mimetype": "text/x-python",
   "name": "python",
   "nbconvert_exporter": "python",
   "pygments_lexer": "ipython3",
   "version": "3.9.15"
  }
 },
 "nbformat": 4,
 "nbformat_minor": 5
}
