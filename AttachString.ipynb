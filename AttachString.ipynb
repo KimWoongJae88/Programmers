{
 "cells": [
  {
   "cell_type": "markdown",
   "id": "e5ba2611",
   "metadata": {},
   "source": [
    "# 문자열 붙여서 출력하기\n",
    " - 두 개의 문자열 str1, str2가 공백으로 구분되어 입력으로 주어집니다. 입출력 예와 같이 str1과 str2을 이어서 출력하는 코드를 작성해 보세요."
   ]
  },
  {
   "cell_type": "markdown",
   "id": "ae88ec31",
   "metadata": {},
   "source": [
    "## 제한사항\n",
    "- 1 ≤ str1, str2의 길이 ≤ 10\n",
    "\n",
    "## 입출력 예\n",
    " - 입력 = apple pen\n",
    " - 출력 = applepen"
   ]
  },
  {
   "cell_type": "code",
   "execution_count": 1,
   "id": "1c9f3e1c",
   "metadata": {},
   "outputs": [
    {
     "name": "stdout",
     "output_type": "stream",
     "text": [
      "apple pen\n",
      "applepen\n"
     ]
    }
   ],
   "source": [
    "str1, str2 = input().strip().split(' ')\n",
    "print(str1+str2)"
   ]
  },
  {
   "cell_type": "code",
   "execution_count": null,
   "id": "96997fba",
   "metadata": {},
   "outputs": [],
   "source": []
  }
 ],
 "metadata": {
  "kernelspec": {
   "display_name": "Python 3 (ipykernel)",
   "language": "python",
   "name": "python3"
  },
  "language_info": {
   "codemirror_mode": {
    "name": "ipython",
    "version": 3
   },
   "file_extension": ".py",
   "mimetype": "text/x-python",
   "name": "python",
   "nbconvert_exporter": "python",
   "pygments_lexer": "ipython3",
   "version": "3.9.15"
  }
 },
 "nbformat": 4,
 "nbformat_minor": 5
}
