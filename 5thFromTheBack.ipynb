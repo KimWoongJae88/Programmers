{
 "cells": [
  {
   "cell_type": "markdown",
   "id": "c97c946d",
   "metadata": {},
   "source": [
    "# 뒤에서 5등 위로\n",
    " - 정수로 이루어진 리스트 num_list가 주어집니다. num_list에서 가장 작은 5개의 수를 제외한 수들을 오름차순으로 담은 리스트를 return하도록 solution 함수를 완성해주세요."
   ]
  },
  {
   "cell_type": "markdown",
   "id": "2addfb73",
   "metadata": {},
   "source": [
    "## 제한사항\n",
    "- 6 ≤ num_list의 길이 ≤ 30\n",
    "- 1 ≤ num_list의 원소 ≤ 100\n",
    "\n",
    "## 입출력 예\n",
    "- num_list = [12, 4, 15, 46, 38, 1, 14, 56, 32, 10]\n",
    "- result = [15, 32, 38, 46, 56]"
   ]
  },
  {
   "cell_type": "code",
   "execution_count": 6,
   "id": "be29a5d2",
   "metadata": {},
   "outputs": [],
   "source": [
    "def solution(num_list):\n",
    "    num_list.sort()\n",
    "    return num_list[5:]"
   ]
  },
  {
   "cell_type": "code",
   "execution_count": 7,
   "id": "f55f7afe",
   "metadata": {},
   "outputs": [
    {
     "data": {
      "text/plain": [
       "[15, 32, 38, 46, 56]"
      ]
     },
     "execution_count": 7,
     "metadata": {},
     "output_type": "execute_result"
    }
   ],
   "source": [
    "solution([12, 4, 15, 46, 38, 1, 14, 56, 32, 10])"
   ]
  },
  {
   "cell_type": "code",
   "execution_count": null,
   "id": "1c55fcba",
   "metadata": {},
   "outputs": [],
   "source": []
  }
 ],
 "metadata": {
  "kernelspec": {
   "display_name": "Python 3 (ipykernel)",
   "language": "python",
   "name": "python3"
  },
  "language_info": {
   "codemirror_mode": {
    "name": "ipython",
    "version": 3
   },
   "file_extension": ".py",
   "mimetype": "text/x-python",
   "name": "python",
   "nbconvert_exporter": "python",
   "pygments_lexer": "ipython3",
   "version": "3.9.15"
  }
 },
 "nbformat": 4,
 "nbformat_minor": 5
}
