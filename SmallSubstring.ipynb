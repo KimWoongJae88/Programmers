{
 "cells": [
  {
   "cell_type": "markdown",
   "id": "e4243fb3",
   "metadata": {},
   "source": [
    "# 크기가 작은 부분문자열\n",
    " - 숫자로 이루어진 문자열 t와 p가 주어질 때, t에서 p와 길이가 같은 부분문자열 중에서, 이 부분문자열이 나타내는 수가 p가 나타내는 수보다 작거나 같은 것이 나오는 횟수를 return하는 함수 solution을 완성하세요.\n",
    " - 예를 들어, t=\"3141592\"이고 p=\"271\" 인 경우, t의 길이가 3인 부분 문자열은 314, 141, 415, 159, 592입니다. 이 문자열이 나타내는 수 중 271보다 작거나 같은 수는 141, 159 2개 입니다."
   ]
  },
  {
   "cell_type": "markdown",
   "id": "fb826aa7",
   "metadata": {},
   "source": [
    "## 제한사항\n",
    " - 1 ≤ p의 길이 ≤ 18\n",
    " - p의 길이 ≤ t의 길이 ≤ 10,000\n",
    " - t와 p는 숫자로만 이루어진 문자열이며, 0으로 시작하지 않습니다.\n",
    "\n",
    "## 입출력 예\n",
    " - t = \"3141592\"\n",
    " - p = \"271\"\n",
    " - result = 2"
   ]
  },
  {
   "cell_type": "code",
   "execution_count": 17,
   "id": "74769574",
   "metadata": {},
   "outputs": [],
   "source": [
    "def solution(t, p):\n",
    "    answer = []\n",
    "    a = []\n",
    "    for i in range(len(t)-len(p)+1):\n",
    "        a.append(t[0+i:len(p)+i])\n",
    "    for j in a:\n",
    "        if j <= p:\n",
    "            answer.append(j)\n",
    "    return len(answer)    "
   ]
  },
  {
   "cell_type": "code",
   "execution_count": 18,
   "id": "e803037b",
   "metadata": {},
   "outputs": [
    {
     "data": {
      "text/plain": [
       "2"
      ]
     },
     "execution_count": 18,
     "metadata": {},
     "output_type": "execute_result"
    }
   ],
   "source": [
    "solution(\"3141592\", \"271\")"
   ]
  },
  {
   "cell_type": "code",
   "execution_count": 20,
   "id": "82cb0a95",
   "metadata": {},
   "outputs": [
    {
     "data": {
      "text/plain": [
       "8"
      ]
     },
     "execution_count": 20,
     "metadata": {},
     "output_type": "execute_result"
    }
   ],
   "source": [
    "solution(\"500220839878\", \"7\")"
   ]
  },
  {
   "cell_type": "code",
   "execution_count": null,
   "id": "97a7fbf1",
   "metadata": {},
   "outputs": [],
   "source": []
  }
 ],
 "metadata": {
  "kernelspec": {
   "display_name": "Python 3 (ipykernel)",
   "language": "python",
   "name": "python3"
  },
  "language_info": {
   "codemirror_mode": {
    "name": "ipython",
    "version": 3
   },
   "file_extension": ".py",
   "mimetype": "text/x-python",
   "name": "python",
   "nbconvert_exporter": "python",
   "pygments_lexer": "ipython3",
   "version": "3.9.15"
  }
 },
 "nbformat": 4,
 "nbformat_minor": 5
}
