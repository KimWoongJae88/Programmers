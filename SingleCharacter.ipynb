{
 "cells": [
  {
   "cell_type": "markdown",
   "id": "66e86733",
   "metadata": {},
   "source": [
    "# 한 번만 등장하는 문자\n",
    " - 문자열 s가 매개변수로 주어집니다. s에서 한 번만 등장하는 문자를 사전 순으로 정렬한 문자열을 return 하도록 solution 함수를 완성해보세요. 한 번만 등장하는 문자가 없을 경우 빈 문자열을 return 합니다."
   ]
  },
  {
   "cell_type": "markdown",
   "id": "cf800be2",
   "metadata": {},
   "source": [
    "## 제한사항\n",
    " - 0 < \bs의 길이 < 1,000\n",
    " - s는 소문자로만 이루어져 있습니다.\n",
    "\n",
    "## 입출력 예\n",
    " - s : \"abcabcadc\"\n",
    " - result : \"d\""
   ]
  },
  {
   "cell_type": "code",
   "execution_count": 1,
   "id": "6355be09",
   "metadata": {},
   "outputs": [],
   "source": [
    "def solution(s):\n",
    "    answer = ''\n",
    "    for i in sorted(s):\n",
    "        if s.count(i) == 1:\n",
    "            answer += i\n",
    "    return answer"
   ]
  },
  {
   "cell_type": "code",
   "execution_count": 2,
   "id": "344a04bf",
   "metadata": {},
   "outputs": [
    {
     "data": {
      "text/plain": [
       "'d'"
      ]
     },
     "execution_count": 2,
     "metadata": {},
     "output_type": "execute_result"
    }
   ],
   "source": [
    "solution(\"abcabcadc\")"
   ]
  },
  {
   "cell_type": "code",
   "execution_count": 3,
   "id": "3224dd63",
   "metadata": {},
   "outputs": [
    {
     "data": {
      "text/plain": [
       "'eho'"
      ]
     },
     "execution_count": 3,
     "metadata": {},
     "output_type": "execute_result"
    }
   ],
   "source": [
    "solution(\"hello\")"
   ]
  },
  {
   "cell_type": "code",
   "execution_count": 4,
   "id": "a20c041f",
   "metadata": {},
   "outputs": [
    {
     "data": {
      "text/plain": [
       "''"
      ]
     },
     "execution_count": 4,
     "metadata": {},
     "output_type": "execute_result"
    }
   ],
   "source": [
    "solution(\"aa\")"
   ]
  },
  {
   "cell_type": "code",
   "execution_count": null,
   "id": "4fb7857e",
   "metadata": {},
   "outputs": [],
   "source": []
  }
 ],
 "metadata": {
  "kernelspec": {
   "display_name": "Python 3 (ipykernel)",
   "language": "python",
   "name": "python3"
  },
  "language_info": {
   "codemirror_mode": {
    "name": "ipython",
    "version": 3
   },
   "file_extension": ".py",
   "mimetype": "text/x-python",
   "name": "python",
   "nbconvert_exporter": "python",
   "pygments_lexer": "ipython3",
   "version": "3.9.15"
  }
 },
 "nbformat": 4,
 "nbformat_minor": 5
}
