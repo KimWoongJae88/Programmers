{
 "cells": [
  {
   "cell_type": "markdown",
   "id": "b9ef9e58",
   "metadata": {},
   "source": [
    "# 공 던지기\n",
    " - 머쓱이는 친구들과 동그랗게 서서 공 던지기 게임을 하고 있습니다. 공은 1번부터 던지며 오른쪽으로 한 명을 건너뛰고 그다음 사람에게만 던질 수 있습니다. 친구들의 번호가 들어있는 정수 배열 numbers와 정수 K가 주어질 때, k번째로 공을 던지는 사람의 번호는 무엇인지 return 하도록 solution 함수를 완성해보세요."
   ]
  },
  {
   "cell_type": "markdown",
   "id": "a02aeb18",
   "metadata": {},
   "source": [
    "## 제한사항\n",
    " - 2 < numbers의 길이 < 100\n",
    " - 0 < k < 1,000\n",
    " - numbers의 첫 번째와 마지막 번호는 실제로 바로 옆에 있습니다.\n",
    " - numbers는 1부터 시작하며 번호는 순서대로 올라갑니다.\n",
    "\n",
    "## 입출력 예\n",
    " - numbers : [1, 2, 3, 4]\n",
    " - k : 2\n",
    " - result : 3"
   ]
  },
  {
   "cell_type": "code",
   "execution_count": 1,
   "id": "aa2a68e4",
   "metadata": {},
   "outputs": [],
   "source": [
    "def solution(numbers, k):\n",
    "    a = []\n",
    "    for _ in range(100):\n",
    "        a += numbers\n",
    "    return a[(k-1)*2]"
   ]
  },
  {
   "cell_type": "code",
   "execution_count": 3,
   "id": "ca9780b1",
   "metadata": {},
   "outputs": [
    {
     "data": {
      "text/plain": [
       "3"
      ]
     },
     "execution_count": 3,
     "metadata": {},
     "output_type": "execute_result"
    }
   ],
   "source": [
    "solution([1, 2, 3, 4], 2)"
   ]
  },
  {
   "cell_type": "code",
   "execution_count": 4,
   "id": "0c301c6b",
   "metadata": {},
   "outputs": [
    {
     "data": {
      "text/plain": [
       "3"
      ]
     },
     "execution_count": 4,
     "metadata": {},
     "output_type": "execute_result"
    }
   ],
   "source": [
    "solution([1, 2, 3, 4, 5, 6], 5)"
   ]
  },
  {
   "cell_type": "code",
   "execution_count": null,
   "id": "fce1aa3b",
   "metadata": {},
   "outputs": [],
   "source": []
  }
 ],
 "metadata": {
  "kernelspec": {
   "display_name": "Python 3 (ipykernel)",
   "language": "python",
   "name": "python3"
  },
  "language_info": {
   "codemirror_mode": {
    "name": "ipython",
    "version": 3
   },
   "file_extension": ".py",
   "mimetype": "text/x-python",
   "name": "python",
   "nbconvert_exporter": "python",
   "pygments_lexer": "ipython3",
   "version": "3.9.15"
  }
 },
 "nbformat": 4,
 "nbformat_minor": 5
}
