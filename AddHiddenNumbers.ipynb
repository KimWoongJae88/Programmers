{
 "cells": [
  {
   "cell_type": "markdown",
   "id": "2f1aa1e9",
   "metadata": {},
   "source": [
    "# 숨어있는 숫자의 덧셈\n",
    " - 문자열 my_string이 매개변수로 주어집니다. my_string은 소문자, 대문자, 자연수로만 구성되어있습니다. my_string안의 자연수들의 합을 return하도록 solution 함수를 완성해주세요."
   ]
  },
  {
   "cell_type": "markdown",
   "id": "e5d463ac",
   "metadata": {},
   "source": [
    "## 제한사항\n",
    " - 1 ≤ my_string의 길이 ≤ 1,000\n",
    " - 1 ≤ my_string 안의 자연수 ≤ 1000\n",
    " - 연속된 수는 하나의 숫자로 간주합니다.\n",
    " - 000123과 같이 0이 선행하는 경우는 없습니다.\n",
    " - 문자열에 자연수가 없는 경우 0을 return 해주세요.\n",
    "\n",
    "## 입출력 예\n",
    " - my_string : \"aAb1B2cC34oOp\"\n",
    " - result : 37"
   ]
  },
  {
   "cell_type": "code",
   "execution_count": 1,
   "id": "013d178e",
   "metadata": {},
   "outputs": [],
   "source": [
    "def solution(my_string):\n",
    "    a = ''\n",
    "    b = 0\n",
    "    if my_string.isdigit() == True:\n",
    "        return int(my_string)\n",
    "    for i in my_string:\n",
    "        if i.isdigit() == True:\n",
    "            a += i\n",
    "        if i.isdigit() == False:\n",
    "            if a.isdigit() == True:\n",
    "                b += (int(a))\n",
    "                a = ''\n",
    "    if a.isdigit() == True:\n",
    "        b += (int(a))\n",
    "    return b"
   ]
  },
  {
   "cell_type": "code",
   "execution_count": 2,
   "id": "059313f3",
   "metadata": {},
   "outputs": [
    {
     "data": {
      "text/plain": [
       "37"
      ]
     },
     "execution_count": 2,
     "metadata": {},
     "output_type": "execute_result"
    }
   ],
   "source": [
    "solution(\"aAb1B2cC34oOp\")"
   ]
  },
  {
   "cell_type": "code",
   "execution_count": 3,
   "id": "459907cf",
   "metadata": {},
   "outputs": [
    {
     "data": {
      "text/plain": [
       "133"
      ]
     },
     "execution_count": 3,
     "metadata": {},
     "output_type": "execute_result"
    }
   ],
   "source": [
    "solution(\"1a2b3c4d123Z\")"
   ]
  },
  {
   "cell_type": "code",
   "execution_count": null,
   "id": "ad6c3e84",
   "metadata": {},
   "outputs": [],
   "source": []
  }
 ],
 "metadata": {
  "kernelspec": {
   "display_name": "Python 3 (ipykernel)",
   "language": "python",
   "name": "python3"
  },
  "language_info": {
   "codemirror_mode": {
    "name": "ipython",
    "version": 3
   },
   "file_extension": ".py",
   "mimetype": "text/x-python",
   "name": "python",
   "nbconvert_exporter": "python",
   "pygments_lexer": "ipython3",
   "version": "3.9.15"
  }
 },
 "nbformat": 4,
 "nbformat_minor": 5
}
