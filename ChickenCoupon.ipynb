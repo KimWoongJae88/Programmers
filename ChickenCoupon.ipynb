{
 "cells": [
  {
   "cell_type": "markdown",
   "id": "d7713508",
   "metadata": {},
   "source": [
    "# 치킨 쿠폰\n",
    "### - 프로그래머스 치킨은 치킨을 시켜먹으면 한 마리당 쿠폰을 한 장 발급합니다. 쿠폰을 열 장 모으면 치킨을 한 마리 서비스로 받을 수 있고, 서비스 치킨에도 쿠폰이 발급됩니다. 시켜먹은 치킨의 수 chicken이 매개변수로 주어질 때 받을 수 있는 최대 서비스 치킨의 수를 return하도록 solution 함수를 완성해주세요."
   ]
  },
  {
   "cell_type": "code",
   "execution_count": 11,
   "id": "5d91d45b",
   "metadata": {},
   "outputs": [],
   "source": [
    "# 제한사항\n",
    "# chicken은 정수입니다.\n",
    "# 0 ≤ chicken ≤ 1,000,000"
   ]
  },
  {
   "cell_type": "code",
   "execution_count": 125,
   "id": "153e5c46",
   "metadata": {},
   "outputs": [
    {
     "data": {
      "text/plain": [
       "222"
      ]
     },
     "execution_count": 125,
     "metadata": {},
     "output_type": "execute_result"
    }
   ],
   "source": [
    "def solution(c):\n",
    "    a = []  # 시켜먹은 치킨\n",
    "    b = 0  # 시켜먹은 치킨으로 받은 쿠폰 수\n",
    "    while c >= 10:\n",
    "        a.append(c // 10)\n",
    "        b += (c % 10)\n",
    "        c = a[-1]\n",
    "        if c < 10:\n",
    "            a.append((b+c) // 10)  #  시켜먹은 치킨이 10마리가 안되어서 다시 시켜먹지 못할때, 그때의 쿠폰갯수와 그동안 모은 쿠폰갯수로 치킨을 다시 시켜먹음\n",
    "            if ((b+c) // 10+(b+c) % 10) >= 10:  # 위에서 시켜먹고 받은 쿠폰을 더해줬을때 또 10이 넘어 시켜먹을수 있을때는 마지막으로 한마리를 더 더해줌\n",
    "                a.append(1)\n",
    "    return sum(a)\n",
    "solution(1999)"
   ]
  }
 ],
 "metadata": {
  "kernelspec": {
   "display_name": "Python 3 (ipykernel)",
   "language": "python",
   "name": "python3"
  },
  "language_info": {
   "codemirror_mode": {
    "name": "ipython",
    "version": 3
   },
   "file_extension": ".py",
   "mimetype": "text/x-python",
   "name": "python",
   "nbconvert_exporter": "python",
   "pygments_lexer": "ipython3",
   "version": "3.9.12"
  }
 },
 "nbformat": 4,
 "nbformat_minor": 5
}
