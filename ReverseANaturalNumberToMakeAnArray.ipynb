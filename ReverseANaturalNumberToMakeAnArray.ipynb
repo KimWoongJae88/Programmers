{
 "cells": [
  {
   "cell_type": "markdown",
   "id": "49f4d056",
   "metadata": {},
   "source": [
    "# 자연수 뒤집어서 배열로 만들기\n",
    " - 자연수 n을 뒤집어 각 자리 숫자를 원소로 가지는 배열 형태로 리턴해주세요. 예를들어 n이 12345이면 [5,4,3,2,1]을 리턴합니다."
   ]
  },
  {
   "cell_type": "code",
   "execution_count": 1,
   "id": "7dcca47e",
   "metadata": {},
   "outputs": [],
   "source": [
    "# 제한 조건\n",
    "# n은 10,000,000,000이하인 자연수입니다.\n",
    "\n",
    "# n : 12345\n",
    "# return : [5,4,3,2,1]"
   ]
  },
  {
   "cell_type": "code",
   "execution_count": 2,
   "id": "c208f22a",
   "metadata": {},
   "outputs": [],
   "source": [
    "def solution(n):  # n = 12345 일 때\n",
    "    a = []\n",
    "    n = str(n)  # '12345' 문자열로 바꾸고\n",
    "    for i in range(len(n)):  # range로 n자릿수만큼 반복 i = 0,1,2,3,4 가 반복\n",
    "        j = len(n) - 1 - i  # 총자리수 5 -\n",
    "        a.append(int(n[j]))\n",
    "    return a"
   ]
  },
  {
   "cell_type": "code",
   "execution_count": 3,
   "id": "97a53b29",
   "metadata": {},
   "outputs": [
    {
     "data": {
      "text/plain": [
       "[5, 4, 3, 2, 1]"
      ]
     },
     "execution_count": 3,
     "metadata": {},
     "output_type": "execute_result"
    }
   ],
   "source": [
    "solution(12345)"
   ]
  },
  {
   "cell_type": "code",
   "execution_count": 4,
   "id": "78e5b48e",
   "metadata": {},
   "outputs": [
    {
     "data": {
      "text/plain": [
       "[1, 4, 7, 5]"
      ]
     },
     "execution_count": 4,
     "metadata": {},
     "output_type": "execute_result"
    }
   ],
   "source": [
    "solution(5741)"
   ]
  },
  {
   "cell_type": "code",
   "execution_count": null,
   "id": "d8efa801",
   "metadata": {},
   "outputs": [],
   "source": []
  }
 ],
 "metadata": {
  "kernelspec": {
   "display_name": "Python 3 (ipykernel)",
   "language": "python",
   "name": "python3"
  },
  "language_info": {
   "codemirror_mode": {
    "name": "ipython",
    "version": 3
   },
   "file_extension": ".py",
   "mimetype": "text/x-python",
   "name": "python",
   "nbconvert_exporter": "python",
   "pygments_lexer": "ipython3",
   "version": "3.9.15"
  }
 },
 "nbformat": 4,
 "nbformat_minor": 5
}
