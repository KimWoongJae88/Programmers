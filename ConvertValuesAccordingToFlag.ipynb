{
 "cells": [
  {
   "cell_type": "markdown",
   "id": "0ab54677",
   "metadata": {},
   "source": [
    "# flag에 따라 값 변환하기\n",
    " - 두 정수 a, b와 boolean 변수 flag가 매개변수로 주어질 때, flag가 true면 a + b를 false면 a - b를 return 하는 solution 함수를 작성해 주세요."
   ]
  },
  {
   "cell_type": "markdown",
   "id": "0b1fa135",
   "metadata": {},
   "source": [
    "## 제한사항\n",
    " - -1000 ≤ a, b ≤ 1,000\n",
    "\n",
    "## 입출력 예\n",
    " - a = 4\n",
    " - b = 7\n",
    " - flag = true\n",
    " - result = 3"
   ]
  },
  {
   "cell_type": "code",
   "execution_count": 1,
   "id": "80aad911",
   "metadata": {},
   "outputs": [],
   "source": [
    "def solution(a, b, flag):\n",
    "    if flag == True:\n",
    "        return a + b\n",
    "    else:\n",
    "        return a - b"
   ]
  },
  {
   "cell_type": "code",
   "execution_count": 4,
   "id": "cf6ab7df",
   "metadata": {},
   "outputs": [
    {
     "data": {
      "text/plain": [
       "3"
      ]
     },
     "execution_count": 4,
     "metadata": {},
     "output_type": "execute_result"
    }
   ],
   "source": [
    "solution(-4, 7, True)"
   ]
  },
  {
   "cell_type": "code",
   "execution_count": 5,
   "id": "fb1deb82",
   "metadata": {},
   "outputs": [
    {
     "data": {
      "text/plain": [
       "-11"
      ]
     },
     "execution_count": 5,
     "metadata": {},
     "output_type": "execute_result"
    }
   ],
   "source": [
    "solution(-4, 7, False)"
   ]
  },
  {
   "cell_type": "code",
   "execution_count": null,
   "id": "ba95346f",
   "metadata": {},
   "outputs": [],
   "source": []
  }
 ],
 "metadata": {
  "kernelspec": {
   "display_name": "Python 3 (ipykernel)",
   "language": "python",
   "name": "python3"
  },
  "language_info": {
   "codemirror_mode": {
    "name": "ipython",
    "version": 3
   },
   "file_extension": ".py",
   "mimetype": "text/x-python",
   "name": "python",
   "nbconvert_exporter": "python",
   "pygments_lexer": "ipython3",
   "version": "3.9.15"
  }
 },
 "nbformat": 4,
 "nbformat_minor": 5
}
