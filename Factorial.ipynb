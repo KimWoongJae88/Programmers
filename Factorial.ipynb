{
 "cells": [
  {
   "cell_type": "markdown",
   "id": "cb83a49a",
   "metadata": {},
   "source": [
    "# 팩토리얼\n",
    " - i팩토리얼 (i!)은 1부터 i까지 정수의 곱을 의미합니다. 예를들어 5! = 5 * 4 * 3 * 2 * 1 = 120 입니다. 정수 n이 주어질 때 다음 조건을 만족하는 가장 큰 정수 i를 return 하도록 solution 함수를 완성해주세요.\n",
    "  - i! ≤ n"
   ]
  },
  {
   "cell_type": "markdown",
   "id": "4f93ae60",
   "metadata": {},
   "source": [
    "## 제한사항\n",
    " - 0 < n ≤ 3,628,800\n",
    "\n",
    "## 입출력 예\n",
    " - n : 3628800\n",
    " - result : 10"
   ]
  },
  {
   "cell_type": "code",
   "execution_count": 1,
   "id": "213ede67",
   "metadata": {},
   "outputs": [],
   "source": [
    "def solution(n):\n",
    "    a = []\n",
    "    c = []\n",
    "    for i in range(1, 11):\n",
    "        b = 1\n",
    "        for j in range(1, i+1):\n",
    "            b *= j\n",
    "        a.append(b)\n",
    "    for i in a:\n",
    "        if n >= i:\n",
    "            c.append(i)\n",
    "    return c.index(max(c)) + 1"
   ]
  },
  {
   "cell_type": "code",
   "execution_count": 2,
   "id": "63d870ec",
   "metadata": {},
   "outputs": [
    {
     "data": {
      "text/plain": [
       "10"
      ]
     },
     "execution_count": 2,
     "metadata": {},
     "output_type": "execute_result"
    }
   ],
   "source": [
    "solution(3628800)"
   ]
  },
  {
   "cell_type": "code",
   "execution_count": 3,
   "id": "6f5cec27",
   "metadata": {},
   "outputs": [
    {
     "data": {
      "text/plain": [
       "3"
      ]
     },
     "execution_count": 3,
     "metadata": {},
     "output_type": "execute_result"
    }
   ],
   "source": [
    "solution(7)"
   ]
  },
  {
   "cell_type": "code",
   "execution_count": null,
   "id": "2ea91245",
   "metadata": {},
   "outputs": [],
   "source": []
  }
 ],
 "metadata": {
  "kernelspec": {
   "display_name": "Python 3 (ipykernel)",
   "language": "python",
   "name": "python3"
  },
  "language_info": {
   "codemirror_mode": {
    "name": "ipython",
    "version": 3
   },
   "file_extension": ".py",
   "mimetype": "text/x-python",
   "name": "python",
   "nbconvert_exporter": "python",
   "pygments_lexer": "ipython3",
   "version": "3.9.15"
  }
 },
 "nbformat": 4,
 "nbformat_minor": 5
}
