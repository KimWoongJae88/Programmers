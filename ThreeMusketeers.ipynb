{
 "cells": [
  {
   "cell_type": "markdown",
   "id": "5858f5eb",
   "metadata": {},
   "source": [
    "# 삼총사\n",
    " - 한국중학교에 다니는 학생들은 각자 정수 번호를 갖고 있습니다. 이 학교 학생 3명의 정수 번호를 더했을 때 0이 되면 3명의 학생은 삼총사라고 합니다. 예를 들어, 5명의 학생이 있고, 각각의 정수 번호가 순서대로 -2, 3, 0, 2, -5일 때, 첫 번째, 세 번째, 네 번째 학생의 정수 번호를 더하면 0이므로 세 학생은 삼총사입니다. 또한, 두 번째, 네 번째, 다섯 번째 학생의 정수 번호를 더해도 0이므로 세 학생도 삼총사입니다. 따라서 이 경우 한국중학교에서는 두 가지 방법으로 삼총사를 만들 수 있습니다. 한국중학교 학생들의 번호를 나타내는 정수 배열 number가 매개변수로 주어질 때, 학생들 중 삼총사를 만들 수 있는 방법의 수를 return 하도록 solution 함수를 완성하세요."
   ]
  },
  {
   "cell_type": "code",
   "execution_count": 1,
   "id": "401bcc44",
   "metadata": {},
   "outputs": [],
   "source": [
    "# 제한사항\n",
    "# 3 ≤ number의 길이 ≤ 13\n",
    "# -1,000 ≤ number의 각 원소 ≤ 1,000\n",
    "# 서로 다른 학생의 정수 번호가 같을 수 있습니다."
   ]
  },
  {
   "cell_type": "code",
   "execution_count": 2,
   "id": "d615f665",
   "metadata": {
    "scrolled": true
   },
   "outputs": [],
   "source": [
    "from itertools import combinations\n",
    "def solution(number):\n",
    "    answer = 0\n",
    "    a = list(combinations(number, 3))  # itertools의 combinations(조합)을 이용하여 3명이 조합되는 모든 경우의 수를 a에 객체화\n",
    "    for i in range(len(a)):  # 객체화 된 3명의 조합을 반복하여\n",
    "        if sum(a[i]) == 0:  # 합이 0 일 때\n",
    "            answer += 1   # 1을 더해준다.\n",
    "    return answer"
   ]
  },
  {
   "cell_type": "code",
   "execution_count": 3,
   "id": "82ad5700",
   "metadata": {},
   "outputs": [
    {
     "data": {
      "text/plain": [
       "5"
      ]
     },
     "execution_count": 3,
     "metadata": {},
     "output_type": "execute_result"
    }
   ],
   "source": [
    "solution([-3, -2, -1, 0, 1, 2, 3])"
   ]
  },
  {
   "cell_type": "markdown",
   "id": "eb10a138",
   "metadata": {},
   "source": [
    "---\n",
    "## 참고사항\n",
    " - 내장함수 itertools를 사용하지 않고 리스트 조합을 구하는 방법"
   ]
  },
  {
   "cell_type": "code",
   "execution_count": 4,
   "id": "53cad9d0",
   "metadata": {},
   "outputs": [
    {
     "name": "stdout",
     "output_type": "stream",
     "text": [
      "[[0, 1], [0, 2], [0, 3], [1, 2], [1, 3], [2, 3]]\n"
     ]
    }
   ],
   "source": [
    "# combination([0,1,2,3], 2) = ([0], combination([1, 2, 3], 1))\n",
    "#                           + ([1], combination([2, 3], 1))\n",
    "#                           + ([2], combination([3], 1)))\n",
    "def combination(arr, n):\n",
    "    result = []\n",
    "    if n == 0:\n",
    "        return [[]]\n",
    "    \n",
    "    for i in range(len(arr)):\n",
    "        elem = arr[i]\n",
    "        for rest in combination(arr[i + 1:], n - 1):\n",
    "            result.append([elem] + rest)\n",
    "    return result\n",
    " \n",
    "print(combination([0,1,2,3], 2))"
   ]
  },
  {
   "cell_type": "markdown",
   "id": "4b639b38",
   "metadata": {},
   "source": [
    "   - 이해가 잘안됨\n",
    "   - https://yangnyang.tistory.com/14 리스트 모든 경우의 수를 구하는 방법을 적은 사이트"
   ]
  },
  {
   "cell_type": "code",
   "execution_count": null,
   "id": "23131b22",
   "metadata": {},
   "outputs": [],
   "source": []
  }
 ],
 "metadata": {
  "kernelspec": {
   "display_name": "Python 3 (ipykernel)",
   "language": "python",
   "name": "python3"
  },
  "language_info": {
   "codemirror_mode": {
    "name": "ipython",
    "version": 3
   },
   "file_extension": ".py",
   "mimetype": "text/x-python",
   "name": "python",
   "nbconvert_exporter": "python",
   "pygments_lexer": "ipython3",
   "version": "3.9.12"
  }
 },
 "nbformat": 4,
 "nbformat_minor": 5
}
