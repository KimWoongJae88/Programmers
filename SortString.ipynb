{
 "cells": [
  {
   "cell_type": "markdown",
   "id": "b51024d3",
   "metadata": {},
   "source": [
    "# 문자열 내 마음대로 정렬\n",
    " - 문자열로 구성된 리스트 strings와, 정수 n이 주어졌을 때, 각 문자열의 인덱스 n번째 글자를 기준으로 오름차순 정렬하려 합니다. 예를 들어 strings가 [\"sun\", \"bed\", \"car\"]이고 n이 1이면 각 단어의 인덱스 1의 문자 \"u\", \"e\", \"a\"로 strings를 정렬합니다."
   ]
  },
  {
   "cell_type": "markdown",
   "id": "82d72964",
   "metadata": {},
   "source": [
    "## 제한 조건\n",
    " - strings는 길이 1 이상, 50이하인 배열입니다.\n",
    " - strings의 원소는 소문자 알파벳으로 이루어져 있습니다.\n",
    " - strings의 원소는 길이 1 이상, 100이하인 문자열입니다.\n",
    " - 모든 strings의 원소의 길이는 n보다 큽니다.\n",
    " - 인덱스 1의 문자가 같은 문자열이 여럿 일 경우, 사전순으로 앞선 문자열이 앞쪽에 위치합니다.\n",
    "\n",
    "## 입출력 예\n",
    " - strings = [\"sun\", \"bed\", \"car\"]\n",
    " - n = 1\n",
    " - return = [\"car\", \"bed\", \"sun\"]"
   ]
  },
  {
   "cell_type": "markdown",
   "id": "2e0e8ef1",
   "metadata": {},
   "source": [
    "## 첫번째 풀이"
   ]
  },
  {
   "cell_type": "code",
   "execution_count": null,
   "id": "414a97fe",
   "metadata": {},
   "outputs": [],
   "source": [
    "def solution(strings, n):\n",
    "    answer = []\n",
    "    a = []\n",
    "    for i in strings:\n",
    "        a.append(i[n])\n",
    "    a = sorted(a)\n",
    "    print('a', a)\n",
    "    for i in a:\n",
    "        for j in strings:\n",
    "            print('j', j)\n",
    "            if i == j[n]:\n",
    "                answer.append(j)\n",
    "    return answer"
   ]
  },
  {
   "cell_type": "code",
   "execution_count": 8,
   "id": "3f7242ee",
   "metadata": {},
   "outputs": [
    {
     "name": "stdout",
     "output_type": "stream",
     "text": [
      "a ['b', 'b', 'd']\n",
      "j abce\n",
      "j abcd\n",
      "j cdx\n",
      "j abce\n",
      "j abcd\n",
      "j cdx\n",
      "j abce\n",
      "j abcd\n",
      "j cdx\n"
     ]
    },
    {
     "data": {
      "text/plain": [
       "['abce', 'abcd', 'abce', 'abcd', 'cdx']"
      ]
     },
     "execution_count": 8,
     "metadata": {},
     "output_type": "execute_result"
    }
   ],
   "source": [
    "solution([\"abce\", \"abcd\", \"cdx\"], 1)"
   ]
  },
  {
   "cell_type": "code",
   "execution_count": 13,
   "id": "672cceeb",
   "metadata": {},
   "outputs": [
    {
     "data": {
      "text/plain": [
       "['abcd', 'abce', 'cdx']"
      ]
     },
     "execution_count": 13,
     "metadata": {},
     "output_type": "execute_result"
    }
   ],
   "source": [
    "a = [\"abce\", \"abcd\", \"cdx\"]\n",
    "sorted(a)"
   ]
  },
  {
   "cell_type": "markdown",
   "id": "4d194d90",
   "metadata": {},
   "source": [
    "## 두번째 풀이"
   ]
  },
  {
   "cell_type": "code",
   "execution_count": 50,
   "id": "4adbc491",
   "metadata": {},
   "outputs": [],
   "source": [
    "def solution(strings, n):\n",
    "    answer = []\n",
    "    st = []\n",
    "    pm = []\n",
    "    for i in strings:\n",
    "        if i[n] not in st:\n",
    "            st.append(i[n])\n",
    "    st.sort()\n",
    "    for j in st:\n",
    "        for k in strings:\n",
    "            if j == k[n]:\n",
    "                pm.append(k)        \n",
    "        pm.sort()\n",
    "        answer += pm\n",
    "        pm = []\n",
    "    return answer"
   ]
  },
  {
   "cell_type": "code",
   "execution_count": 51,
   "id": "417fee6c",
   "metadata": {},
   "outputs": [
    {
     "data": {
      "text/plain": [
       "['abcd', 'abce', 'cdx']"
      ]
     },
     "execution_count": 51,
     "metadata": {},
     "output_type": "execute_result"
    }
   ],
   "source": [
    "solution([\"abce\", \"abcd\", \"cdx\"], 2)"
   ]
  },
  {
   "cell_type": "code",
   "execution_count": 52,
   "id": "74c9a0f7",
   "metadata": {},
   "outputs": [
    {
     "data": {
      "text/plain": [
       "['car', 'bed', 'sun']"
      ]
     },
     "execution_count": 52,
     "metadata": {},
     "output_type": "execute_result"
    }
   ],
   "source": [
    "solution([\"sun\", \"bed\", \"car\"], 1)"
   ]
  },
  {
   "cell_type": "code",
   "execution_count": null,
   "id": "7ba1b4ca",
   "metadata": {},
   "outputs": [],
   "source": []
  }
 ],
 "metadata": {
  "kernelspec": {
   "display_name": "Python 3 (ipykernel)",
   "language": "python",
   "name": "python3"
  },
  "language_info": {
   "codemirror_mode": {
    "name": "ipython",
    "version": 3
   },
   "file_extension": ".py",
   "mimetype": "text/x-python",
   "name": "python",
   "nbconvert_exporter": "python",
   "pygments_lexer": "ipython3",
   "version": "3.9.15"
  }
 },
 "nbformat": 4,
 "nbformat_minor": 5
}
