{
 "cells": [
  {
   "cell_type": "markdown",
   "id": "b51024d3",
   "metadata": {},
   "source": [
    "# 문자열 내 마음대로 정렬\n",
    " - 문자열로 구성된 리스트 strings와, 정수 n이 주어졌을 때, 각 문자열의 인덱스 n번째 글자를 기준으로 오름차순 정렬하려 합니다. 예를 들어 strings가 [\"sun\", \"bed\", \"car\"]이고 n이 1이면 각 단어의 인덱스 1의 문자 \"u\", \"e\", \"a\"로 strings를 정렬합니다."
   ]
  },
  {
   "cell_type": "code",
   "execution_count": 1,
   "id": "e698de02",
   "metadata": {},
   "outputs": [],
   "source": [
    "# 제한 조건\n",
    "# strings는 길이 1 이상, 50이하인 배열입니다.\n",
    "# strings의 원소는 소문자 알파벳으로 이루어져 있습니다.\n",
    "# strings의 원소는 길이 1 이상, 100이하인 문자열입니다.\n",
    "# 모든 strings의 원소의 길이는 n보다 큽니다.\n",
    "# 인덱스 1의 문자가 같은 문자열이 여럿 일 경우, 사전순으로 앞선 문자열이 앞쪽에 위치합니다.\n",
    "\n",
    "# strings : [\"sun\", \"bed\", \"car\"]\n",
    "# n : 1\n",
    "# return : [\"car\", \"bed\", \"sun\"]"
   ]
  },
  {
   "cell_type": "code",
   "execution_count": 13,
   "id": "be26015f",
   "metadata": {},
   "outputs": [
    {
     "name": "stdout",
     "output_type": "stream",
     "text": [
      "['car', 'bed', 'sun']\n"
     ]
    }
   ],
   "source": [
    "def solution(strings, n):\n",
    "    answer = []\n",
    "    a = []\n",
    "    for i in strings:\n",
    "        a.append(i[n])\n",
    "    a = sorted(a)\n",
    "    for i in a:\n",
    "        for j in strings:\n",
    "            if i == j[n]:\n",
    "                answer.append(j)\n",
    "    return answer"
   ]
  },
  {
   "cell_type": "code",
   "execution_count": 6,
   "id": "3f7242ee",
   "metadata": {},
   "outputs": [
    {
     "data": {
      "text/plain": [
       "True"
      ]
     },
     "execution_count": 6,
     "metadata": {},
     "output_type": "execute_result"
    }
   ],
   "source": [
    "strings = [\"abce\", \"abcd\", \"cdx\"]"
   ]
  }
 ],
 "metadata": {
  "kernelspec": {
   "display_name": "Python 3 (ipykernel)",
   "language": "python",
   "name": "python3"
  },
  "language_info": {
   "codemirror_mode": {
    "name": "ipython",
    "version": 3
   },
   "file_extension": ".py",
   "mimetype": "text/x-python",
   "name": "python",
   "nbconvert_exporter": "python",
   "pygments_lexer": "ipython3",
   "version": "3.9.15"
  }
 },
 "nbformat": 4,
 "nbformat_minor": 5
}
