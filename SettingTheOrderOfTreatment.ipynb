{
 "cells": [
  {
   "cell_type": "markdown",
   "id": "c8c77e83",
   "metadata": {},
   "source": [
    "# 진료순서 정하기\n",
    " - 외과의사 머쓱이는 응급실에 온 환자의 응급도를 기준으로 진료 순서를 정하려고 합니다. 정수 배열 emergency가 매개변수로 주어질 때 응급도가 높은 순서대로 진료 순서를 정한 배열을 return하도록 solution 함수를 완성해주세요."
   ]
  },
  {
   "cell_type": "markdown",
   "id": "2565038d",
   "metadata": {},
   "source": [
    "## 제한사항\n",
    " - 중복된 원소는 없습니다.\n",
    " - 1 ≤ emergency의 길이 ≤ 10\n",
    " - 1 ≤ emergency의 원소 ≤ 100\n",
    "\n",
    "## 입출력 예\n",
    " - emergency : [3, 76, 24]\n",
    " - result : [3, 1, 2]"
   ]
  },
  {
   "cell_type": "code",
   "execution_count": 1,
   "id": "a9976141",
   "metadata": {},
   "outputs": [],
   "source": [
    "def solution(emergency):\n",
    "    a = []\n",
    "    b = emergency.copy()\n",
    "    b.sort(reverse=True)\n",
    "    for i in emergency:\n",
    "        a.append(b.index(i)+1)\n",
    "    return a"
   ]
  },
  {
   "cell_type": "code",
   "execution_count": 2,
   "id": "e95e89aa",
   "metadata": {},
   "outputs": [
    {
     "data": {
      "text/plain": [
       "[3, 1, 2]"
      ]
     },
     "execution_count": 2,
     "metadata": {},
     "output_type": "execute_result"
    }
   ],
   "source": [
    "solution([3, 76, 24])"
   ]
  },
  {
   "cell_type": "code",
   "execution_count": 3,
   "id": "3a43dd16",
   "metadata": {},
   "outputs": [
    {
     "data": {
      "text/plain": [
       "[2, 4, 3, 5, 1]"
      ]
     },
     "execution_count": 3,
     "metadata": {},
     "output_type": "execute_result"
    }
   ],
   "source": [
    "solution([30, 10, 23, 6, 100])"
   ]
  },
  {
   "cell_type": "code",
   "execution_count": null,
   "id": "3541f237",
   "metadata": {},
   "outputs": [],
   "source": []
  }
 ],
 "metadata": {
  "kernelspec": {
   "display_name": "Python 3 (ipykernel)",
   "language": "python",
   "name": "python3"
  },
  "language_info": {
   "codemirror_mode": {
    "name": "ipython",
    "version": 3
   },
   "file_extension": ".py",
   "mimetype": "text/x-python",
   "name": "python",
   "nbconvert_exporter": "python",
   "pygments_lexer": "ipython3",
   "version": "3.9.15"
  }
 },
 "nbformat": 4,
 "nbformat_minor": 5
}
