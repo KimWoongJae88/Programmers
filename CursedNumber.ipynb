{
 "cells": [
  {
   "cell_type": "markdown",
   "id": "d9c445e7",
   "metadata": {},
   "source": [
    "# 저주의 숫자\n",
    " - 3x 마을 사람들은 3을 저주의 숫자라고 생각하기 때문에 3의 배수와 숫자 3을 사용하지 않습니다. 정수 n이 매개변수로 주어질 때, n을 3x 마을에서 사용하는 숫자로 바꿔 return하도록 solution 함수를 완성해주세요."
   ]
  },
  {
   "cell_type": "code",
   "execution_count": 2,
   "id": "3ea97dd4",
   "metadata": {},
   "outputs": [],
   "source": [
    "# 제한사항\n",
    "# 1 ≤ n ≤ 100"
   ]
  },
  {
   "cell_type": "code",
   "execution_count": 64,
   "id": "8d2a4f68",
   "metadata": {},
   "outputs": [],
   "source": [
    "def solution(n):\n",
    "    a = []\n",
    "    b = []\n",
    "    # 임의의 범위를 반복시키고\n",
    "    for i in range(n*3):\n",
    "        if i%3 != 0:  # 3의 배수가 아닌 값을\n",
    "            a.append(str(i))  # 문자형식으로 a리스트에 입력\n",
    "    for j in a:  # 문자형인 a리스트 값을 반복\n",
    "        if '3' not in j:  # 문자안에 '3'이 없으면\n",
    "            b.append(int(j))  # 숫자형으로 바꾼 후 b리스트에 입력\n",
    "    return b[n-1]"
   ]
  },
  {
   "cell_type": "code",
   "execution_count": 65,
   "id": "eaa27ad8",
   "metadata": {},
   "outputs": [
    {
     "data": {
      "text/plain": [
       "185"
      ]
     },
     "execution_count": 65,
     "metadata": {},
     "output_type": "execute_result"
    }
   ],
   "source": [
    "solution(100)"
   ]
  }
 ],
 "metadata": {
  "kernelspec": {
   "display_name": "Python 3 (ipykernel)",
   "language": "python",
   "name": "python3"
  },
  "language_info": {
   "codemirror_mode": {
    "name": "ipython",
    "version": 3
   },
   "file_extension": ".py",
   "mimetype": "text/x-python",
   "name": "python",
   "nbconvert_exporter": "python",
   "pygments_lexer": "ipython3",
   "version": "3.9.12"
  }
 },
 "nbformat": 4,
 "nbformat_minor": 5
}
