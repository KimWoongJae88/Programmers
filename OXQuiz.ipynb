{
 "cells": [
  {
   "cell_type": "markdown",
   "id": "a0c59915",
   "metadata": {},
   "source": [
    "# OX퀴즈\n",
    " - 덧셈, 뺄셈 수식들이 'X [연산자] Y = Z' 형태로 들어있는 문자열 배열 quiz가 매개변수로 주어집니다. 수식이 옳다면 \"O\"를 틀리다면 \"X\"를 순서대로 담은 배열을 return하도록 solution 함수를 완성해주세요."
   ]
  },
  {
   "cell_type": "code",
   "execution_count": 1,
   "id": "785446f1",
   "metadata": {},
   "outputs": [],
   "source": [
    "# 제한사항\n",
    "# 연산 기호와 숫자 사이는 항상 하나의 공백이 존재합니다. 단 음수를 표시하는 마이너스 기호와 숫자 사이에는 공백이 존재하지 않습니다.\n",
    "# 1 ≤ quiz의 길이 ≤ 10\n",
    "# X, Y, Z는 각각 0부터 9까지 숫자로 이루어진 정수를 의미하며, 각 숫자의 맨 앞에 마이너스 기호가 하나 있을 수 있고 이는 음수를 의미합니다.\n",
    "# X, Y, Z는 0을 제외하고는 0으로 시작하지 않습니다.\n",
    "# -10,000 ≤ X, Y ≤ 10,000\n",
    "# -20,000 ≤ Z ≤ 20,000\n",
    "# [연산자]는 + 와 - 중 하나입니다."
   ]
  },
  {
   "cell_type": "code",
   "execution_count": 31,
   "id": "db677937",
   "metadata": {},
   "outputs": [],
   "source": [
    "def solution(quiz):\n",
    "    a = []\n",
    "    b = []\n",
    "    # 공백을 기준으로 나눠준다.\n",
    "    for i in quiz:\n",
    "        a.append(i.split())\n",
    "    # 주어진 quiz 길이만큼 반복\n",
    "    for j in range(len(quiz)):\n",
    "        if a[j][1] == '+':  # 연산자 자리를 특정하여 조건문을 걸고 조건에 맞게 계산하여 답을 반환\n",
    "            if int(a[j][0])+int(a[j][2]) == int(a[j][-1]):\n",
    "                b.append('O')\n",
    "            else:\n",
    "                b.append('X')\n",
    "        if a[j][1] == '-':\n",
    "            if int(a[j][0])-int(a[j][2]) == int(a[j][-1]):\n",
    "                b.append('O')\n",
    "            else:\n",
    "                b.append('X')\n",
    "    return b"
   ]
  },
  {
   "cell_type": "code",
   "execution_count": 32,
   "id": "ac65d248",
   "metadata": {},
   "outputs": [
    {
     "data": {
      "text/plain": [
       "['O', 'O', 'X', 'O']"
      ]
     },
     "execution_count": 32,
     "metadata": {},
     "output_type": "execute_result"
    }
   ],
   "source": [
    "solution([\"19 - 6 = 13\", \"5 + 66 = 71\", \"5 - 15 = 63\", \"3 - 1 = 2\"])"
   ]
  }
 ],
 "metadata": {
  "kernelspec": {
   "display_name": "Python 3 (ipykernel)",
   "language": "python",
   "name": "python3"
  },
  "language_info": {
   "codemirror_mode": {
    "name": "ipython",
    "version": 3
   },
   "file_extension": ".py",
   "mimetype": "text/x-python",
   "name": "python",
   "nbconvert_exporter": "python",
   "pygments_lexer": "ipython3",
   "version": "3.9.12"
  }
 },
 "nbformat": 4,
 "nbformat_minor": 5
}
