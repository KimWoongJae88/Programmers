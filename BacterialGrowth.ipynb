{
 "cells": [
  {
   "cell_type": "markdown",
   "id": "a4279f36",
   "metadata": {},
   "source": [
    "# 세균 증식\n",
    " - 어떤 세균은 1시간에 두배만큼 증식한다고 합니다. 처음 세균의 마리수 n과 경과한 시간 t가 매개변수로 주어질 때 t시간 후 세균의 수를 return하도록 solution 함수를 완성해주세요."
   ]
  },
  {
   "cell_type": "code",
   "execution_count": 1,
   "id": "86c2d305",
   "metadata": {},
   "outputs": [],
   "source": [
    "# 제한사항\n",
    "# 1 ≤ n ≤ 10\n",
    "# 1 ≤ t ≤ 15\n",
    "\n",
    "# n : 2\n",
    "# t : 10\n",
    "# result : 2048"
   ]
  },
  {
   "cell_type": "code",
   "execution_count": 2,
   "id": "c0dcd719",
   "metadata": {},
   "outputs": [],
   "source": [
    "def solution(n, t):\n",
    "    for i in range(t):\n",
    "        n *= 2\n",
    "    return n"
   ]
  },
  {
   "cell_type": "code",
   "execution_count": 3,
   "id": "8496a84b",
   "metadata": {},
   "outputs": [
    {
     "data": {
      "text/plain": [
       "2048"
      ]
     },
     "execution_count": 3,
     "metadata": {},
     "output_type": "execute_result"
    }
   ],
   "source": [
    "solution(2, 10)"
   ]
  },
  {
   "cell_type": "code",
   "execution_count": 4,
   "id": "5d91cbce",
   "metadata": {},
   "outputs": [
    {
     "data": {
      "text/plain": [
       "229376"
      ]
     },
     "execution_count": 4,
     "metadata": {},
     "output_type": "execute_result"
    }
   ],
   "source": [
    "solution(7, 15)"
   ]
  },
  {
   "cell_type": "code",
   "execution_count": null,
   "id": "b58e64ee",
   "metadata": {},
   "outputs": [],
   "source": []
  }
 ],
 "metadata": {
  "kernelspec": {
   "display_name": "Python 3 (ipykernel)",
   "language": "python",
   "name": "python3"
  },
  "language_info": {
   "codemirror_mode": {
    "name": "ipython",
    "version": 3
   },
   "file_extension": ".py",
   "mimetype": "text/x-python",
   "name": "python",
   "nbconvert_exporter": "python",
   "pygments_lexer": "ipython3",
   "version": "3.9.15"
  }
 },
 "nbformat": 4,
 "nbformat_minor": 5
}
