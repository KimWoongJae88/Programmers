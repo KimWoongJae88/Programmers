{
 "cells": [
  {
   "cell_type": "markdown",
   "id": "b7494db1",
   "metadata": {},
   "source": [
    "# 특이한 정렬\n",
    " - 정수 n을 기준으로 n과 가까운 수부터 정렬하려고 합니다. 이때 n으로부터의 거리가 같다면 더 큰 수를 앞에 오도록 배치합니다. 정수가 담긴 배열 numlist와 정수 n이 주어질 때 numlist의 원소를 n으로부터 가까운 순서대로 정렬한 배열을 return하도록 solution 함수를 완성해주세요."
   ]
  },
  {
   "cell_type": "code",
   "execution_count": 1,
   "id": "5787d021",
   "metadata": {},
   "outputs": [],
   "source": [
    "# 제한사항\n",
    "# 1 ≤ n ≤ 10,000\n",
    "# 1 ≤ numlist의 원소 ≤ 10,000\n",
    "# 1 ≤ numlist의 길이 ≤ 100\n",
    "# numlist는 중복된 원소를 갖지 않습니다.\n",
    "\n",
    "# solution([1, 2, 3, 4, 5, 6], 4)\n",
    "# result = [4, 5, 3, 6, 2, 1]"
   ]
  },
  {
   "cell_type": "markdown",
   "id": "d06acc41",
   "metadata": {},
   "source": [
    "---\n",
    "## 첫번째 풀이"
   ]
  },
  {
   "cell_type": "code",
   "execution_count": 1,
   "id": "da2c9740",
   "metadata": {
    "scrolled": true
   },
   "outputs": [
    {
     "name": "stdout",
     "output_type": "stream",
     "text": [
      "b [-4, -3, -2, -1, 0, 1, 2, 3, 4, 5, -5]\n",
      "a [0, -1, 1, -2, 2, -3, 3, -4, 4, -5, 5]\n"
     ]
    },
    {
     "data": {
      "text/plain": [
       "[6, 7, 5, 8, 4, 9, 3, 10, 2, 11, 1]"
      ]
     },
     "execution_count": 1,
     "metadata": {},
     "output_type": "execute_result"
    }
   ],
   "source": [
    "def solution(numlist, n):\n",
    "    answer = []\n",
    "    a = []\n",
    "    for i in numlist:\n",
    "        a.append(n-i)\n",
    "    b = a.copy()\n",
    "    print('b',b)\n",
    "    for i in range(len(a)):\n",
    "        j = len(a) - i   \n",
    "        for h in range(1, j): \n",
    "            if abs(a[h-1]) >= abs(a[h]):  \n",
    "                c = a[h-1]    \n",
    "                a[h-1] = a[h]  \n",
    "                a[h] = c      \n",
    "        for h in range(1, j):\n",
    "            if abs(a[h-1]) == abs(a[h]):  \n",
    "                if a[h-1] > a[h]:\n",
    "                    c = a[h-1]    \n",
    "                    a[h-1] = a[h] \n",
    "                    a[h] = c\n",
    "    print('a',a)\n",
    "    for i in a:\n",
    "        answer.append(numlist[b.index(i)])\n",
    "    return answer\n",
    "\n",
    "solution([10,9,8,7,6,5,4,3,2,1,11],6)"
   ]
  },
  {
   "cell_type": "markdown",
   "id": "63c44622",
   "metadata": {},
   "source": [
    "---\n",
    "## 두번째 풀이"
   ]
  },
  {
   "cell_type": "code",
   "execution_count": 43,
   "id": "a0ca9c04",
   "metadata": {},
   "outputs": [],
   "source": [
    "def solution(numlist, n):\n",
    "    numlist.sort(key=lambda x:(abs(x-n), -x))  # x-n 의 절대값이 낮은것부터 오름차순으로 정렬하되 x값으로 정렬시킨다.  \n",
    "    return numlist                             # x-n 기준으로 정렬하면서 값이 같을때는 -x로 내림차순으로 정렬한다."
   ]
  },
  {
   "cell_type": "code",
   "execution_count": 44,
   "id": "ae874d1b",
   "metadata": {
    "scrolled": true
   },
   "outputs": [
    {
     "data": {
      "text/plain": [
       "[6, 7, 5, 8, 4, 9, 3, 10, 2, 11, 1]"
      ]
     },
     "execution_count": 44,
     "metadata": {},
     "output_type": "execute_result"
    }
   ],
   "source": [
    "solution([10,9,8,7,6,5,4,3,2,1,11],6)"
   ]
  },
  {
   "cell_type": "markdown",
   "id": "f4e7550e",
   "metadata": {},
   "source": [
    "---\n",
    "# % 참고사항"
   ]
  },
  {
   "cell_type": "code",
   "execution_count": 35,
   "id": "023a9340",
   "metadata": {},
   "outputs": [
    {
     "data": {
      "text/plain": [
       "[(0, 1), (1, 2), (3, 0), (5, 1), (5, 2)]"
      ]
     },
     "execution_count": 35,
     "metadata": {},
     "output_type": "execute_result"
    }
   ],
   "source": [
    "a = [(1, 2), (5, 1), (0, 1), (5, 2), (3, 0)]\n",
    "b = sorted(a)\n",
    "b  # 튜플 앞 인자순으로 정렬"
   ]
  },
  {
   "cell_type": "code",
   "execution_count": 37,
   "id": "194c8807",
   "metadata": {},
   "outputs": [
    {
     "data": {
      "text/plain": [
       "[(3, 0), (5, 1), (0, 1), (1, 2), (5, 2)]"
      ]
     },
     "execution_count": 37,
     "metadata": {},
     "output_type": "execute_result"
    }
   ],
   "source": [
    "c = sorted(a, key = lambda x : x[1])\n",
    "c  # x[1]을 기준으로 오름차순 정렬"
   ]
  },
  {
   "cell_type": "code",
   "execution_count": 38,
   "id": "f72c60ae",
   "metadata": {},
   "outputs": [
    {
     "data": {
      "text/plain": [
       "[(1, 2), (5, 2), (5, 1), (0, 1), (3, 0)]"
      ]
     },
     "execution_count": 38,
     "metadata": {},
     "output_type": "execute_result"
    }
   ],
   "source": [
    "d = sorted(a, key = lambda x : -x[1])\n",
    "d  # x[1]을 기준으로 내림차순 정렬"
   ]
  },
  {
   "cell_type": "code",
   "execution_count": 39,
   "id": "87777096",
   "metadata": {},
   "outputs": [
    {
     "data": {
      "text/plain": [
       "[(0, 1), (1, 2), (3, 0), (5, 2), (5, 1)]"
      ]
     },
     "execution_count": 39,
     "metadata": {},
     "output_type": "execute_result"
    }
   ],
   "source": [
    "e = sorted(a, key = lambda x : (x[0], -x[1]))\n",
    "e  # x[0]을 기준으로 오름차순 정렬하고, 그안에서 x[1]을 내림차순으로 정렬 -> (5,2), (5,1)"
   ]
  },
  {
   "cell_type": "code",
   "execution_count": 40,
   "id": "8e4c1aa6",
   "metadata": {},
   "outputs": [
    {
     "name": "stdout",
     "output_type": "stream",
     "text": [
      "['1 A', '2 A', '1 B', '4 C']\n"
     ]
    }
   ],
   "source": [
    "list = ['2 A', '1 B', '4 C', '1 A']\n",
    "list.sort(key=lambda x: (x.split()[1], x.split()[0]))  # split [1]을 처음기준으로 오름차순 정렬하고 두번째 기준[1]을 오름차순 정렬\n",
    "print(list)"
   ]
  },
  {
   "cell_type": "code",
   "execution_count": 41,
   "id": "a898f423",
   "metadata": {},
   "outputs": [
    {
     "name": "stdout",
     "output_type": "stream",
     "text": [
      "['1 B', '1 A', '2 A', '4 C']\n"
     ]
    }
   ],
   "source": [
    "list = ['2 A', '1 B', '4 C', '1 A']\n",
    "list.sort(key=lambda x: (x.split()[0]))  # split[0]을 기준으로 오름차순 정렬\n",
    "print(list)"
   ]
  }
 ],
 "metadata": {
  "kernelspec": {
   "display_name": "Python 3 (ipykernel)",
   "language": "python",
   "name": "python3"
  },
  "language_info": {
   "codemirror_mode": {
    "name": "ipython",
    "version": 3
   },
   "file_extension": ".py",
   "mimetype": "text/x-python",
   "name": "python",
   "nbconvert_exporter": "python",
   "pygments_lexer": "ipython3",
   "version": "3.9.12"
  }
 },
 "nbformat": 4,
 "nbformat_minor": 5
}
