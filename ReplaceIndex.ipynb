{
 "cells": [
  {
   "cell_type": "markdown",
   "id": "c529c291",
   "metadata": {},
   "source": [
    "# 인덱스 바꾸기\n",
    " - 문자열 my_string과 정수 num1, num2가 매개변수로 주어질 때, my_string에서 인덱스 num1과 인덱스 num2에 해당하는 문자를 바꾼 문자열을 return 하도록 solution 함수를 완성해보세요."
   ]
  },
  {
   "cell_type": "code",
   "execution_count": 1,
   "id": "b366a1fe",
   "metadata": {},
   "outputs": [],
   "source": [
    "# 제한사항\n",
    "# 1 < my_string의 길이 < 100\n",
    "# 0 ≤ num1, num2 < my_string의 길이\n",
    "# my_string은 소문자로 이루어져 있습니다.\n",
    "# num1 ≠ num2\n",
    "\n",
    "# my_string : \"hello\"\n",
    "# num1 : 1\n",
    "# num2 : 2\n",
    "# result : \"hlelo\""
   ]
  },
  {
   "cell_type": "code",
   "execution_count": 2,
   "id": "201cf7d6",
   "metadata": {},
   "outputs": [],
   "source": [
    "def solution(my_string, num1, num2):\n",
    "    my_string = list(my_string)\n",
    "    a = my_string[num1]\n",
    "    b = my_string[num2]\n",
    "    my_string[num1] = b\n",
    "    my_string[num2] = a\n",
    "    return (''.join(my_string))"
   ]
  },
  {
   "cell_type": "code",
   "execution_count": 3,
   "id": "662efad8",
   "metadata": {},
   "outputs": [
    {
     "data": {
      "text/plain": [
       "'hlelo'"
      ]
     },
     "execution_count": 3,
     "metadata": {},
     "output_type": "execute_result"
    }
   ],
   "source": [
    "solution(\"hello\",1,2)"
   ]
  },
  {
   "cell_type": "code",
   "execution_count": 4,
   "id": "936db375",
   "metadata": {},
   "outputs": [
    {
     "data": {
      "text/plain": [
       "'I l veoyou'"
      ]
     },
     "execution_count": 4,
     "metadata": {},
     "output_type": "execute_result"
    }
   ],
   "source": [
    "solution(\"I love you\",3,6)"
   ]
  },
  {
   "cell_type": "code",
   "execution_count": null,
   "id": "8288d5ce",
   "metadata": {},
   "outputs": [],
   "source": []
  }
 ],
 "metadata": {
  "kernelspec": {
   "display_name": "Python 3 (ipykernel)",
   "language": "python",
   "name": "python3"
  },
  "language_info": {
   "codemirror_mode": {
    "name": "ipython",
    "version": 3
   },
   "file_extension": ".py",
   "mimetype": "text/x-python",
   "name": "python",
   "nbconvert_exporter": "python",
   "pygments_lexer": "ipython3",
   "version": "3.9.15"
  }
 },
 "nbformat": 4,
 "nbformat_minor": 5
}
