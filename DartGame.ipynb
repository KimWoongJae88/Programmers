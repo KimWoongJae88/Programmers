{
 "cells": [
  {
   "cell_type": "markdown",
   "id": "2cffcdf4",
   "metadata": {},
   "source": [
    "# 다트 게임\n",
    " - 카카오톡 게임별의 하반기 신규 서비스로 다트 게임을 출시하기로 했다. 다트 게임은 다트판에 다트를 세 차례 던져 그 점수의 합계로 실력을 겨루는 게임으로, 모두가 간단히 즐길 수 있다. 갓 입사한 무지는 코딩 실력을 인정받아 게임의 핵심 부분인 점수 계산 로직을 맡게 되었다. 다트 게임의 점수 계산 로직은 아래와 같다.\n",
    "\n",
    "  - 1. 다트 게임은 총 3번의 기회로 구성된다.\n",
    "  - 2. 각 기회마다 얻을 수 있는 점수는 0점에서 10점까지이다.\n",
    "  - 3. 점수와 함께 Single(S), Double(D), Triple(T) 영역이 존재하고 각 영역 당첨 시 점수에서 1제곱, 2제곱, 3제곱 (점수1 , 점수2 , 점수3 )으로 계산된다.\n",
    "  - 4. 옵션으로 스타상(*) , 아차상(#)이 존재하며 스타상(*) 당첨 시 해당 점수와 바로 전에 얻은 점수를 각 2배로 만든다. 아차상(#) 당첨 시 해당 점수는 마이너스된다.\n",
    "  - 5. 스타상(*)은 첫 번째 기회에서도 나올 수 있다. 이 경우 첫 번째 스타상(*)의 점수만 2배가 된다. (예제 4번 참고)\n",
    "  - 6. 스타상(*)의 효과는 다른 스타상(*)의 효과와 중첩될 수 있다. 이 경우 중첩된 스타상(*) 점수는 4배가 된다. (예제 4번 참고)\n",
    "  - 7. 스타상(*)의 효과는 아차상(#)의 효과와 중첩될 수 있다. 이 경우 중첩된 아차상(#)의 점수는 -2배가 된다. (예제 5번 참고)\n",
    "  - 8. Single(S), Double(D), Triple(T)은 점수마다 하나씩 존재한다.\n",
    "  - 9. 스타상(*), 아차상(#)은 점수마다 둘 중 하나만 존재할 수 있으며, 존재하지 않을 수도 있다.\n",
    " - 0~10의 정수와 문자 S, D, T, *, #로 구성된 문자열이 입력될 시 총점수를 반환하는 함수를 작성하라."
   ]
  },
  {
   "cell_type": "markdown",
   "id": "6a47a924",
   "metadata": {},
   "source": [
    "## 입력 형식\n",
    " - \"점수|보너스|[옵션]\"으로 이루어진 문자열 3세트.\n",
    "  - 예) 1S2D*3T\n",
    " \n",
    " - 점수는 0에서 10 사이의 정수이다.\n",
    " - 보너스는 S, D, T 중 하나이다.\n",
    " - 옵선은 *이나 # 중 하나이며, 없을 수도 있다.\n",
    "\n",
    "## 출력 형식\n",
    " - 3번의 기회에서 얻은 점수 합계에 해당하는 정수값을 출력한다.\n",
    "  - 예) 37\n",
    "\n",
    "## 입출력 예제\n",
    " - DartResult : 1S2D*3T\n",
    " - answer : 37\n",
    " - 설명 : 11 * 2 + 22 * 2 + 33\t"
   ]
  },
  {
   "cell_type": "code",
   "execution_count": 127,
   "id": "db8d08cc",
   "metadata": {},
   "outputs": [],
   "source": [
    "def solution(dartResult):\n",
    "    answer = []\n",
    "    for i in range(len(dartResult)):\n",
    "        if dartResult[i] == 'S':\n",
    "            if dartResult[i-2 : i].isdigit():\n",
    "                answer.append(int(dartResult[i-2 : i])**1)\n",
    "            else:\n",
    "                answer.append(int(dartResult[i-1])**1)\n",
    "        if dartResult[i] == 'D':\n",
    "            if dartResult[i-2 : i].isdigit():\n",
    "                answer.append(int(dartResult[i-2 : i])**2)\n",
    "            else:\n",
    "                answer.append(int(dartResult[i-1])**2)\n",
    "        if dartResult[i] == 'T':\n",
    "            if dartResult[i-2 : i].isdigit():\n",
    "                answer.append(int(dartResult[i-2 : i])**3)\n",
    "            else:\n",
    "                answer.append(int(dartResult[i-1])**3)\n",
    "        if dartResult[i] == '#':\n",
    "            answer[-1] *= -1\n",
    "        if dartResult[i] == '*':\n",
    "            if len(answer) == 1:\n",
    "                answer[-1] = answer[-1]*2\n",
    "            else:\n",
    "                answer[-1] = answer[-1]*2\n",
    "                answer[-2] = answer[-2]*2\n",
    "    return sum(answer)"
   ]
  },
  {
   "cell_type": "code",
   "execution_count": 128,
   "id": "7b572d28",
   "metadata": {},
   "outputs": [
    {
     "data": {
      "text/plain": [
       "37"
      ]
     },
     "execution_count": 128,
     "metadata": {},
     "output_type": "execute_result"
    }
   ],
   "source": [
    "solution('1S2D*3T')"
   ]
  },
  {
   "cell_type": "code",
   "execution_count": 129,
   "id": "507446bb",
   "metadata": {},
   "outputs": [
    {
     "data": {
      "text/plain": [
       "5"
      ]
     },
     "execution_count": 129,
     "metadata": {},
     "output_type": "execute_result"
    }
   ],
   "source": [
    "solution('1D#2S*3S')"
   ]
  },
  {
   "cell_type": "code",
   "execution_count": 130,
   "id": "ffc43d6f",
   "metadata": {},
   "outputs": [
    {
     "data": {
      "text/plain": [
       "59"
      ]
     },
     "execution_count": 130,
     "metadata": {},
     "output_type": "execute_result"
    }
   ],
   "source": [
    "solution(\"1D2S3T*\")"
   ]
  },
  {
   "cell_type": "code",
   "execution_count": 131,
   "id": "4536365a",
   "metadata": {},
   "outputs": [
    {
     "data": {
      "text/plain": [
       "110"
      ]
     },
     "execution_count": 131,
     "metadata": {},
     "output_type": "execute_result"
    }
   ],
   "source": [
    "solution('10D10S0D')"
   ]
  }
 ],
 "metadata": {
  "kernelspec": {
   "display_name": "Python 3 (ipykernel)",
   "language": "python",
   "name": "python3"
  },
  "language_info": {
   "codemirror_mode": {
    "name": "ipython",
    "version": 3
   },
   "file_extension": ".py",
   "mimetype": "text/x-python",
   "name": "python",
   "nbconvert_exporter": "python",
   "pygments_lexer": "ipython3",
   "version": "3.9.15"
  }
 },
 "nbformat": 4,
 "nbformat_minor": 5
}
