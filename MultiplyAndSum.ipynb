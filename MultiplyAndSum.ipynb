{
 "cells": [
  {
   "cell_type": "markdown",
   "id": "3e8184b7",
   "metadata": {},
   "source": [
    "# 원소들의 곱과 합\n",
    " - 정수가 담긴 리스트 num_list가 주어질 때, 모든 원소들의 곱이 모든 원소들의 합의 제곱보다 작으면 1을 크면 0을 return하도록 solution 함수를 완성해주세요."
   ]
  },
  {
   "cell_type": "markdown",
   "id": "e410d217",
   "metadata": {},
   "source": [
    "## 제한사항\n",
    "- 2 ≤ num_list의 길이 ≤ 10\n",
    "- 1 ≤ num_list의 원소 ≤ 9\n",
    "\n",
    "## 입출력 예\n",
    "- num_list = [3, 4, 5, 2, 1]\n",
    "- result = 1"
   ]
  },
  {
   "cell_type": "code",
   "execution_count": 3,
   "id": "8c493a05",
   "metadata": {},
   "outputs": [],
   "source": [
    "def solution(num_list):\n",
    "    a = 1\n",
    "    for i in num_list:\n",
    "        a *= i\n",
    "    if sum(num_list)**2 > a:\n",
    "        return 1\n",
    "    else:\n",
    "        return 0"
   ]
  },
  {
   "cell_type": "code",
   "execution_count": 4,
   "id": "dee3916a",
   "metadata": {},
   "outputs": [
    {
     "data": {
      "text/plain": [
       "1"
      ]
     },
     "execution_count": 4,
     "metadata": {},
     "output_type": "execute_result"
    }
   ],
   "source": [
    "solution([3, 4, 5, 2, 1])"
   ]
  },
  {
   "cell_type": "code",
   "execution_count": 5,
   "id": "2a51faad",
   "metadata": {},
   "outputs": [
    {
     "data": {
      "text/plain": [
       "0"
      ]
     },
     "execution_count": 5,
     "metadata": {},
     "output_type": "execute_result"
    }
   ],
   "source": [
    "solution([5, 7, 8, 3])"
   ]
  },
  {
   "cell_type": "code",
   "execution_count": null,
   "id": "2304ea54",
   "metadata": {},
   "outputs": [],
   "source": []
  }
 ],
 "metadata": {
  "kernelspec": {
   "display_name": "Python 3 (ipykernel)",
   "language": "python",
   "name": "python3"
  },
  "language_info": {
   "codemirror_mode": {
    "name": "ipython",
    "version": 3
   },
   "file_extension": ".py",
   "mimetype": "text/x-python",
   "name": "python",
   "nbconvert_exporter": "python",
   "pygments_lexer": "ipython3",
   "version": "3.9.15"
  }
 },
 "nbformat": 4,
 "nbformat_minor": 5
}
