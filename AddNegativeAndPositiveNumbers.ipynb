{
 "cells": [
  {
   "cell_type": "markdown",
   "id": "59bfaa3b",
   "metadata": {},
   "source": [
    "# 음 양 더하기\n",
    " - 어떤 정수들이 있습니다. 이 정수들의 절댓값을 차례대로 담은 정수 배열 absolutes와 이 정수들의 부호를 차례대로 담은 불리언 배열 signs가 매개변수로 주어집니다. 실제 정수들의 합을 구하여 return 하도록 solution 함수를 완성해주세요."
   ]
  },
  {
   "cell_type": "markdown",
   "id": "7a487c52",
   "metadata": {},
   "source": [
    "## 제한사항\n",
    " - absolutes의 길이는 1 이상 1,000 이하입니다.\n",
    "  - absolutes의 모든 수는 각각 1 이상 1,000 이하입니다.\n",
    " - signs의 길이는 absolutes의 길이와 같습니다.\n",
    "  - signs[i] 가 참이면 absolutes[i] 의 실제 정수가 양수임을, 그렇지 않으면 음수임을 의미합니다.\n",
    "\n",
    "## 입출력 예\n",
    " - absolutes : [4,7,12]\n",
    " - signs : [true,false,true]\n",
    " - result : 9"
   ]
  },
  {
   "cell_type": "code",
   "execution_count": 14,
   "id": "1f2a5821",
   "metadata": {},
   "outputs": [],
   "source": [
    "def solution(absolutes, signs):\n",
    "    answer = 0\n",
    "    for i in range(len(signs)):\n",
    "        if signs[i] == True:\n",
    "            answer += absolutes[i]\n",
    "        else:\n",
    "            answer += absolutes[i]*-1\n",
    "    return answer"
   ]
  },
  {
   "cell_type": "code",
   "execution_count": 15,
   "id": "8f628d6a",
   "metadata": {},
   "outputs": [
    {
     "data": {
      "text/plain": [
       "9"
      ]
     },
     "execution_count": 15,
     "metadata": {},
     "output_type": "execute_result"
    }
   ],
   "source": [
    "solution([4,7,12], [True,False,True])"
   ]
  },
  {
   "cell_type": "code",
   "execution_count": 16,
   "id": "93eb37cf",
   "metadata": {
    "scrolled": true
   },
   "outputs": [
    {
     "data": {
      "text/plain": [
       "0"
      ]
     },
     "execution_count": 16,
     "metadata": {},
     "output_type": "execute_result"
    }
   ],
   "source": [
    "solution([1,2,3], [False,False,True])"
   ]
  },
  {
   "cell_type": "code",
   "execution_count": null,
   "id": "2ff7a5da",
   "metadata": {},
   "outputs": [],
   "source": []
  }
 ],
 "metadata": {
  "kernelspec": {
   "display_name": "Python 3 (ipykernel)",
   "language": "python",
   "name": "python3"
  },
  "language_info": {
   "codemirror_mode": {
    "name": "ipython",
    "version": 3
   },
   "file_extension": ".py",
   "mimetype": "text/x-python",
   "name": "python",
   "nbconvert_exporter": "python",
   "pygments_lexer": "ipython3",
   "version": "3.9.15"
  }
 },
 "nbformat": 4,
 "nbformat_minor": 5
}
