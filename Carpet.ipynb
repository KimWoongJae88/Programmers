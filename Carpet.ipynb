{
 "cells": [
  {
   "cell_type": "markdown",
   "id": "58665d05",
   "metadata": {},
   "source": [
    "# 카펫\n",
    " - Leo는 카펫을 사러 갔다가 아래 그림과 같이 중앙에는 노란색으로 칠해져 있고 테두리 1줄은 갈색으로 칠해져 있는 격자 모양 카펫을 봤습니다.\n",
    " - Leo는 집으로 돌아와서 아까 본 카펫의 노란색과 갈색으로 색칠된 격자의 개수는 기억했지만, 전체 카펫의 크기는 기억하지 못했습니다.\n",
    " - Leo가 본 카펫에서 갈색 격자의 수 brown, 노란색 격자의 수 yellow가 매개변수로 주어질 때 카펫의 가로, 세로 크기를 순서대로 배열에 담아 return 하도록 solution 함수를 작성해주세요."
   ]
  },
  {
   "cell_type": "markdown",
   "id": "830232f5",
   "metadata": {},
   "source": [
    "## 제한사항\n",
    "- 갈색 격자의 수 brown은 8 이상 5,000 이하인 자연수입니다.\n",
    "- 노란색 격자의 수 yellow는 1 이상 2,000,000 이하인 자연수입니다.\n",
    "- 카펫의 가로 길이는 세로 길이와 같거나, 세로 길이보다 깁니다.\n",
    "\n",
    "## 입출력 예\n",
    "- brown = 10\n",
    "- yellow = 2\n",
    "- return = [4, 3]"
   ]
  },
  {
   "cell_type": "code",
   "execution_count": 69,
   "id": "2334930c",
   "metadata": {},
   "outputs": [],
   "source": [
    "def solution(brown, yellow):\n",
    "    a = list(range(1, brown//2))\n",
    "    b = list(range(brown//2-1, 0, -1))\n",
    "    for i in range(len(a)):\n",
    "        if (a[i]-1) * (b[i]-1) == yellow:\n",
    "            if a[i] >= b[i]:\n",
    "                return [(a[i]+1), (b[i])+1]"
   ]
  },
  {
   "cell_type": "code",
   "execution_count": 70,
   "id": "abb997e3",
   "metadata": {},
   "outputs": [
    {
     "data": {
      "text/plain": [
       "[4, 3]"
      ]
     },
     "execution_count": 70,
     "metadata": {},
     "output_type": "execute_result"
    }
   ],
   "source": [
    "solution(10, 2)"
   ]
  },
  {
   "cell_type": "code",
   "execution_count": 71,
   "id": "a0150faa",
   "metadata": {},
   "outputs": [
    {
     "data": {
      "text/plain": [
       "[3, 3]"
      ]
     },
     "execution_count": 71,
     "metadata": {},
     "output_type": "execute_result"
    }
   ],
   "source": [
    "solution(8, 1)"
   ]
  },
  {
   "cell_type": "code",
   "execution_count": null,
   "id": "a44c7684",
   "metadata": {},
   "outputs": [],
   "source": []
  }
 ],
 "metadata": {
  "kernelspec": {
   "display_name": "Python 3 (ipykernel)",
   "language": "python",
   "name": "python3"
  },
  "language_info": {
   "codemirror_mode": {
    "name": "ipython",
    "version": 3
   },
   "file_extension": ".py",
   "mimetype": "text/x-python",
   "name": "python",
   "nbconvert_exporter": "python",
   "pygments_lexer": "ipython3",
   "version": "3.9.15"
  }
 },
 "nbformat": 4,
 "nbformat_minor": 5
}
