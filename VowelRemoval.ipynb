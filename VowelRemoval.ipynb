{
 "cells": [
  {
   "cell_type": "markdown",
   "id": "3220586b",
   "metadata": {},
   "source": [
    "# 모음 제거\n",
    " - 영어에선 a, e, i, o, u 다섯 가지 알파벳을 모음으로 분류합니다. 문자열 my_string이 매개변수로 주어질 때 모음을 제거한 문자열을 return하도록 solution 함수를 완성해주세요."
   ]
  },
  {
   "cell_type": "code",
   "execution_count": 1,
   "id": "b233ec3a",
   "metadata": {},
   "outputs": [],
   "source": [
    "# 제한사항\n",
    "# my_string은 소문자와 공백으로 이루어져 있습니다.\n",
    "# 1 ≤ my_string의 길이 ≤ 1,000\n",
    "\n",
    "# my_string : \"bus\"\n",
    "# result : \"bs\""
   ]
  },
  {
   "cell_type": "code",
   "execution_count": 2,
   "id": "f6892d8a",
   "metadata": {},
   "outputs": [],
   "source": [
    "def solution(my_string):\n",
    "    answer = []\n",
    "    d = []\n",
    "    for i in my_string:\n",
    "        d += i\n",
    "    for j in d:\n",
    "        if j != 'a' and j != 'e' and j != 'i' and j != 'o' and j != 'u':\n",
    "            answer.append(j)\n",
    "    return (''.join(answer))"
   ]
  },
  {
   "cell_type": "code",
   "execution_count": 4,
   "id": "9fdc172f",
   "metadata": {},
   "outputs": [
    {
     "data": {
      "text/plain": [
       "'bs'"
      ]
     },
     "execution_count": 4,
     "metadata": {},
     "output_type": "execute_result"
    }
   ],
   "source": [
    "solution(\"bus\")"
   ]
  },
  {
   "cell_type": "code",
   "execution_count": 5,
   "id": "7daa2901",
   "metadata": {},
   "outputs": [
    {
     "data": {
      "text/plain": [
       "'nc t mt y'"
      ]
     },
     "execution_count": 5,
     "metadata": {},
     "output_type": "execute_result"
    }
   ],
   "source": [
    "solution(\"nice to meet you\")"
   ]
  },
  {
   "cell_type": "code",
   "execution_count": null,
   "id": "302127db",
   "metadata": {},
   "outputs": [],
   "source": []
  }
 ],
 "metadata": {
  "kernelspec": {
   "display_name": "Python 3 (ipykernel)",
   "language": "python",
   "name": "python3"
  },
  "language_info": {
   "codemirror_mode": {
    "name": "ipython",
    "version": 3
   },
   "file_extension": ".py",
   "mimetype": "text/x-python",
   "name": "python",
   "nbconvert_exporter": "python",
   "pygments_lexer": "ipython3",
   "version": "3.9.15"
  }
 },
 "nbformat": 4,
 "nbformat_minor": 5
}
