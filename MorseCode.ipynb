{
 "cells": [
  {
   "cell_type": "markdown",
   "id": "b4395b2b",
   "metadata": {},
   "source": [
    "# 모스 부호\n",
    " - 머쓱이는 친구에게 모스부호를 이용한 편지를 받았습니다. 그냥은 읽을 수 없어 이를 해독하는 프로그램을 만들려고 합니다. 문자열 letter가 매개변수로 주어질 때, letter를 영어 소문자로 바꾼 문자열을 return 하도록 solution 함수를 완성해보세요.\n",
    " - 모스부호는 다음과 같습니다.\n",
    "  - morse = { \n",
    "    '.-':'a','-...':'b','-.-.':'c','-..':'d','.':'e','..-.':'f',\n",
    "    '--.':'g','....':'h','..':'i','.---':'j','-.-':'k','.-..':'l',\n",
    "    '--':'m','-.':'n','---':'o','.--.':'p','--.-':'q','.-.':'r',\n",
    "    '...':'s','-':'t','..-':'u','...-':'v','.--':'w','-..-':'x',\n",
    "    '-.--':'y','--..':'z'\n",
    "}"
   ]
  },
  {
   "cell_type": "code",
   "execution_count": 2,
   "id": "f9f21ce9",
   "metadata": {},
   "outputs": [],
   "source": [
    "# 제한사항\n",
    "# 1 ≤ letter의 길이 ≤ 1,000\n",
    "# return값은 소문자입니다.\n",
    "# letter의 모스부호는 공백으로 나누어져 있습니다.\n",
    "# letter에 공백은 연속으로 두 개 이상 존재하지 않습니다.\n",
    "# 해독할 수 없는 편지는 주어지지 않습니다.\n",
    "# 편지의 시작과 끝에는 공백이 없습니다.\n",
    "\n",
    "# letter : \".... . .-.. .-.. ---\"\n",
    "# result : \"hello\""
   ]
  },
  {
   "cell_type": "code",
   "execution_count": 3,
   "id": "4815680c",
   "metadata": {},
   "outputs": [],
   "source": [
    "morse = { \n",
    "    '.-':'a','-...':'b','-.-.':'c','-..':'d','.':'e','..-.':'f',\n",
    "    '--.':'g','....':'h','..':'i','.---':'j','-.-':'k','.-..':'l',\n",
    "    '--':'m','-.':'n','---':'o','.--.':'p','--.-':'q','.-.':'r',\n",
    "    '...':'s','-':'t','..-':'u','...-':'v','.--':'w','-..-':'x',\n",
    "    '-.--':'y','--..':'z'\n",
    "}\n",
    "def solution(letter):\n",
    "    a = []\n",
    "    for i in letter.split(' '):\n",
    "        a.append(morse[i])\n",
    "    return ''.join(a)"
   ]
  },
  {
   "cell_type": "code",
   "execution_count": 4,
   "id": "7da17435",
   "metadata": {},
   "outputs": [
    {
     "data": {
      "text/plain": [
       "'hello'"
      ]
     },
     "execution_count": 4,
     "metadata": {},
     "output_type": "execute_result"
    }
   ],
   "source": [
    "solution(\".... . .-.. .-.. ---\")"
   ]
  },
  {
   "cell_type": "code",
   "execution_count": 5,
   "id": "1ecc982b",
   "metadata": {},
   "outputs": [
    {
     "data": {
      "text/plain": [
       "'python'"
      ]
     },
     "execution_count": 5,
     "metadata": {},
     "output_type": "execute_result"
    }
   ],
   "source": [
    "solution(\".--. -.-- - .... --- -.\")"
   ]
  },
  {
   "cell_type": "code",
   "execution_count": null,
   "id": "849a3132",
   "metadata": {},
   "outputs": [],
   "source": []
  }
 ],
 "metadata": {
  "kernelspec": {
   "display_name": "Python 3 (ipykernel)",
   "language": "python",
   "name": "python3"
  },
  "language_info": {
   "codemirror_mode": {
    "name": "ipython",
    "version": 3
   },
   "file_extension": ".py",
   "mimetype": "text/x-python",
   "name": "python",
   "nbconvert_exporter": "python",
   "pygments_lexer": "ipython3",
   "version": "3.9.15"
  }
 },
 "nbformat": 4,
 "nbformat_minor": 5
}
