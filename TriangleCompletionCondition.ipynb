{
 "cells": [
  {
   "cell_type": "markdown",
   "id": "b768ca58",
   "metadata": {},
   "source": [
    "# 삼각형의 완성조건\n",
    " - 삼각형의 두 변의 길이가 담긴 배열 sides이 매개변수로 주어집니다. 나머지 한 변이 될 수 있는 정수의 개수를 return하도록 solution 함수를 완성해주세요.\n",
    " - 선분 세 개로 삼각형을 만들기 위해서는 다음과 같은 조건을 만족해야 합니다.\n",
    "  - 가장 긴 변의 길이는 다른 두 변의 길이의 합보다 작아야 합니다."
   ]
  },
  {
   "cell_type": "code",
   "execution_count": 1,
   "id": "bfde9048",
   "metadata": {},
   "outputs": [],
   "source": [
    "# 제한사항\n",
    "# sides의 원소는 자연수입니다.\n",
    "# sides의 길이는 2입니다.\n",
    "# 1 ≤ sides의 원소 ≤ 1,000"
   ]
  },
  {
   "cell_type": "code",
   "execution_count": 60,
   "id": "a0f1ca42",
   "metadata": {},
   "outputs": [],
   "source": [
    "def solution(sides):\n",
    "    a = range(sum(sides))\n",
    "    b = []\n",
    "    # 주어진 값 중에 가장 긴 변이 없을때 1 ~ 가장 길수 있는 길이까지의 리스트를 b에 입력\n",
    "    for i in a:\n",
    "        if i < sum(sides):\n",
    "            if i > max(sides):\n",
    "                b.append(i)\n",
    "    # 주어진 값 중에 가장 긴 변이 있을때\n",
    "        if i+min(sides) > max(sides): # b 리스트에 작은 변 값을 더해서 주어진 가장 긴 변의 값을 넘는 값들을 다시 리스트로\n",
    "            if i <= max(sides):\n",
    "                b.append(i)   \n",
    "    return len(b)"
   ]
  },
  {
   "cell_type": "code",
   "execution_count": 61,
   "id": "914e8c61",
   "metadata": {},
   "outputs": [
    {
     "data": {
      "text/plain": [
       "13"
      ]
     },
     "execution_count": 61,
     "metadata": {},
     "output_type": "execute_result"
    }
   ],
   "source": [
    "solution([11, 7])"
   ]
  }
 ],
 "metadata": {
  "kernelspec": {
   "display_name": "Python 3 (ipykernel)",
   "language": "python",
   "name": "python3"
  },
  "language_info": {
   "codemirror_mode": {
    "name": "ipython",
    "version": 3
   },
   "file_extension": ".py",
   "mimetype": "text/x-python",
   "name": "python",
   "nbconvert_exporter": "python",
   "pygments_lexer": "ipython3",
   "version": "3.9.12"
  }
 },
 "nbformat": 4,
 "nbformat_minor": 5
}
