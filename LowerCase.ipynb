{
 "cells": [
  {
   "cell_type": "markdown",
   "id": "1d85e9c3",
   "metadata": {},
   "source": [
    "# 소문자로 바꾸기\n",
    " - 알파벳으로 이루어진 문자열 myString이 주어집니다. 모든 알파벳을 소문자로 변환하여 return 하는 solution 함수를 완성해 주세요."
   ]
  },
  {
   "cell_type": "markdown",
   "id": "1674b676",
   "metadata": {},
   "source": [
    "## 제한사항\n",
    " - 1 ≤ myString의 길이 ≤ 100,000\n",
    " - myString은 알파벳으로 이루어진 문자열입니다.\n",
    " \n",
    "## 입출력 예\n",
    " - myString = \"aBcDeFg\"\n",
    " - result = \"abcdefg\""
   ]
  },
  {
   "cell_type": "code",
   "execution_count": 9,
   "id": "79eb19d6",
   "metadata": {},
   "outputs": [],
   "source": [
    "def solution(myString):\n",
    "    return myString.lower()"
   ]
  },
  {
   "cell_type": "code",
   "execution_count": 10,
   "id": "a344158a",
   "metadata": {},
   "outputs": [
    {
     "data": {
      "text/plain": [
       "'abcdefg'"
      ]
     },
     "execution_count": 10,
     "metadata": {},
     "output_type": "execute_result"
    }
   ],
   "source": [
    "solution(\"aBcDeFg\")"
   ]
  },
  {
   "cell_type": "code",
   "execution_count": 12,
   "id": "37a3bfc4",
   "metadata": {},
   "outputs": [
    {
     "data": {
      "text/plain": [
       "'aaa'"
      ]
     },
     "execution_count": 12,
     "metadata": {},
     "output_type": "execute_result"
    }
   ],
   "source": [
    "solution(\"aaa\")"
   ]
  },
  {
   "cell_type": "code",
   "execution_count": null,
   "id": "4b21e600",
   "metadata": {},
   "outputs": [],
   "source": []
  }
 ],
 "metadata": {
  "kernelspec": {
   "display_name": "Python 3 (ipykernel)",
   "language": "python",
   "name": "python3"
  },
  "language_info": {
   "codemirror_mode": {
    "name": "ipython",
    "version": 3
   },
   "file_extension": ".py",
   "mimetype": "text/x-python",
   "name": "python",
   "nbconvert_exporter": "python",
   "pygments_lexer": "ipython3",
   "version": "3.9.15"
  }
 },
 "nbformat": 4,
 "nbformat_minor": 5
}
