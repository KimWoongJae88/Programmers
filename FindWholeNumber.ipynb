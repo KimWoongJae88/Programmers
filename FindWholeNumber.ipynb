{
 "cells": [
  {
   "cell_type": "markdown",
   "id": "3488ed57",
   "metadata": {},
   "source": [
    "# 정수 찾기\n",
    "- 정수 리스트 num_list와 찾으려는 정수 n이 주어질 때, num_list안에 n이 있으면 1을 없으면 0을 return하도록 solution 함수를 완성해주세요."
   ]
  },
  {
   "cell_type": "markdown",
   "id": "d221cb6d",
   "metadata": {},
   "source": [
    "## 제한사항\n",
    "- 3 ≤ num_list의 길이 ≤ 100\n",
    "- 1 ≤ num_list의 원소 ≤ 100\n",
    "- 1 ≤ n ≤ 100\n",
    "\n",
    "## 입출력 예\n",
    "- num_list = [1, 2, 3, 4, 5]\n",
    "- n = 3\n",
    "- result = 1"
   ]
  },
  {
   "cell_type": "code",
   "execution_count": 1,
   "id": "b4202844",
   "metadata": {},
   "outputs": [],
   "source": [
    "def solution(num_list, n):\n",
    "    if n in num_list:\n",
    "        return 1\n",
    "    else:\n",
    "        return 0"
   ]
  },
  {
   "cell_type": "code",
   "execution_count": 2,
   "id": "3b9f06be",
   "metadata": {},
   "outputs": [
    {
     "data": {
      "text/plain": [
       "1"
      ]
     },
     "execution_count": 2,
     "metadata": {},
     "output_type": "execute_result"
    }
   ],
   "source": [
    "solution([1, 2, 3, 4, 5], 3)"
   ]
  },
  {
   "cell_type": "code",
   "execution_count": 3,
   "id": "4c1177ea",
   "metadata": {},
   "outputs": [
    {
     "data": {
      "text/plain": [
       "0"
      ]
     },
     "execution_count": 3,
     "metadata": {},
     "output_type": "execute_result"
    }
   ],
   "source": [
    "solution([15, 98, 23, 2, 15], 20)"
   ]
  },
  {
   "cell_type": "code",
   "execution_count": null,
   "id": "ad76366e",
   "metadata": {},
   "outputs": [],
   "source": []
  }
 ],
 "metadata": {
  "kernelspec": {
   "display_name": "Python 3 (ipykernel)",
   "language": "python",
   "name": "python3"
  },
  "language_info": {
   "codemirror_mode": {
    "name": "ipython",
    "version": 3
   },
   "file_extension": ".py",
   "mimetype": "text/x-python",
   "name": "python",
   "nbconvert_exporter": "python",
   "pygments_lexer": "ipython3",
   "version": "3.9.15"
  }
 },
 "nbformat": 4,
 "nbformat_minor": 5
}
