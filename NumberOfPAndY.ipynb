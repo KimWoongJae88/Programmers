{
 "cells": [
  {
   "cell_type": "markdown",
   "id": "aa7b685e",
   "metadata": {},
   "source": [
    "# 문자열 내 p와 y의 개수\n",
    " - 대문자와 소문자가 섞여있는 문자열 s가 주어집니다. s에 'p'의 개수와 'y'의 개수를 비교해 같으면 True, 다르면 False를 return 하는 solution를 완성하세요. 'p', 'y' 모두 하나도 없는 경우는 항상 True를 리턴합니다. 단, 개수를 비교할 때 대문자와 소문자는 구별하지 않습니다. 예를 들어 s가 \"pPoooyY\"면 true를 return하고 \"Pyy\"라면 false를 return합니다."
   ]
  },
  {
   "cell_type": "code",
   "execution_count": 1,
   "id": "6ecbfb67",
   "metadata": {},
   "outputs": [],
   "source": [
    "# 제한사항\n",
    "# 문자열 s의 길이 : 50 이하의 자연수\n",
    "# 문자열 s는 알파벳으로만 이루어져 있습니다.\n",
    "\n",
    "# s : \"pPoooyY\"\n",
    "# answer : true"
   ]
  },
  {
   "cell_type": "code",
   "execution_count": 2,
   "id": "c8ae4e92",
   "metadata": {},
   "outputs": [],
   "source": [
    "def solution(n):\n",
    "    pp = 0\n",
    "    yy = 0\n",
    "    for i in n:\n",
    "        if i == 'p' or i == 'P':\n",
    "            pp += 1\n",
    "        if i == 'y' or i == 'Y':\n",
    "            yy += 1\n",
    "    if pp == yy:\n",
    "        return True\n",
    "    else:\n",
    "        return False"
   ]
  },
  {
   "cell_type": "code",
   "execution_count": 4,
   "id": "dc491e5a",
   "metadata": {},
   "outputs": [
    {
     "data": {
      "text/plain": [
       "True"
      ]
     },
     "execution_count": 4,
     "metadata": {},
     "output_type": "execute_result"
    }
   ],
   "source": [
    "solution(\"pPoooyY\")"
   ]
  },
  {
   "cell_type": "code",
   "execution_count": 5,
   "id": "9a8fb668",
   "metadata": {},
   "outputs": [
    {
     "data": {
      "text/plain": [
       "False"
      ]
     },
     "execution_count": 5,
     "metadata": {},
     "output_type": "execute_result"
    }
   ],
   "source": [
    "solution(\"Pyy\")"
   ]
  },
  {
   "cell_type": "code",
   "execution_count": null,
   "id": "d0da8015",
   "metadata": {},
   "outputs": [],
   "source": []
  }
 ],
 "metadata": {
  "kernelspec": {
   "display_name": "Python 3 (ipykernel)",
   "language": "python",
   "name": "python3"
  },
  "language_info": {
   "codemirror_mode": {
    "name": "ipython",
    "version": 3
   },
   "file_extension": ".py",
   "mimetype": "text/x-python",
   "name": "python",
   "nbconvert_exporter": "python",
   "pygments_lexer": "ipython3",
   "version": "3.9.15"
  }
 },
 "nbformat": 4,
 "nbformat_minor": 5
}
