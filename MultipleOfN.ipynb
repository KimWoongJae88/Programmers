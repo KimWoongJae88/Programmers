{
 "cells": [
  {
   "cell_type": "markdown",
   "id": "d3f80b91",
   "metadata": {},
   "source": [
    "# N의 배수\n",
    " - 정수 num과 n이 매개 변수로 주어질 때, num이 n의 배수이면 1을 return n의 배수가 아니라면 0을 return하도록 solution 함수를 완성해주세요."
   ]
  },
  {
   "cell_type": "markdown",
   "id": "85674084",
   "metadata": {},
   "source": [
    "## 제한사항\n",
    " - 2 ≤ num ≤ 100\n",
    " - 2 ≤ n ≤ 9\n",
    "\n",
    "## 입출력 예\n",
    " - num : 98\n",
    " - n : 2\n",
    " - result : 1"
   ]
  },
  {
   "cell_type": "code",
   "execution_count": 1,
   "id": "da45025f",
   "metadata": {},
   "outputs": [],
   "source": [
    "def solution(num, n):\n",
    "    answer = 0\n",
    "    if num % n == 0:\n",
    "        answer = 1\n",
    "    return answer"
   ]
  },
  {
   "cell_type": "code",
   "execution_count": 2,
   "id": "66aed81c",
   "metadata": {},
   "outputs": [
    {
     "data": {
      "text/plain": [
       "1"
      ]
     },
     "execution_count": 2,
     "metadata": {},
     "output_type": "execute_result"
    }
   ],
   "source": [
    "solution(98, 2)"
   ]
  },
  {
   "cell_type": "code",
   "execution_count": 3,
   "id": "a866ab98",
   "metadata": {},
   "outputs": [
    {
     "data": {
      "text/plain": [
       "0"
      ]
     },
     "execution_count": 3,
     "metadata": {},
     "output_type": "execute_result"
    }
   ],
   "source": [
    "solution(34, 3)"
   ]
  },
  {
   "cell_type": "code",
   "execution_count": null,
   "id": "fcdb360d",
   "metadata": {},
   "outputs": [],
   "source": []
  }
 ],
 "metadata": {
  "kernelspec": {
   "display_name": "Python 3 (ipykernel)",
   "language": "python",
   "name": "python3"
  },
  "language_info": {
   "codemirror_mode": {
    "name": "ipython",
    "version": 3
   },
   "file_extension": ".py",
   "mimetype": "text/x-python",
   "name": "python",
   "nbconvert_exporter": "python",
   "pygments_lexer": "ipython3",
   "version": "3.9.15"
  }
 },
 "nbformat": 4,
 "nbformat_minor": 5
}
