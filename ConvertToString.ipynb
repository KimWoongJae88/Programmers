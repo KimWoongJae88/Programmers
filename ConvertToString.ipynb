{
 "cells": [
  {
   "cell_type": "markdown",
   "id": "1882d53f",
   "metadata": {},
   "source": [
    "# 문자열로 변환\n",
    " - 정수 n이 주어질 때, n을 문자열로 변환하여 return하도록 solution 함수를 완성해주세요."
   ]
  },
  {
   "cell_type": "markdown",
   "id": "672d6772",
   "metadata": {},
   "source": [
    "## 제한사항\n",
    " - 1 ≤ n ≤ 10000\n",
    "\n",
    "## 입출력 예\n",
    " - n = 123\n",
    " - result = \"123\""
   ]
  },
  {
   "cell_type": "code",
   "execution_count": 1,
   "id": "8abaa510",
   "metadata": {},
   "outputs": [],
   "source": [
    "def solution(n):\n",
    "    return str(n)"
   ]
  },
  {
   "cell_type": "code",
   "execution_count": 2,
   "id": "fca433c1",
   "metadata": {},
   "outputs": [
    {
     "data": {
      "text/plain": [
       "'123'"
      ]
     },
     "execution_count": 2,
     "metadata": {},
     "output_type": "execute_result"
    }
   ],
   "source": [
    "solution(123)"
   ]
  },
  {
   "cell_type": "code",
   "execution_count": 3,
   "id": "6a00c891",
   "metadata": {},
   "outputs": [
    {
     "data": {
      "text/plain": [
       "'65487'"
      ]
     },
     "execution_count": 3,
     "metadata": {},
     "output_type": "execute_result"
    }
   ],
   "source": [
    "solution(65487)"
   ]
  },
  {
   "cell_type": "code",
   "execution_count": null,
   "id": "ab0a1cfa",
   "metadata": {},
   "outputs": [],
   "source": []
  }
 ],
 "metadata": {
  "kernelspec": {
   "display_name": "Python 3 (ipykernel)",
   "language": "python",
   "name": "python3"
  },
  "language_info": {
   "codemirror_mode": {
    "name": "ipython",
    "version": 3
   },
   "file_extension": ".py",
   "mimetype": "text/x-python",
   "name": "python",
   "nbconvert_exporter": "python",
   "pygments_lexer": "ipython3",
   "version": "3.9.15"
  }
 },
 "nbformat": 4,
 "nbformat_minor": 5
}
