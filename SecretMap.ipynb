{
 "cells": [
  {
   "cell_type": "markdown",
   "id": "bc52e1d7",
   "metadata": {},
   "source": [
    "# [1차] 비밀지도\n",
    " - 네오는 평소 프로도가 비상금을 숨겨놓는 장소를 알려줄 비밀지도를 손에 넣었다. 그런데 이 비밀지도는 숫자로 암호화되어 있어 위치를 확인하기 위해서는 암호를 해독해야 한다. 다행히 지도 암호를 해독할 방법을 적어놓은 메모도 함께 발견했다. \n",
    "   1. 지도는 한 변의 길이가 n인 정사각형 배열 형태로, 각 칸은 \"공백\"(\" \") 또는 \"벽\"(\"#\") 두 종류로 이루어져 있다. \n",
    "   2. 전체 지도는 두 장의 지도를 겹쳐서 얻을 수 있다. 각각 \"지도 1\"과 \"지도 2\"라고 하자. 지도 1 또는 지도 2 중 어느 하나라도 벽인 부분은 전체 지도에서도 벽이다. 지도 1과 지도 2에서 모두 공백인 부분은 전체 지도에서도 공백이다.\n",
    "   3. \"지도 1\"과 \"지도 2\"는 각각 정수 배열로 암호화되어 있다.\n",
    "   4. 암호화된 배열은 지도의 각 가로줄에서 벽 부분을 1, 공백 부분을 0으로 부호화했을 때 얻어지는 이진수에 해당하는 값의 배열이다.\n",
    " - 네오가 프로도의 비상금을 손에 넣을 수 있도록, 비밀지도의 암호를 해독하는 작업을 도와줄 프로그램을 작성하라."
   ]
  },
  {
   "cell_type": "code",
   "execution_count": null,
   "id": "4a79f8ec",
   "metadata": {},
   "outputs": [],
   "source": [
    "# 입력 형식\n",
    "# 입력으로 지도의 한 변 크기 n 과 2개의 정수 배열 arr1, arr2가 들어온다.\n",
    "# 1 ≦ n ≦ 16\n",
    "# arr1, arr2는 길이 n인 정수 배열로 주어진다.\n",
    "# 정수 배열의 각 원소 x를 이진수로 변환했을 때의 길이는 n 이하이다. 즉, 0 ≦ x ≦ 2n - 1을 만족한다.\n",
    "\n",
    "# n = 5\n",
    "# arr1 = [9, 20, 28, 18, 11]\n",
    "# arr2 = [30, 1, 21, 17, 28]\n",
    "# result = [\"#####\",\"# # #\", \"### #\", \"# ##\", \"#####\"]"
   ]
  },
  {
   "cell_type": "markdown",
   "id": "a0850d9a",
   "metadata": {},
   "source": [
    "# 첫번째 풀이"
   ]
  },
  {
   "cell_type": "code",
   "execution_count": 117,
   "id": "52428142",
   "metadata": {},
   "outputs": [],
   "source": [
    "def solution(n, arr1, arr2):\n",
    "    answer = []\n",
    "    a = ''\n",
    "    b = ''\n",
    "    c = ''\n",
    "    for i in arr1:  # 리스트의 10진수를 2진수로 바꿔준다.\n",
    "        if i < 2:  # 2진수로 바꿔주기위해 2를 기준으로 2보다 작으면 그대로 입력\n",
    "            a += str(i)\n",
    "            a += ' '\n",
    "        if i == 3:\n",
    "            b += str(i%2)\n",
    "            b += str(i//2)\n",
    "        while i > 3:  # 2보다 크거나 같으면\n",
    "            a += str(i%2)  # 2진수의 2로 나눈 나머지를 넣어주고\n",
    "            if i // 2 >= 2:  # 2로 나눈 몫이 2진수의 2보다 크거나 같으면\n",
    "                i = i // 2  # 2로 나눈 몫을 다시 n으로\n",
    "            if i // 2 < 2:  # 2로 나눈 몫이 2진수의 2보다 작아졌을때\n",
    "                a += str(i%2)  # 나머지와\n",
    "                a += str(i//2)  # 몫을 더해준다.\n",
    "                a += ' '  # 구해진 값들의 구분을 ' '로 해준다.\n",
    "                break\n",
    "    for i in arr2:\n",
    "        if i < 2:\n",
    "            b += str(i)\n",
    "            b += ' '\n",
    "        if i == 3:\n",
    "            b += str(i%2)\n",
    "            b += str(i//2)\n",
    "        while i > 3:\n",
    "            b += str(i%2)\n",
    "            if i // 2 > 1:\n",
    "                i = i // 2\n",
    "            if i // 2 <= 1:\n",
    "                b += str(i%2)\n",
    "                b += str(i//2)\n",
    "                b += ' '\n",
    "                break\n",
    "    a = a[::-1]   # 2진수로 바꾼 값을 뒤에서부터 읽어와준다. 전체 순서와 내부의 각각의 값의 순서가 바뀐다. 10 20 30 4 -> 4 03 02 01\n",
    "    b = b[::-1]\n",
    "    a = a.split()[::-1]  # 각각의 값이 공백으로 구분되어 있으므로 split으로 나눠주고 -> '4','03','02','01' 위에서 바뀐 전체순서를 바꿔준다. -> '01','02','03','4'\n",
    "    b = b.split()[::-1]\n",
    "    print(a,b)\n",
    "    for i in (range(n)):\n",
    "        c += str(10**n+int(a[i])+10**n+int(b[i]))+' '  # 첫번째에 0이 있어도 계산이 되겠금 10**n 으로 앞에 1을 만들어서 앞에 0까지 계산되도록 한다.\n",
    "    for i in c.split():  # 정리 된 값들을 형식에 맞게 바꿔준다.\n",
    "        print(i)\n",
    "        i = i[-n:]  # 첫번째 자리에 임의로 더했던 1을 빼준다.\n",
    "        i = i.replace('0', ' ')\n",
    "        i = i.replace('1', '#')\n",
    "        i = i.replace('2', '#')\n",
    "        i = i.replace('3', '#')\n",
    "        i = i.replace('4', '#')       \n",
    "        answer.append(i)\n",
    "    return answer"
   ]
  },
  {
   "cell_type": "markdown",
   "id": "d33686c9",
   "metadata": {},
   "source": [
    " - 함수 사용없이 2진수화 시키고 최대한 풀어서 코드를 짰는데 오류가 생김 3일 고민했는데 안풀림, 포기"
   ]
  },
  {
   "cell_type": "markdown",
   "id": "e7f9b7bc",
   "metadata": {},
   "source": [
    "---\n",
    "# 두번째 풀이"
   ]
  },
  {
   "cell_type": "code",
   "execution_count": 132,
   "id": "28cce7c4",
   "metadata": {},
   "outputs": [],
   "source": [
    "def solution(n, arr1, arr2):\n",
    "    answer = []\n",
    "    a = ''\n",
    "    for i, j in zip(arr1, arr2):  # 코드줄을 줄이기 위해 zip\n",
    "        b = 10**n+int(bin(i)[2:])+int(bin(j)[2:])  # 10n자리까지 임의로 곱해서 0으로 시작해도 문자로 변했을때 남을수 있게 만들어준다.\n",
    "        for k in str(b):\n",
    "            if k == '0':  # '0'이면 ' '으로\n",
    "                a += ' '\n",
    "            if k == '1' or k == '2' or k == '3':  # '3'은 임의로 더해준 10**n값으로 인해 3이 나올 수 있음\n",
    "                a += '#'\n",
    "        answer.append(a[-n:])  # 조건에 맞게 변경된 값에 조건에 맞는 길이로 잘라내고\n",
    "        a = ''  # 답을 담기위한 문자열도 초기화 시켜준다.\n",
    "    return answer"
   ]
  },
  {
   "cell_type": "code",
   "execution_count": 133,
   "id": "e9aa39e0",
   "metadata": {
    "scrolled": true
   },
   "outputs": [
    {
     "data": {
      "text/plain": [
       "['#####', '# # #', '### #', '#  ##', '  ###']"
      ]
     },
     "execution_count": 133,
     "metadata": {},
     "output_type": "execute_result"
    }
   ],
   "source": [
    "solution(5, [9, 20, 28, 18, 36], [30, 1, 21, 17, 3])"
   ]
  },
  {
   "cell_type": "code",
   "execution_count": 134,
   "id": "bee5546c",
   "metadata": {},
   "outputs": [
    {
     "data": {
      "text/plain": [
       "['##', '##']"
      ]
     },
     "execution_count": 134,
     "metadata": {},
     "output_type": "execute_result"
    }
   ],
   "source": [
    "solution(2, [18, 36], [17, 3])"
   ]
  }
 ],
 "metadata": {
  "kernelspec": {
   "display_name": "Python 3 (ipykernel)",
   "language": "python",
   "name": "python3"
  },
  "language_info": {
   "codemirror_mode": {
    "name": "ipython",
    "version": 3
   },
   "file_extension": ".py",
   "mimetype": "text/x-python",
   "name": "python",
   "nbconvert_exporter": "python",
   "pygments_lexer": "ipython3",
   "version": "3.9.12"
  }
 },
 "nbformat": 4,
 "nbformat_minor": 5
}
