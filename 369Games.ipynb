{
 "cells": [
  {
   "cell_type": "markdown",
   "id": "483937a7",
   "metadata": {},
   "source": [
    "# 369 게임\n",
    " - 머쓱이는 친구들과 369게임을 하고 있습니다. 369게임은 1부터 숫자를 하나씩 대며 3, 6, 9가 들어가는 숫자는 숫자 대신 3, 6, 9의 개수만큼 박수를 치는 게임입니다. 머쓱이가 말해야하는 숫자 order가 매개변수로 주어질 때, 머쓱이가 쳐야할 박수 횟수를 return 하도록 solution 함수를 완성해보세요."
   ]
  },
  {
   "cell_type": "code",
   "execution_count": 1,
   "id": "a17e74a0",
   "metadata": {},
   "outputs": [],
   "source": [
    "# 제한사항\n",
    "# 1 ≤ order ≤ 1,000,000\n",
    "\n",
    "# order : 3\n",
    "# result : 1"
   ]
  },
  {
   "cell_type": "code",
   "execution_count": 2,
   "id": "09671003",
   "metadata": {},
   "outputs": [],
   "source": [
    "def solution(order):\n",
    "    answer = 0\n",
    "    a = str(order)\n",
    "    for i in a:\n",
    "        if i in ['3','6','9']:\n",
    "            answer += 1\n",
    "    return answer"
   ]
  },
  {
   "cell_type": "code",
   "execution_count": 3,
   "id": "537e765a",
   "metadata": {},
   "outputs": [
    {
     "data": {
      "text/plain": [
       "1"
      ]
     },
     "execution_count": 3,
     "metadata": {},
     "output_type": "execute_result"
    }
   ],
   "source": [
    "solution(3)"
   ]
  },
  {
   "cell_type": "code",
   "execution_count": 4,
   "id": "2f3b2830",
   "metadata": {},
   "outputs": [
    {
     "data": {
      "text/plain": [
       "2"
      ]
     },
     "execution_count": 4,
     "metadata": {},
     "output_type": "execute_result"
    }
   ],
   "source": [
    "solution(29423)"
   ]
  },
  {
   "cell_type": "code",
   "execution_count": null,
   "id": "63cf621a",
   "metadata": {},
   "outputs": [],
   "source": []
  }
 ],
 "metadata": {
  "kernelspec": {
   "display_name": "Python 3 (ipykernel)",
   "language": "python",
   "name": "python3"
  },
  "language_info": {
   "codemirror_mode": {
    "name": "ipython",
    "version": 3
   },
   "file_extension": ".py",
   "mimetype": "text/x-python",
   "name": "python",
   "nbconvert_exporter": "python",
   "pygments_lexer": "ipython3",
   "version": "3.9.15"
  }
 },
 "nbformat": 4,
 "nbformat_minor": 5
}
