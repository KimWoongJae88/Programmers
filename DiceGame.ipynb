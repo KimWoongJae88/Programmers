{
 "cells": [
  {
   "cell_type": "markdown",
   "id": "cf51b48f",
   "metadata": {},
   "source": [
    "# 주사위 게임\n",
    "- 1부터 6까지 숫자가 적힌 주사위가 두 개 있습니다. 두 주사위를 굴렸을 때 나온 \b숫자를 각각 a, b라고 했을 때 얻는 점수는 다음과 같습니다.\n",
    " - a와 b가 모두 홀수라면 a2 + b2 점을 얻습니다.\n",
    " - a와 b 중 하나만 홀수라면 2 × (a + b) 점을 얻습니다.\n",
    " - a와 b 모두 홀수가 아니라면 |a - b| 점을 얻습니다.\n",
    "- 두 정수 a와 b가 매개변수로 주어질 때, 얻는 점수를 return 하는 solution 함수를 작성해 주세요."
   ]
  },
  {
   "cell_type": "markdown",
   "id": "9f3c6dff",
   "metadata": {},
   "source": [
    "## 제한사항\n",
    " - a와 b는 1 이상 6 이하의 정수입니다.\n",
    " \n",
    "## 입출력 예\n",
    "- a = 3\n",
    "- b = 5\n",
    "- result = 34"
   ]
  },
  {
   "cell_type": "code",
   "execution_count": 17,
   "id": "682537b7",
   "metadata": {},
   "outputs": [],
   "source": [
    "def solution(a, b):\n",
    "    if a % 2 != 0 and b % 2 != 0:\n",
    "        return a**2 + b**2\n",
    "    if (a + b) % 2 != 0:\n",
    "        return (a + b) * 2\n",
    "    if a % 2 == 0 and b % 2 == 0:\n",
    "        if a == b:\n",
    "            return 0\n",
    "        else:\n",
    "            return (a - b)**2 / 2"
   ]
  },
  {
   "cell_type": "code",
   "execution_count": 18,
   "id": "e9ae8fba",
   "metadata": {},
   "outputs": [
    {
     "data": {
      "text/plain": [
       "34"
      ]
     },
     "execution_count": 18,
     "metadata": {},
     "output_type": "execute_result"
    }
   ],
   "source": [
    "solution(3, 5)"
   ]
  },
  {
   "cell_type": "code",
   "execution_count": 19,
   "id": "39c29330",
   "metadata": {
    "scrolled": true
   },
   "outputs": [
    {
     "data": {
      "text/plain": [
       "2"
      ]
     },
     "execution_count": 19,
     "metadata": {},
     "output_type": "execute_result"
    }
   ],
   "source": [
    "solution(1, 1)"
   ]
  },
  {
   "cell_type": "code",
   "execution_count": null,
   "id": "68994fbb",
   "metadata": {},
   "outputs": [],
   "source": []
  }
 ],
 "metadata": {
  "kernelspec": {
   "display_name": "Python 3 (ipykernel)",
   "language": "python",
   "name": "python3"
  },
  "language_info": {
   "codemirror_mode": {
    "name": "ipython",
    "version": 3
   },
   "file_extension": ".py",
   "mimetype": "text/x-python",
   "name": "python",
   "nbconvert_exporter": "python",
   "pygments_lexer": "ipython3",
   "version": "3.9.15"
  }
 },
 "nbformat": 4,
 "nbformat_minor": 5
}
