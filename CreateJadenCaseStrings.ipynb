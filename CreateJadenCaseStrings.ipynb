{
 "cells": [
  {
   "cell_type": "markdown",
   "id": "fdc6c2c7",
   "metadata": {},
   "source": [
    "# JadenCase 문자열 만들기\n",
    " - JadenCase란 모든 단어의 첫 문자가 대문자이고, 그 외의 알파벳은 소문자인 문자열입니다. 단, 첫 문자가 알파벳이 아닐 때에는 이어지는 알파벳은 소문자로 쓰면 됩니다. (첫 번째 입출력 예 참고) 문자열 s가 주어졌을 때, s를 JadenCase로 바꾼 문자열을 리턴하는 함수, solution을 완성해주세요."
   ]
  },
  {
   "cell_type": "markdown",
   "id": "a5b62e9b",
   "metadata": {},
   "source": [
    "## 제한 조건\n",
    " - s는 길이 1 이상 200 이하인 문자열입니다.\n",
    " - s는 알파벳과 숫자, 공백문자(\" \")로 이루어져 있습니다.\n",
    " - 숫자는 단어의 첫 문자로만 나옵니다.\n",
    " - 숫자로만 이루어진 단어는 없습니다.\n",
    " - 공백문자가 연속해서 나올 수 있습니다.\n",
    "\n",
    "## 입출력 예\n",
    " - s : \"3people unFollowed me\"\n",
    " - return : \"3people Unfollowed Me\""
   ]
  },
  {
   "cell_type": "code",
   "execution_count": 84,
   "id": "682821b7",
   "metadata": {},
   "outputs": [],
   "source": [
    "def solution(s):\n",
    "    answer = ''\n",
    "    for i in s.lower().split(' '):\n",
    "        if i == '':\n",
    "            answer += ' '\n",
    "        else:\n",
    "            if i[0].isdigit():\n",
    "                answer += i\n",
    "                answer += ' '\n",
    "            else:\n",
    "                answer += i[0].upper()\n",
    "                answer += i[1:]\n",
    "                answer += ' '\n",
    "    return answer[0:-1]"
   ]
  },
  {
   "cell_type": "code",
   "execution_count": 85,
   "id": "c4c3eda5",
   "metadata": {},
   "outputs": [
    {
     "data": {
      "text/plain": [
       "'3people Unfollowed Me'"
      ]
     },
     "execution_count": 85,
     "metadata": {},
     "output_type": "execute_result"
    }
   ],
   "source": [
    "solution(\"3people unFollowed me\")"
   ]
  },
  {
   "cell_type": "code",
   "execution_count": 86,
   "id": "c2233f05",
   "metadata": {},
   "outputs": [
    {
     "data": {
      "text/plain": [
       "'For The Last Week'"
      ]
     },
     "execution_count": 86,
     "metadata": {},
     "output_type": "execute_result"
    }
   ],
   "source": [
    "solution(\"for the last week\")"
   ]
  },
  {
   "cell_type": "code",
   "execution_count": 87,
   "id": "776637ae",
   "metadata": {},
   "outputs": [
    {
     "data": {
      "text/plain": [
       "'A  B C D E   F G '"
      ]
     },
     "execution_count": 87,
     "metadata": {},
     "output_type": "execute_result"
    }
   ],
   "source": [
    "solution(\"a  b c d e   f g \")"
   ]
  }
 ],
 "metadata": {
  "kernelspec": {
   "display_name": "Python 3 (ipykernel)",
   "language": "python",
   "name": "python3"
  },
  "language_info": {
   "codemirror_mode": {
    "name": "ipython",
    "version": 3
   },
   "file_extension": ".py",
   "mimetype": "text/x-python",
   "name": "python",
   "nbconvert_exporter": "python",
   "pygments_lexer": "ipython3",
   "version": "3.9.15"
  }
 },
 "nbformat": 4,
 "nbformat_minor": 5
}
