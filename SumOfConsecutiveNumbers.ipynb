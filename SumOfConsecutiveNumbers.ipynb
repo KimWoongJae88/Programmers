{
 "cells": [
  {
   "cell_type": "markdown",
   "id": "a62777dd",
   "metadata": {},
   "source": [
    "# 연속된 수의 합\n",
    " - 연속된 세 개의 정수를 더해 12가 되는 경우는 3, 4, 5입니다. 두 정수 num과 total이 주어집니다. 연속된 수 num개를 더한 값이 total이 될 때, 정수 배열을 오름차순으로 담아 return하도록 solution함수를 완성해보세요."
   ]
  },
  {
   "cell_type": "code",
   "execution_count": 1,
   "id": "cb672d9b",
   "metadata": {},
   "outputs": [],
   "source": [
    "# 제한사항\n",
    "# 1 ≤ num ≤ 100\n",
    "# 0 ≤ total ≤ 1000\n",
    "# num개의 연속된 수를 더하여 total이 될 수 없는 테스트 케이스는 없습니다."
   ]
  },
  {
   "cell_type": "markdown",
   "id": "8118610a",
   "metadata": {},
   "source": [
    "---\n",
    "## 첫번째 풀이\n",
    " - 테스트케이스 3, 5, 6, 10에서 오류"
   ]
  },
  {
   "cell_type": "code",
   "execution_count": 7,
   "id": "fdb46d19",
   "metadata": {},
   "outputs": [
    {
     "name": "stdout",
     "output_type": "stream",
     "text": [
      "[3, 4, 5]\n"
     ]
    }
   ],
   "source": [
    "def solution(num, total):\n",
    "    answer = []\n",
    "    for i in range(num):\n",
    "        answer.append(round(total/num)-(num//2)+i)\n",
    "    print(answer)\n",
    "solution(3, 12)"
   ]
  },
  {
   "cell_type": "markdown",
   "id": "ba9fc782",
   "metadata": {},
   "source": [
    "---\n",
    "## 두번째 풀이"
   ]
  },
  {
   "cell_type": "code",
   "execution_count": 4,
   "id": "e42e87bc",
   "metadata": {},
   "outputs": [],
   "source": [
    "def solution(num, total):\n",
    "    a = []\n",
    "    # num 갯수만큼 연속되는 정수 리스트를 만들어준다.\n",
    "    for i in range(num):\n",
    "        a.append(i)\n",
    "    if sum(a) == total:  # 임의로 만들어준 리스트의 합이 total과 같으면 바로 리턴\n",
    "        return a\n",
    "    while True:\n",
    "        b = []\n",
    "        if sum(a) > total:  # total 보다크면 각 리스트값에 1씩 빼준다. 제한사항에서 total이 될 수 없는 케이스는 없으므로\n",
    "            for i in a:\n",
    "                b.append(i-1)\n",
    "            a = b\n",
    "        if sum(a) < total:  # total 보다크면 각 리스트값에 1씩 더해준다.\n",
    "            for i in a:\n",
    "                b.append(i+1)\n",
    "            a = b\n",
    "        if sum(a) == total:\n",
    "            return a        "
   ]
  },
  {
   "cell_type": "code",
   "execution_count": 5,
   "id": "490f70b3",
   "metadata": {},
   "outputs": [
    {
     "data": {
      "text/plain": [
       "[3, 4, 5]"
      ]
     },
     "execution_count": 5,
     "metadata": {},
     "output_type": "execute_result"
    }
   ],
   "source": [
    "solution(3, 12)"
   ]
  },
  {
   "cell_type": "code",
   "execution_count": null,
   "id": "5eee9f02",
   "metadata": {},
   "outputs": [],
   "source": []
  }
 ],
 "metadata": {
  "kernelspec": {
   "display_name": "Python 3 (ipykernel)",
   "language": "python",
   "name": "python3"
  },
  "language_info": {
   "codemirror_mode": {
    "name": "ipython",
    "version": 3
   },
   "file_extension": ".py",
   "mimetype": "text/x-python",
   "name": "python",
   "nbconvert_exporter": "python",
   "pygments_lexer": "ipython3",
   "version": "3.9.12"
  }
 },
 "nbformat": 4,
 "nbformat_minor": 5
}
