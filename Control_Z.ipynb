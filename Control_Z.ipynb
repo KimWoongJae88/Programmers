{
 "cells": [
  {
   "cell_type": "markdown",
   "id": "131cf171",
   "metadata": {},
   "source": [
    "# 컨트롤 제트\n",
    "### - 숫자들이 공백으로 구분된 문자열이 주어집니다. 문자열에 있는 숫자를 차례대로 더하려고 합니다. 이 때 “Z”가 나오면 바로 전에 더했던 숫자를 뺀다는 뜻입니다. 숫자와 “Z”로 이루어진 문자열 s가 주어질 때, 머쓱이가 구한 값을 return 하도록 solution 함수를 완성해보세요."
   ]
  },
  {
   "cell_type": "code",
   "execution_count": 1,
   "id": "d3e57ce4",
   "metadata": {},
   "outputs": [],
   "source": [
    "# 제한사항\n",
    "# 0 < s의 길이 < 1,000\n",
    "# -1,000 < s의 원소 중 숫자 < 1,000\n",
    "# s는 숫자, \"Z\", 공백으로 이루어져 있습니다.\n",
    "# s에 있는 숫자와 \"Z\"는 서로 공백으로 구분됩니다.\n",
    "# 연속된 공백은 주어지지 않습니다.\n",
    "# 0을 제외하고는 0으로 시작하는 숫자는 없습니다.\n",
    "# s의 시작과 끝에는 공백이 없습니다.\n",
    "# 모든 숫자를 지우는 경우는 주어지지 않습니다.\n",
    "# 지울 숫자가 없는 상태에서 \"Z\"는 무시합니다."
   ]
  },
  {
   "cell_type": "code",
   "execution_count": 12,
   "id": "bc26002e",
   "metadata": {},
   "outputs": [
    {
     "data": {
      "text/plain": [
       "11"
      ]
     },
     "execution_count": 12,
     "metadata": {},
     "output_type": "execute_result"
    }
   ],
   "source": [
    "def solution(s):\n",
    "    a = []\n",
    "    b = 0\n",
    "    s = s.split()\n",
    "    for i in s:\n",
    "        if i != 'Z':  # 'Z'가 아니면 숫자므로 더해주나 'Z'조건을 풀기위해 문자열로 더해준다.\n",
    "            a.append(i)\n",
    "        if i == 'Z':\n",
    "            a = a[:-1]  # 'Z'가 나오면 'Z'자신과 바로앞 숫자형 문자를 지우고 다음 반복\n",
    "            \n",
    "    for i in a:\n",
    "        b += int(i)  # 문자형 숫자를 반복하여 더해준다.\n",
    "    return b\n",
    "solution(\"10 1 1 1 Z Z Z 20 Z 1\")"
   ]
  }
 ],
 "metadata": {
  "kernelspec": {
   "display_name": "Python 3 (ipykernel)",
   "language": "python",
   "name": "python3"
  },
  "language_info": {
   "codemirror_mode": {
    "name": "ipython",
    "version": 3
   },
   "file_extension": ".py",
   "mimetype": "text/x-python",
   "name": "python",
   "nbconvert_exporter": "python",
   "pygments_lexer": "ipython3",
   "version": "3.9.12"
  }
 },
 "nbformat": 4,
 "nbformat_minor": 5
}
