{
 "cells": [
  {
   "cell_type": "markdown",
   "id": "fa01372c",
   "metadata": {},
   "source": [
    "# 햄버거 만들기\n",
    " - 햄버거 가게에서 일을 하는 상수는 햄버거를 포장하는 일을 합니다. 함께 일을 하는 다른 직원들이 햄버거에 들어갈 재료를 조리해 주면 조리된 순서대로 상수의 앞에 아래서부터 위로 쌓이게 되고, 상수는 순서에 맞게 쌓여서 완성된 햄버거를 따로 옮겨 포장을 하게 됩니다. 상수가 일하는 가게는 정해진 순서(아래서부터, 빵 – 야채 – 고기 - 빵)로 쌓인 햄버거만 포장을 합니다. 상수는 손이 굉장히 빠르기 때문에 상수가 포장하는 동안 속 재료가 추가적으로 들어오는 일은 없으며, 재료의 높이는 무시하여 재료가 높이 쌓여서 일이 힘들어지는 경우는 없습니다. 예를 들어, 상수의 앞에 쌓이는 재료의 순서가 [야채, 빵, 빵, 야채, 고기, 빵, 야채, 고기, 빵]일 때, 상수는 여섯 번째 재료가 쌓였을 때, 세 번째 재료부터 여섯 번째 재료를 이용하여 햄버거를 포장하고, 아홉 번째 재료가 쌓였을 때, 두 번째 재료와 일곱 번째 재료부터 아홉 번째 재료를 이용하여 햄버거를 포장합니다. 즉, 2개의 햄버거를 포장하게 됩니다. 상수에게 전해지는 재료의 정보를 나타내는 정수 배열 ingredient가 주어졌을 때, 상수가 포장하는 햄버거의 개수를 return 하도록 solution 함수를 완성하시오."
   ]
  },
  {
   "cell_type": "code",
   "execution_count": 1,
   "id": "3beaf995",
   "metadata": {},
   "outputs": [],
   "source": [
    "# 제한사항\n",
    "# 1 ≤ ingredient의 길이 ≤ 1,000,000\n",
    "# ingredient의 원소는 1, 2, 3 중 하나의 값이며, 순서대로 빵, 야채, 고기를 의미합니다."
   ]
  },
  {
   "cell_type": "markdown",
   "id": "7cfcd81c",
   "metadata": {},
   "source": [
    "---\n",
    "## 첫번째 풀이"
   ]
  },
  {
   "cell_type": "code",
   "execution_count": 21,
   "id": "92278732",
   "metadata": {},
   "outputs": [],
   "source": [
    "def solution(ingredient):\n",
    "    a=list(map(str, ingredient))  # 빵 야채 고기 빵을 쉽게 찾아내기위해 문자열로 변환\n",
    "    a = ''.join(a)\n",
    "    b = 0\n",
    "    while '1231' in a:  # 변환된 문자열에서 빵야채고기빵에 대응되는 1231이 있으면 계속 해서 반복\n",
    "        a = a.replace('1231', '', 1)  # 1231을 공백으로 뽑아내면서 뽑아낸 횟수만큼 b에 저장, 1234이 두번 이상 반복되는게 1로 저장되는 것을 방지하기위해 횟수 1을 넣어줌\n",
    "        b += 1\n",
    "    return b"
   ]
  },
  {
   "cell_type": "code",
   "execution_count": 61,
   "id": "55637777",
   "metadata": {},
   "outputs": [
    {
     "data": {
      "text/plain": [
       "3"
      ]
     },
     "execution_count": 61,
     "metadata": {},
     "output_type": "execute_result"
    }
   ],
   "source": [
    "solution([1, 1, 2, 3, 1, 2, 1, 2, 3, 1, 3, 1, 2, 3, 1, 1])"
   ]
  },
  {
   "cell_type": "markdown",
   "id": "64f6f247",
   "metadata": {},
   "source": [
    " - replace() 함수의 특성상 시간초과가 남"
   ]
  },
  {
   "cell_type": "markdown",
   "id": "40872e36",
   "metadata": {},
   "source": [
    "---\n",
    "## 두번째 풀이"
   ]
  },
  {
   "cell_type": "code",
   "execution_count": 60,
   "id": "3ddb5c2d",
   "metadata": {},
   "outputs": [],
   "source": [
    "def solution(ingredient):\n",
    "    a=list(map(str, ingredient))  # 빵 야채 고기 빵을 쉽게 찾아내기위해 문자열로 변환\n",
    "    a = ''.join(a)\n",
    "    b = ''\n",
    "    c = 0\n",
    "    for i in a:  # 전체 빵 고기 야채를 순서대로 빈리스트b에 넣어준다 \n",
    "        b += i\n",
    "        if '1231' in b:  # 넣어줄때 1231이 완성되면\n",
    "            b = b[:-4]  # 1231를 제외하고 다시 b로 만들어주고\n",
    "            c += 1  # 제외한 숫자만큼이 완성된 숫자이므로 1씩 더해준다.\n",
    "    return c"
   ]
  },
  {
   "cell_type": "markdown",
   "id": "6d5c4756",
   "metadata": {},
   "source": [
    " - 시간초과"
   ]
  },
  {
   "cell_type": "markdown",
   "id": "38cbd458",
   "metadata": {},
   "source": [
    "---\n",
    "## 세번째 풀이"
   ]
  },
  {
   "cell_type": "code",
   "execution_count": 134,
   "id": "5cc5a0ec",
   "metadata": {},
   "outputs": [],
   "source": [
    "def solution(ingredient):\n",
    "    a = []\n",
    "    b = 0\n",
    "    ingredient = list(map(str, ingredient))  # 빵 야채 고기 빵을 쉽게 찾아내기위해 문자열로 변환\n",
    "    for i in ingredient:  \n",
    "        a.append(i)  # 전체 빵 고기 야채를 순서대로 빈리스트b에 넣어준다.\n",
    "        if len(a) >= 4:\n",
    "            if a[-1] == '1' and a[-2] == '3' and a[-3] == '2' and a[-4] == '1':  # 넣어줄때 1231이 완성되면\n",
    "                for _ in range(4):  # 총 4개의 재료가 빠진만큼 반복하여\n",
    "                    a.pop(-1)   # 마지막 재료부터 pop() 해준다.\n",
    "                b += 1  # 완성된 1231의 횟수만큼 더해준다.\n",
    "    return b"
   ]
  },
  {
   "cell_type": "code",
   "execution_count": 135,
   "id": "4de214a4",
   "metadata": {
    "scrolled": true
   },
   "outputs": [
    {
     "data": {
      "text/plain": [
       "2"
      ]
     },
     "execution_count": 135,
     "metadata": {},
     "output_type": "execute_result"
    }
   ],
   "source": [
    "solution([2, 1, 1, 2, 3, 1, 2, 3, 1])"
   ]
  },
  {
   "cell_type": "markdown",
   "id": "303c8cc7",
   "metadata": {},
   "source": [
    " - 스택함수를 사용해서 풀어야 시간초과에 안걸림"
   ]
  },
  {
   "cell_type": "code",
   "execution_count": null,
   "id": "6daed573",
   "metadata": {},
   "outputs": [],
   "source": []
  }
 ],
 "metadata": {
  "kernelspec": {
   "display_name": "Python 3 (ipykernel)",
   "language": "python",
   "name": "python3"
  },
  "language_info": {
   "codemirror_mode": {
    "name": "ipython",
    "version": 3
   },
   "file_extension": ".py",
   "mimetype": "text/x-python",
   "name": "python",
   "nbconvert_exporter": "python",
   "pygments_lexer": "ipython3",
   "version": "3.9.12"
  }
 },
 "nbformat": 4,
 "nbformat_minor": 5
}
