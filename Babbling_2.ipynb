{
 "cells": [
  {
   "cell_type": "markdown",
   "id": "caf4d033",
   "metadata": {},
   "source": [
    "# 옹알이 2\n",
    " - 머쓱이는 태어난 지 11개월 된 조카를 돌보고 있습니다. 조카는 아직 \"aya\", \"ye\", \"woo\", \"ma\" 네 가지 발음과 네 가지 발음을 조합해서 만들 수 있는 발음밖에 하지 못하고 연속해서 같은 발음을 하는 것을 어려워합니다. 문자열 배열 babbling이 매개변수로 주어질 때, 머쓱이의 조카가 발음할 수 있는 단어의 개수를 return하도록 solution 함수를 완성해주세요."
   ]
  },
  {
   "cell_type": "code",
   "execution_count": 1,
   "id": "28b2ea9a",
   "metadata": {},
   "outputs": [],
   "source": [
    "# 제한사항\n",
    "# 1 ≤ babbling의 길이 ≤ 100\n",
    "# 1 ≤ babbling[i]의 길이 ≤ 30\n",
    "# 문자열은 알파벳 소문자로만 이루어져 있습니다."
   ]
  },
  {
   "cell_type": "code",
   "execution_count": 2,
   "id": "249daccf",
   "metadata": {},
   "outputs": [],
   "source": [
    "def solution(babbling):\n",
    "    bab = \"aya\", \"ye\", \"woo\", \"ma\"\n",
    "    babbab = \"ayaaya\", \"yeye\", \"woowoo\", \"mama\"  \n",
    "    a = []\n",
    "    b = []\n",
    "    c = []\n",
    "    for i in babbling:  # 발음 대상을 반복\n",
    "        for j in babbab:\n",
    "            i = i.replace(j, '-')  # 반복조건이 연달아서 반복되면 안되고, 연달아 나오지않으면서 반복되면 발음이 가능하게되므로 조건에 맞추기위해\n",
    "        a.append(i)  # 연달아서 나오는 구문을 '-'로 바꿔서 a리스트에 저장\n",
    "    for i in a:  # 반복조건을 만족게 수정한 리스트 a를 반복\n",
    "        for j in bab:  # 발음 할 수 있는 원소 반복\n",
    "            i = i.replace(j,'.')  # 발음 대상에 발음할 수 있는 원소를 '.'변경 // ''으로 변경하면 'myea' 가 발음할 수 있는 대상이 되게된다. \n",
    "        c.append(i)  # 발음 할 수 있는 원소를 지운 대상을 c리스트에 입력\n",
    "    for i in c:\n",
    "        i = i.replace('.', '')  # 카운터하기 편하게 '.'들을 ''으로 변경\n",
    "        b.append(i)\n",
    "    return b.count('')  # 발음 대상이 발음 할 수 있는 원소로만 이뤄져있으면 ''으로 남으므로 ''의 갯수가 발음 할 수 있는 발음대상의 갯수이다."
   ]
  },
  {
   "cell_type": "code",
   "execution_count": 3,
   "id": "c6c0db05",
   "metadata": {},
   "outputs": [
    {
     "data": {
      "text/plain": [
       "3"
      ]
     },
     "execution_count": 3,
     "metadata": {},
     "output_type": "execute_result"
    }
   ],
   "source": [
    "solution([\"ayaye\", \"uuu\", \"yeye\", \"yemawoo\", \"wooyemawooye\"])"
   ]
  }
 ],
 "metadata": {
  "kernelspec": {
   "display_name": "Python 3 (ipykernel)",
   "language": "python",
   "name": "python3"
  },
  "language_info": {
   "codemirror_mode": {
    "name": "ipython",
    "version": 3
   },
   "file_extension": ".py",
   "mimetype": "text/x-python",
   "name": "python",
   "nbconvert_exporter": "python",
   "pygments_lexer": "ipython3",
   "version": "3.9.12"
  }
 },
 "nbformat": 4,
 "nbformat_minor": 5
}
