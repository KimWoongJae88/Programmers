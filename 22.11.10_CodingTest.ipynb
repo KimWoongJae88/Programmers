{
 "cells": [
  {
   "cell_type": "markdown",
   "id": "979fb34c",
   "metadata": {},
   "source": [
    "# 서울에서 김서방 찾기\n",
    " - String형 배열 seoul의 element중 \"Kim\"의 위치 x를 찾아, \"김서방은 x에 있다\"는 String을 반환하는 함수, solution을 완성하세요. seoul에 \"Kim\"은 오직 한 번만 나타나며 잘못된 값이 입력되는 경우는 없습니다."
   ]
  },
  {
   "cell_type": "code",
   "execution_count": 13,
   "id": "0b975bb4",
   "metadata": {},
   "outputs": [],
   "source": [
    "# 제한 사항\n",
    "# seoul은 길이 1 이상, 1000 이하인 배열입니다.\n",
    "# seoul의 원소는 길이 1 이상, 20 이하인 문자열입니다.\n",
    "# \"Kim\"은 반드시 seoul 안에 포함되어 있습니다.\n",
    "# result = \"김서방은 몇번째에 있다\""
   ]
  },
  {
   "cell_type": "code",
   "execution_count": 15,
   "id": "17be8bfb",
   "metadata": {},
   "outputs": [],
   "source": [
    "def solution(seoul):\n",
    "    return '김서방은 ' + str(seoul.index('Kim')) + '에 있다'"
   ]
  },
  {
   "cell_type": "code",
   "execution_count": 16,
   "id": "fcb40fab",
   "metadata": {
    "scrolled": true
   },
   "outputs": [
    {
     "data": {
      "text/plain": [
       "'김서방은 1에 있다'"
      ]
     },
     "execution_count": 16,
     "metadata": {},
     "output_type": "execute_result"
    }
   ],
   "source": [
    "solution([\"Jane\", \"Kim\"])"
   ]
  },
  {
   "cell_type": "markdown",
   "id": "7918685e",
   "metadata": {},
   "source": [
    "---\n",
    "# 핸드폰 번호 가리기\n",
    " - 프로그래머스 모바일은 개인정보 보호를 위해 고지서를 보낼 때 고객들의 전화번호의 일부를 가립니다. 전화번호가 문자열 phone_number로 주어졌을 때, 전화번호의 뒷 4자리를 제외한 나머지 숫자를 전부 *으로 가린 문자열을 리턴하는 함수, solution을 완성해주세요."
   ]
  },
  {
   "cell_type": "code",
   "execution_count": 22,
   "id": "94d66d13",
   "metadata": {},
   "outputs": [],
   "source": [
    "# 제한 조건\n",
    "# phone_number는 길이 4 이상, 20이하인 문자열입니다.\n",
    "# result = '****1234'"
   ]
  },
  {
   "cell_type": "code",
   "execution_count": 23,
   "id": "2bd765d8",
   "metadata": {},
   "outputs": [],
   "source": [
    "def solution(phone_number):\n",
    "    return '*'*len(phone_number[:-4])+phone_number[-4:]"
   ]
  },
  {
   "cell_type": "code",
   "execution_count": 24,
   "id": "89be914a",
   "metadata": {},
   "outputs": [
    {
     "data": {
      "text/plain": [
       "'*******4444'"
      ]
     },
     "execution_count": 24,
     "metadata": {},
     "output_type": "execute_result"
    }
   ],
   "source": [
    "solution(\"01033334444\")"
   ]
  },
  {
   "cell_type": "markdown",
   "id": "8c4091ec",
   "metadata": {},
   "source": [
    "---\n",
    "# 나누어 떨어지는 숫자 배열\n",
    " - array의 각 element 중 divisor로 나누어 떨어지는 값을 오름차순으로 정렬한 배열을 반환하는 함수, solution을 작성해주세요. divisor로 나누어 떨어지는 element가 하나도 없다면 배열에 -1을 담아 반환하세요."
   ]
  },
  {
   "cell_type": "code",
   "execution_count": 35,
   "id": "1ebb85f3",
   "metadata": {},
   "outputs": [],
   "source": [
    "# 제한사항\n",
    "# arr은 자연수를 담은 배열입니다.\n",
    "# 정수 i, j에 대해 i ≠ j 이면 arr[i] ≠ arr[j] 입니다.\n",
    "# divisor는 자연수입니다.\n",
    "# array는 길이 1 이상인 배열입니다."
   ]
  },
  {
   "cell_type": "code",
   "execution_count": 36,
   "id": "195e75fe",
   "metadata": {},
   "outputs": [],
   "source": [
    "def solution(arr, divisor):\n",
    "    answer = []\n",
    "    for i in arr:\n",
    "        if i % divisor == 0:\n",
    "            answer.append(i)\n",
    "    answer.sort()\n",
    "    if len(answer) == 0:\n",
    "        return [-1]\n",
    "    else:\n",
    "        return answer"
   ]
  },
  {
   "cell_type": "code",
   "execution_count": 37,
   "id": "f010c3d0",
   "metadata": {},
   "outputs": [
    {
     "data": {
      "text/plain": [
       "[5, 10, 15]"
      ]
     },
     "execution_count": 37,
     "metadata": {},
     "output_type": "execute_result"
    }
   ],
   "source": [
    "solution([1,2,15,3,4,5,10], 5)"
   ]
  },
  {
   "cell_type": "markdown",
   "id": "cf4b1541",
   "metadata": {},
   "source": [
    "---\n",
    "# 제일 작은 수 제거하기\n",
    " - 정수를 저장한 배열, arr 에서 가장 작은 수를 제거한 배열을 리턴하는 함수, solution을 완성해주세요. 단, 리턴하려는 배열이 빈 배열인 경우엔 배열에 -1을 채워 리턴하세요. 예를들어 arr이 [4,3,2,1]인 경우는 [4,3,2]를 리턴 하고, [10]면 [-1]을 리턴 합니다."
   ]
  },
  {
   "cell_type": "code",
   "execution_count": 38,
   "id": "5fb0e75a",
   "metadata": {},
   "outputs": [],
   "source": [
    "# 제한 조건\n",
    "# arr은 길이 1 이상인 배열입니다.\n",
    "# 인덱스 i, j에 대해 i ≠ j이면 arr[i] ≠ arr[j] 입니다."
   ]
  },
  {
   "cell_type": "code",
   "execution_count": 44,
   "id": "8e315879",
   "metadata": {},
   "outputs": [],
   "source": [
    "def solution(arr):\n",
    "    arr.remove(min(arr))\n",
    "    if arr == []:\n",
    "        return [-1]\n",
    "    else:\n",
    "        return arr"
   ]
  },
  {
   "cell_type": "code",
   "execution_count": 46,
   "id": "df70f592",
   "metadata": {},
   "outputs": [
    {
     "name": "stdout",
     "output_type": "stream",
     "text": [
      "[4, 3, 2]\n",
      "[-1]\n"
     ]
    }
   ],
   "source": [
    "print(solution([4,3,2,1]))\n",
    "print(solution([10]))"
   ]
  },
  {
   "cell_type": "markdown",
   "id": "a6be2bf3",
   "metadata": {},
   "source": [
    "---\n",
    "# 음양 더하기\n",
    " - 어떤 정수들이 있습니다. 이 정수들의 절댓값을 차례대로 담은 정수 배열 absolutes와 이 정수들의 부호를 차례대로 담은 불리언 배열 signs가 매개변수로 주어집니다. 실제 정수들의 합을 구하여 return 하도록 solution 함수를 완성해주세요."
   ]
  },
  {
   "cell_type": "code",
   "execution_count": 47,
   "id": "60649d43",
   "metadata": {},
   "outputs": [],
   "source": [
    "# 제한사항\n",
    "# absolutes의 길이는 1 이상 1,000 이하입니다.\n",
    "# absolutes의 모든 수는 각각 1 이상 1,000 이하입니다.\n",
    "# signs의 길이는 absolutes의 길이와 같습니다.\n",
    "# signs[i] 가 참이면 absolutes[i] 의 실제 정수가 양수임을, 그렇지 않으면 음수임을 의미합니다.\n",
    "\n",
    "# absolutes = [4,7,12]\n",
    "# signs = [true,false,true]\n",
    "# result = 9"
   ]
  },
  {
   "cell_type": "code",
   "execution_count": 66,
   "id": "34aa8551",
   "metadata": {},
   "outputs": [],
   "source": [
    "def solution(absolutes, signs):\n",
    "    answer = 0\n",
    "    for i in range(len(signs)):\n",
    "        if signs[i] == True:\n",
    "            answer += absolutes[i]\n",
    "        else:\n",
    "            answer += absolutes[i]*-1\n",
    "    return answer"
   ]
  },
  {
   "cell_type": "code",
   "execution_count": 67,
   "id": "6ef978ff",
   "metadata": {},
   "outputs": [
    {
     "data": {
      "text/plain": [
       "0"
      ]
     },
     "execution_count": 67,
     "metadata": {},
     "output_type": "execute_result"
    }
   ],
   "source": [
    "solution([1,2,3], [False, False, True])"
   ]
  },
  {
   "cell_type": "markdown",
   "id": "b7ddf95b",
   "metadata": {},
   "source": [
    "---\n",
    "# 없는 숫자 더하기\n",
    " - 0부터 9까지의 숫자 중 일부가 들어있는 정수 배열 numbers가 매개변수로 주어집니다. numbers에서 찾을 수 없는 0부터 9까지의 숫자를 모두 찾아 더한 수를 return 하도록 solution 함수를 완성해주세요."
   ]
  },
  {
   "cell_type": "code",
   "execution_count": 68,
   "id": "04734dbd",
   "metadata": {},
   "outputs": [],
   "source": [
    "# 제한사항\n",
    "# 1 ≤ numbers의 길이 ≤ 9\n",
    "# 0 ≤ numbers의 모든 원소 ≤ 9\n",
    "# numbers의 모든 원소는 서로 다릅니다.\n",
    "\n",
    "# numbers = [1,2,3,4,6,7,8,0]\n",
    "# result = 14"
   ]
  },
  {
   "cell_type": "code",
   "execution_count": 72,
   "id": "3268687a",
   "metadata": {},
   "outputs": [],
   "source": [
    "def solution(numbers):\n",
    "    return sum(range(0,10)) - sum(i for i in numbers)"
   ]
  },
  {
   "cell_type": "code",
   "execution_count": 74,
   "id": "617bc9af",
   "metadata": {},
   "outputs": [
    {
     "data": {
      "text/plain": [
       "[6]"
      ]
     },
     "execution_count": 74,
     "metadata": {},
     "output_type": "execute_result"
    }
   ],
   "source": [
    "solution([5,8,4,0,6,7,9])"
   ]
  }
 ],
 "metadata": {
  "kernelspec": {
   "display_name": "Python 3 (ipykernel)",
   "language": "python",
   "name": "python3"
  },
  "language_info": {
   "codemirror_mode": {
    "name": "ipython",
    "version": 3
   },
   "file_extension": ".py",
   "mimetype": "text/x-python",
   "name": "python",
   "nbconvert_exporter": "python",
   "pygments_lexer": "ipython3",
   "version": "3.9.12"
  }
 },
 "nbformat": 4,
 "nbformat_minor": 5
}
