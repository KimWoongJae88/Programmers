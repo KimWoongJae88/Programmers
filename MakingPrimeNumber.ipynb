{
 "cells": [
  {
   "cell_type": "markdown",
   "id": "4c62efc5",
   "metadata": {},
   "source": [
    "# 소수 만들기\n",
    " - 주어진 숫자 중 3개의 수를 더했을 때 소수가 되는 경우의 개수를 구하려고 합니다. 숫자들이 들어있는 배열 nums가 매개변수로 주어질 때, nums에 있는 숫자들 중 서로 다른 3개를 골라 더했을 때 소수가 되는 경우의 개수를 return 하도록 solution 함수를 완성해주세요."
   ]
  },
  {
   "cell_type": "markdown",
   "id": "e220c743",
   "metadata": {},
   "source": [
    "## 제한사항\n",
    " - nums에 들어있는 숫자의 개수는 3개 이상 50개 이하입니다.\n",
    " - nums의 각 원소는 1 이상 1,000 이하의 자연수이며, 중복된 숫자가 들어있지 않습니다.\n",
    "\n",
    "## 입출력 예\n",
    " - nums = [1,2,3,4]\n",
    " - result =\t1"
   ]
  },
  {
   "cell_type": "code",
   "execution_count": 9,
   "id": "1450404b",
   "metadata": {},
   "outputs": [],
   "source": [
    "from itertools import combinations"
   ]
  },
  {
   "cell_type": "code",
   "execution_count": 74,
   "id": "f0b9c5fc",
   "metadata": {},
   "outputs": [],
   "source": [
    "def solution(nums):\n",
    "    numbers = []\n",
    "    answer = 0\n",
    "    for i in list(combinations(nums, 3)):\n",
    "        numbers.append(sum(i))\n",
    "    for j in numbers:\n",
    "        a = 0\n",
    "        for k in range(2, int((j)**0.5)+1):\n",
    "            if j % k == 0:\n",
    "                a += 1\n",
    "        if a == 0:\n",
    "            answer += 1\n",
    "    return answer"
   ]
  },
  {
   "cell_type": "code",
   "execution_count": 75,
   "id": "e077de1c",
   "metadata": {
    "scrolled": true
   },
   "outputs": [
    {
     "data": {
      "text/plain": [
       "1"
      ]
     },
     "execution_count": 75,
     "metadata": {},
     "output_type": "execute_result"
    }
   ],
   "source": [
    "solution([1,2,3,4])"
   ]
  },
  {
   "cell_type": "code",
   "execution_count": 76,
   "id": "ce1bbf8e",
   "metadata": {},
   "outputs": [
    {
     "data": {
      "text/plain": [
       "4"
      ]
     },
     "execution_count": 76,
     "metadata": {},
     "output_type": "execute_result"
    }
   ],
   "source": [
    "solution([1,2,7,6,4])"
   ]
  },
  {
   "cell_type": "code",
   "execution_count": null,
   "id": "d2428bde",
   "metadata": {},
   "outputs": [],
   "source": []
  }
 ],
 "metadata": {
  "kernelspec": {
   "display_name": "Python 3 (ipykernel)",
   "language": "python",
   "name": "python3"
  },
  "language_info": {
   "codemirror_mode": {
    "name": "ipython",
    "version": 3
   },
   "file_extension": ".py",
   "mimetype": "text/x-python",
   "name": "python",
   "nbconvert_exporter": "python",
   "pygments_lexer": "ipython3",
   "version": "3.9.15"
  }
 },
 "nbformat": 4,
 "nbformat_minor": 5
}
