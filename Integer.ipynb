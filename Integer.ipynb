{
 "cells": [
  {
   "cell_type": "markdown",
   "id": "8abdada8",
   "metadata": {},
   "source": [
    "# 정수 부분\n",
    " - 실수 flo가 매개 변수로 주어질 때, flo의 정수 부분을 return하도록 solution 함수를 완성해주세요."
   ]
  },
  {
   "cell_type": "markdown",
   "id": "ca0523d4",
   "metadata": {},
   "source": [
    "## 제한사항\n",
    " - 0 ≤ flo ≤ 100\n",
    "\n",
    "## 입출력 예\n",
    " - flo = 1.42\n",
    " - result = 1"
   ]
  },
  {
   "cell_type": "code",
   "execution_count": 1,
   "id": "eb7de32e",
   "metadata": {},
   "outputs": [],
   "source": [
    "def solution(flo):\n",
    "    return int(flo)"
   ]
  },
  {
   "cell_type": "code",
   "execution_count": 2,
   "id": "198831be",
   "metadata": {},
   "outputs": [
    {
     "data": {
      "text/plain": [
       "1"
      ]
     },
     "execution_count": 2,
     "metadata": {},
     "output_type": "execute_result"
    }
   ],
   "source": [
    "solution(1.42)"
   ]
  },
  {
   "cell_type": "code",
   "execution_count": 3,
   "id": "dd19cfa2",
   "metadata": {},
   "outputs": [
    {
     "data": {
      "text/plain": [
       "69"
      ]
     },
     "execution_count": 3,
     "metadata": {},
     "output_type": "execute_result"
    }
   ],
   "source": [
    "solution(69.32)"
   ]
  },
  {
   "cell_type": "code",
   "execution_count": null,
   "id": "b06e282e",
   "metadata": {},
   "outputs": [],
   "source": []
  }
 ],
 "metadata": {
  "kernelspec": {
   "display_name": "Python 3 (ipykernel)",
   "language": "python",
   "name": "python3"
  },
  "language_info": {
   "codemirror_mode": {
    "name": "ipython",
    "version": 3
   },
   "file_extension": ".py",
   "mimetype": "text/x-python",
   "name": "python",
   "nbconvert_exporter": "python",
   "pygments_lexer": "ipython3",
   "version": "3.9.15"
  }
 },
 "nbformat": 4,
 "nbformat_minor": 5
}
