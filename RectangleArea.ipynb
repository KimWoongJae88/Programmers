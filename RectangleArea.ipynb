{
 "cells": [
  {
   "cell_type": "markdown",
   "id": "a948747a",
   "metadata": {},
   "source": [
    "# 직사각형 넓이구하기\n",
    " - 2차원 좌표 평면에 변이 축과 평행한 직사각형이 있습니다. 직사각형 네 꼭짓점의 좌표 [[x1, y1], [x2, y2], [x3, y3], [x4, y4]]가 담겨있는 배열 dots가 매개변수로 주어질 때, 직사각형의 넓이를 return 하도록 solution 함수를 완성해보세요."
   ]
  },
  {
   "cell_type": "code",
   "execution_count": 1,
   "id": "9bf4b630",
   "metadata": {},
   "outputs": [],
   "source": [
    "#  제한사항\n",
    "#  dots의 길이 = 4\n",
    "#  dots의 원소의 길이 = 2\n",
    "#  -256 < dots[i]의 원소 < 256\n",
    "#  잘못된 입력은 주어지지 않습니다."
   ]
  },
  {
   "cell_type": "code",
   "execution_count": 3,
   "id": "d78dd1c9",
   "metadata": {
    "scrolled": true
   },
   "outputs": [],
   "source": [
    "def solution(dots):\n",
    "    a = []\n",
    "    # 임의의 세점의 각 변의 길이를 구하고\n",
    "    a.append(abs(dots[0][0] - dots[1][0]) + abs(dots[0][1] - dots[1][1]))  \n",
    "    a.append(abs(dots[0][0] - dots[2][0]) + abs(dots[0][1] - dots[2][1]))\n",
    "    a.append(abs(dots[0][0] - dots[3][0]) + abs(dots[0][1] - dots[3][1]))\n",
    "    a.remove(max(a))  # 가장큰 변의 길이를 빼주면 남은 변의 길이는 밑변과 높이가 된다.\n",
    "    return a[0]*a[1]"
   ]
  },
  {
   "cell_type": "code",
   "execution_count": 4,
   "id": "fea6c595",
   "metadata": {},
   "outputs": [
    {
     "data": {
      "text/plain": [
       "4"
      ]
     },
     "execution_count": 4,
     "metadata": {},
     "output_type": "execute_result"
    }
   ],
   "source": [
    "solution([[-1, -1], [1, 1], [1, -1], [-1, 1]])"
   ]
  }
 ],
 "metadata": {
  "kernelspec": {
   "display_name": "Python 3 (ipykernel)",
   "language": "python",
   "name": "python3"
  },
  "language_info": {
   "codemirror_mode": {
    "name": "ipython",
    "version": 3
   },
   "file_extension": ".py",
   "mimetype": "text/x-python",
   "name": "python",
   "nbconvert_exporter": "python",
   "pygments_lexer": "ipython3",
   "version": "3.9.12"
  }
 },
 "nbformat": 4,
 "nbformat_minor": 5
}
