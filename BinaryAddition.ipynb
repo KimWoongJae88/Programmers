{
 "cells": [
  {
   "cell_type": "markdown",
   "id": "885a7c29",
   "metadata": {},
   "source": [
    "# 이진수 더하기\n",
    " - 이진수를 의미하는 두 개의 문자열 bin1과 bin2가 매개변수로 주어질 때, 두 이진수의 합을 return하도록 solution 함수를 완성해주세요."
   ]
  },
  {
   "cell_type": "markdown",
   "id": "2fc0e23b",
   "metadata": {},
   "source": [
    "## 제한사항\n",
    " - return 값은 이진수를 의미하는 문자열입니다.\n",
    " - 1 ≤ bin1, bin2의 길이 ≤ 10\n",
    " - bin1과 bin2는 0과 1로만 이루어져 있습니다.\n",
    " - bin1과 bin2는 \"0\"을 제외하고 0으로 시작하지 않습니다.\n",
    "\n",
    "## 입출력 예\n",
    " - bin1 : \"10\"\n",
    " - bin2 : \"11\"\n",
    " - result: \"101\""
   ]
  },
  {
   "cell_type": "code",
   "execution_count": 1,
   "id": "74d51080",
   "metadata": {},
   "outputs": [],
   "source": [
    "def solution(bin1, bin2):\n",
    "    return bin(int(bin1, 2)+int(bin2, 2))[2:]"
   ]
  },
  {
   "cell_type": "code",
   "execution_count": 2,
   "id": "8b9ac5c7",
   "metadata": {},
   "outputs": [
    {
     "data": {
      "text/plain": [
       "'101'"
      ]
     },
     "execution_count": 2,
     "metadata": {},
     "output_type": "execute_result"
    }
   ],
   "source": [
    "solution(\"10\", \"11\")"
   ]
  },
  {
   "cell_type": "code",
   "execution_count": 3,
   "id": "94cd0d75",
   "metadata": {},
   "outputs": [
    {
     "data": {
      "text/plain": [
       "'11000'"
      ]
     },
     "execution_count": 3,
     "metadata": {},
     "output_type": "execute_result"
    }
   ],
   "source": [
    "solution(\"1001\", \"1111\")"
   ]
  },
  {
   "cell_type": "code",
   "execution_count": null,
   "id": "1606289e",
   "metadata": {},
   "outputs": [],
   "source": []
  }
 ],
 "metadata": {
  "kernelspec": {
   "display_name": "Python 3 (ipykernel)",
   "language": "python",
   "name": "python3"
  },
  "language_info": {
   "codemirror_mode": {
    "name": "ipython",
    "version": 3
   },
   "file_extension": ".py",
   "mimetype": "text/x-python",
   "name": "python",
   "nbconvert_exporter": "python",
   "pygments_lexer": "ipython3",
   "version": "3.9.15"
  }
 },
 "nbformat": 4,
 "nbformat_minor": 5
}
