{
 "cells": [
  {
   "cell_type": "markdown",
   "id": "1962c50b",
   "metadata": {},
   "source": [
    "# 숫자 합 차 곱 구하기\n",
    "### - 정수 num1과 num2가 매개변수로 주어질때, num1과 num2의 합과 차, 곱 return 하도록 solution 함수를 완성해줘요."
   ]
  },
  {
   "cell_type": "code",
   "execution_count": 5,
   "id": "91d60ec3",
   "metadata": {},
   "outputs": [],
   "source": [
    "def solution(num1, num2):\n",
    "    return num1 + num2\n",
    "\n",
    "def solution(num1, num2):\n",
    "    return num1 - num2\n",
    "\n",
    "def solution(num1, num2):\n",
    "    return num1 * num2"
   ]
  },
  {
   "cell_type": "markdown",
   "id": "acb0922f",
   "metadata": {},
   "source": [
    "---\n",
    "# 나머지 구하기\n",
    "### - 정수 num1, num2가 매개변수로 주어질 때, num1를 num2로 나눈 나머지를 return 하도록 solution 함수를 완성해주세요."
   ]
  },
  {
   "cell_type": "code",
   "execution_count": 3,
   "id": "aec37dc7",
   "metadata": {},
   "outputs": [],
   "source": [
    "def solution(num1, num2):\n",
    "    return num1 % num2"
   ]
  },
  {
   "cell_type": "markdown",
   "id": "3cd8bddb",
   "metadata": {},
   "source": [
    "---\n",
    "# 몫 구하기\n",
    "### - 정수 num1, num2가 매개변수로 주어질 때, num1을 num2로 나눈 몫을 return 하도록 solution 함수를 완성해주세요."
   ]
  },
  {
   "cell_type": "code",
   "execution_count": 4,
   "id": "362554b7",
   "metadata": {},
   "outputs": [],
   "source": [
    "def solution(num1, num2):\n",
    "    return num1 // num2"
   ]
  },
  {
   "cell_type": "markdown",
   "id": "2fde23f1",
   "metadata": {},
   "source": [
    "---\n",
    "# 숫자 비교하기\n",
    "### - 정수 num1과 num2가 매개변수로 주어집니다. 두 수가 같으면 1 다르면 -1을 retrun하도록 solution 함수를 완성해주세요."
   ]
  },
  {
   "cell_type": "code",
   "execution_count": null,
   "id": "5d0a9ea2",
   "metadata": {},
   "outputs": [],
   "source": [
    "def solution(num1, num2):\n",
    "    if num1 == num2:\n",
    "        return 1\n",
    "    else:\n",
    "        return -1"
   ]
  },
  {
   "cell_type": "markdown",
   "id": "dd2ad0c9",
   "metadata": {},
   "source": [
    "---\n",
    "# 나이 출력\n",
    "### - 머쓱이는 40살인 선생님이 몇 년도에 태어났는지 궁금해졌습니다. 나이 age가 주어질 때, 2022년을 기준 출생 연도를 return 하는 solution 함수를 완성해주세요."
   ]
  },
  {
   "cell_type": "code",
   "execution_count": null,
   "id": "65e80e0a",
   "metadata": {},
   "outputs": [],
   "source": [
    "def solution(age):\n",
    "    return 2023 - age"
   ]
  }
 ],
 "metadata": {
  "kernelspec": {
   "display_name": "Python 3 (ipykernel)",
   "language": "python",
   "name": "python3"
  },
  "language_info": {
   "codemirror_mode": {
    "name": "ipython",
    "version": 3
   },
   "file_extension": ".py",
   "mimetype": "text/x-python",
   "name": "python",
   "nbconvert_exporter": "python",
   "pygments_lexer": "ipython3",
   "version": "3.9.12"
  }
 },
 "nbformat": 4,
 "nbformat_minor": 5
}
