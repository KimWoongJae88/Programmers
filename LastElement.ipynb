{
 "cells": [
  {
   "cell_type": "markdown",
   "id": "cf2ac546",
   "metadata": {},
   "source": [
    "# 마지막 두 원소\n",
    " - 정수 리스트 num_list가 주어질 때, 마지막 원소가 그전 원소보다 크면 마지막 원소에서 그전 원소를 뺀 값을 마지막 원소가 그전 원소보다 크지 않다면 마지막 원소를 두 배한 값을 추가하여 return하도록 solution 함수를 완성해주세요."
   ]
  },
  {
   "cell_type": "markdown",
   "id": "ea4174b7",
   "metadata": {},
   "source": [
    "## 제한사항\n",
    "- 2 ≤ num_list의 길이 ≤ 10\n",
    "- 1 ≤ num_list의 원소 ≤ 9\n",
    "\n",
    "## 입출력 예\n",
    "- num_list = [2, 1, 6]\n",
    "- result = [2, 1, 6, 5]"
   ]
  },
  {
   "cell_type": "code",
   "execution_count": 1,
   "id": "79b58d4d",
   "metadata": {},
   "outputs": [],
   "source": [
    "def solution(num_list):\n",
    "    if num_list[-1] > num_list[-2]:\n",
    "        num_list.append(num_list[-1] - num_list[-2])\n",
    "    else:\n",
    "        num_list.append(num_list[-1] * 2)\n",
    "    return num_list"
   ]
  },
  {
   "cell_type": "code",
   "execution_count": 2,
   "id": "5c4f41ed",
   "metadata": {},
   "outputs": [
    {
     "data": {
      "text/plain": [
       "[2, 1, 6, 5]"
      ]
     },
     "execution_count": 2,
     "metadata": {},
     "output_type": "execute_result"
    }
   ],
   "source": [
    "solution([2, 1, 6])"
   ]
  },
  {
   "cell_type": "code",
   "execution_count": 3,
   "id": "d0e22064",
   "metadata": {},
   "outputs": [
    {
     "data": {
      "text/plain": [
       "[5, 2, 1, 7, 5, 10]"
      ]
     },
     "execution_count": 3,
     "metadata": {},
     "output_type": "execute_result"
    }
   ],
   "source": [
    "solution([5, 2, 1, 7, 5])"
   ]
  },
  {
   "cell_type": "code",
   "execution_count": null,
   "id": "a5b36456",
   "metadata": {},
   "outputs": [],
   "source": []
  }
 ],
 "metadata": {
  "kernelspec": {
   "display_name": "Python 3 (ipykernel)",
   "language": "python",
   "name": "python3"
  },
  "language_info": {
   "codemirror_mode": {
    "name": "ipython",
    "version": 3
   },
   "file_extension": ".py",
   "mimetype": "text/x-python",
   "name": "python",
   "nbconvert_exporter": "python",
   "pygments_lexer": "ipython3",
   "version": "3.9.15"
  }
 },
 "nbformat": 4,
 "nbformat_minor": 5
}
