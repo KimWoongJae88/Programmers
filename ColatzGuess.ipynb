{
 "cells": [
  {
   "cell_type": "markdown",
   "id": "d38f7c86",
   "metadata": {},
   "source": [
    "# 콜라츠 추측\n",
    " - 1937년 Collatz란 사람에 의해 제기된 이 추측은, 주어진 수가 1이 될 때까지 다음 작업을 반복하면, 모든 수를 1로 만들 수 있다는 추측입니다. 작업은 다음과 같습니다.\n",
    "  - 1-1. 입력된 수가 짝수라면 2로 나눕니다. \n",
    "  - 1-2. 입력된 수가 홀수라면 3을 곱하고 1을 더합니다. \n",
    "  - 2. 결과로 나온 수에 같은 작업을 1이 될 때까지 반복합니다. \n",
    " - 예를 들어, 주어진 수가 6이라면 6 → 3 → 10 → 5 → 16 → 8 → 4 → 2 → 1 이 되어 총 8번 만에 1이 됩니다. 위 작업을 몇 번이나 반복해야 하는지 반환하는 함수, solution을 완성해 주세요. 단, 주어진 수가 1인 경우에는 0을, 작업을 500번 반복할 때까지 1이 되지 않는다면 –1을 반환해 주세요."
   ]
  },
  {
   "cell_type": "code",
   "execution_count": 18,
   "id": "61d0e889",
   "metadata": {},
   "outputs": [],
   "source": [
    "# 제한 사항\n",
    "# 입력된 수, num은 1 이상 8,000,000 미만인 정수입니다."
   ]
  },
  {
   "cell_type": "code",
   "execution_count": 19,
   "id": "146d6057",
   "metadata": {},
   "outputs": [],
   "source": [
    "def solution(num):\n",
    "    answer = 0\n",
    "    while num > 1:  # num이 1보다크면 반복\n",
    "        if num % 2 == 0:\n",
    "            num = num / 2  # 조건에 맞게 바꾸고 num 바꿔주고\n",
    "            answer += 1\n",
    "        if num == 1:  # num이 1일때 break, 여기서 멈추지 않으면 num % 2 != 0:으로 넘어가서 수행되므로 break를 걸어준다.\n",
    "            break\n",
    "        if num % 2 != 0:\n",
    "            num = num * 3 + 1\n",
    "            answer += 1\n",
    "    if answer > 500:  # 실행횟수 500번이 넘어가도 1이 되지 않을때는 -1을 출력\n",
    "        return -1\n",
    "    else:\n",
    "        return answer"
   ]
  },
  {
   "cell_type": "code",
   "execution_count": 20,
   "id": "6bd147f0",
   "metadata": {},
   "outputs": [
    {
     "data": {
      "text/plain": [
       "8"
      ]
     },
     "execution_count": 20,
     "metadata": {},
     "output_type": "execute_result"
    }
   ],
   "source": [
    "solution(6)"
   ]
  },
  {
   "cell_type": "code",
   "execution_count": null,
   "id": "8a93f25e",
   "metadata": {},
   "outputs": [],
   "source": []
  }
 ],
 "metadata": {
  "kernelspec": {
   "display_name": "Python 3 (ipykernel)",
   "language": "python",
   "name": "python3"
  },
  "language_info": {
   "codemirror_mode": {
    "name": "ipython",
    "version": 3
   },
   "file_extension": ".py",
   "mimetype": "text/x-python",
   "name": "python",
   "nbconvert_exporter": "python",
   "pygments_lexer": "ipython3",
   "version": "3.9.12"
  }
 },
 "nbformat": 4,
 "nbformat_minor": 5
}
