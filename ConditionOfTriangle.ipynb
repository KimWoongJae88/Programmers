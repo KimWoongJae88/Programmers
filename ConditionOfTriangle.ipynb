{
 "cells": [
  {
   "cell_type": "markdown",
   "id": "3d7bf85b",
   "metadata": {},
   "source": [
    "# 삼각형의 완성조건\n",
    " - 선분 세 개로 삼각형을 만들기 위해서는 다음과 같은 조건을 만족해야 합니다.\n",
    " - 가장 긴 변의 길이는 다른 두 변의 길이의 합보다 작아야 합니다. 삼각형의 세 변의 길이가 담긴 배열 sides이 매개변수로 주어집니다. 세 변으로 삼각형을 만들 수 있다면 1, 만들 수 없다면 2를 return하도록 solution 함수를 완성해주세요."
   ]
  },
  {
   "cell_type": "code",
   "execution_count": 1,
   "id": "243ee479",
   "metadata": {},
   "outputs": [],
   "source": [
    "# 제한사항\n",
    "# sides의 원소는 자연수입니다.\n",
    "# sides의 길이는 3입니다.\n",
    "# 1 ≤ sides의 원소 ≤ 1,000\n",
    "\n",
    "# sides : [199, 72, 222]\n",
    "# result : 1"
   ]
  },
  {
   "cell_type": "code",
   "execution_count": 2,
   "id": "dba5849c",
   "metadata": {},
   "outputs": [],
   "source": [
    "def solution(sides):\n",
    "    return 1 if sum(sides)-max(sides) > max(sides) else 2"
   ]
  },
  {
   "cell_type": "code",
   "execution_count": 3,
   "id": "9637bd44",
   "metadata": {},
   "outputs": [
    {
     "data": {
      "text/plain": [
       "1"
      ]
     },
     "execution_count": 3,
     "metadata": {},
     "output_type": "execute_result"
    }
   ],
   "source": [
    "solution([199, 72, 222])"
   ]
  },
  {
   "cell_type": "code",
   "execution_count": 4,
   "id": "49d8a7a0",
   "metadata": {},
   "outputs": [
    {
     "data": {
      "text/plain": [
       "2"
      ]
     },
     "execution_count": 4,
     "metadata": {},
     "output_type": "execute_result"
    }
   ],
   "source": [
    "solution([3, 6, 2])"
   ]
  },
  {
   "cell_type": "code",
   "execution_count": null,
   "id": "add371d7",
   "metadata": {},
   "outputs": [],
   "source": []
  }
 ],
 "metadata": {
  "kernelspec": {
   "display_name": "Python 3 (ipykernel)",
   "language": "python",
   "name": "python3"
  },
  "language_info": {
   "codemirror_mode": {
    "name": "ipython",
    "version": 3
   },
   "file_extension": ".py",
   "mimetype": "text/x-python",
   "name": "python",
   "nbconvert_exporter": "python",
   "pygments_lexer": "ipython3",
   "version": "3.9.15"
  }
 },
 "nbformat": 4,
 "nbformat_minor": 5
}
