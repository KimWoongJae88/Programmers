{
 "cells": [
  {
   "cell_type": "markdown",
   "id": "0a0d9c4e",
   "metadata": {},
   "source": [
    "# 부분 문자열\n",
    "- 어떤 문자열 A가 다른 문자열 B안에 속하면 A를 B의 부분 문자열이라고 합니다. 예를 들어 문자열 \"abc\"는 문자열 \"aabcc\"의 부분 문자열입니다. 문자열 str1과 str2가 주어질 때, str1이 str2의 부분 문자열이라면 1을 부분 문자열이 아니라면 0을 return하도록 solution 함수를 완성해주세요."
   ]
  },
  {
   "cell_type": "markdown",
   "id": "93882b5c",
   "metadata": {},
   "source": [
    "## 제한 사항\n",
    "- 1 ≤ str1 ≤ str2 ≤ 20\n",
    "- str1과 str2는 영어 소문자로만 이루어져 있습니다.\n",
    "\n",
    "## 입출력 예\n",
    "- str1 = \"abc\"\n",
    "- str2 = \"aabcc\"\n",
    "- result = 1"
   ]
  },
  {
   "cell_type": "code",
   "execution_count": 1,
   "id": "08db6a74",
   "metadata": {},
   "outputs": [],
   "source": [
    "def solution(str1, str2):\n",
    "    if str1 in str2:\n",
    "        return 1\n",
    "    else:\n",
    "        return 0"
   ]
  },
  {
   "cell_type": "code",
   "execution_count": 2,
   "id": "1c2b383b",
   "metadata": {},
   "outputs": [
    {
     "data": {
      "text/plain": [
       "1"
      ]
     },
     "execution_count": 2,
     "metadata": {},
     "output_type": "execute_result"
    }
   ],
   "source": [
    "solution(\"abc\", \"aabcc\")"
   ]
  },
  {
   "cell_type": "code",
   "execution_count": 3,
   "id": "abbc7a84",
   "metadata": {},
   "outputs": [
    {
     "data": {
      "text/plain": [
       "0"
      ]
     },
     "execution_count": 3,
     "metadata": {},
     "output_type": "execute_result"
    }
   ],
   "source": [
    "solution(\"tbt\", \"tbbttb\")"
   ]
  },
  {
   "cell_type": "code",
   "execution_count": null,
   "id": "a454acea",
   "metadata": {},
   "outputs": [],
   "source": []
  }
 ],
 "metadata": {
  "kernelspec": {
   "display_name": "Python 3 (ipykernel)",
   "language": "python",
   "name": "python3"
  },
  "language_info": {
   "codemirror_mode": {
    "name": "ipython",
    "version": 3
   },
   "file_extension": ".py",
   "mimetype": "text/x-python",
   "name": "python",
   "nbconvert_exporter": "python",
   "pygments_lexer": "ipython3",
   "version": "3.9.15"
  }
 },
 "nbformat": 4,
 "nbformat_minor": 5
}
