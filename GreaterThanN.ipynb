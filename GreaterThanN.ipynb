{
 "cells": [
  {
   "cell_type": "markdown",
   "id": "414511dd",
   "metadata": {},
   "source": [
    "# n보다 커질 때까지 더하기\n",
    " - 정수 배열 numbers와 정수 n이 매개변수로 주어집니다. numbers의 원소를 앞에서부터 하나씩 더하다가 그 합이 n보다 커지는 순간 이때까지 더했던 원소들의 합을 return 하는 solution 함수를 작성해 주세요."
   ]
  },
  {
   "cell_type": "markdown",
   "id": "ca26f4be",
   "metadata": {},
   "source": [
    "## 제한사항\n",
    "- 1 ≤ numbers의 길이 ≤ 100\n",
    "- 1 ≤ numbers의 원소 ≤ 100\n",
    "- 0 ≤ n < numbers의 모든 원소의 합\n",
    "\n",
    "## 입출력 예\n",
    "- numbers = [34, 5, 71, 29, 100, 34]\n",
    "- n = 123\n",
    "- result = 139"
   ]
  },
  {
   "cell_type": "code",
   "execution_count": 1,
   "id": "886495be",
   "metadata": {},
   "outputs": [],
   "source": [
    "def solution(numbers, n):\n",
    "    answer = 0\n",
    "    for i in numbers:\n",
    "        if answer <= n:\n",
    "            answer += i\n",
    "        if answer > n:\n",
    "            return answer"
   ]
  },
  {
   "cell_type": "code",
   "execution_count": 2,
   "id": "3abd8820",
   "metadata": {},
   "outputs": [
    {
     "data": {
      "text/plain": [
       "239"
      ]
     },
     "execution_count": 2,
     "metadata": {},
     "output_type": "execute_result"
    }
   ],
   "source": [
    "solution([58, 44, 27, 10, 100], 139)"
   ]
  },
  {
   "cell_type": "code",
   "execution_count": 3,
   "id": "eb687c23",
   "metadata": {},
   "outputs": [
    {
     "data": {
      "text/plain": [
       "139"
      ]
     },
     "execution_count": 3,
     "metadata": {},
     "output_type": "execute_result"
    }
   ],
   "source": [
    "solution([34, 5, 71, 29, 100, 34], 123)"
   ]
  },
  {
   "cell_type": "code",
   "execution_count": null,
   "id": "e48188bf",
   "metadata": {},
   "outputs": [],
   "source": []
  }
 ],
 "metadata": {
  "kernelspec": {
   "display_name": "Python 3 (ipykernel)",
   "language": "python",
   "name": "python3"
  },
  "language_info": {
   "codemirror_mode": {
    "name": "ipython",
    "version": 3
   },
   "file_extension": ".py",
   "mimetype": "text/x-python",
   "name": "python",
   "nbconvert_exporter": "python",
   "pygments_lexer": "ipython3",
   "version": "3.9.15"
  }
 },
 "nbformat": 4,
 "nbformat_minor": 5
}
