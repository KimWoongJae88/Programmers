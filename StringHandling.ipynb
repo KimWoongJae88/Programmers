{
 "cells": [
  {
   "cell_type": "markdown",
   "id": "5674b4bc",
   "metadata": {},
   "source": [
    "# 문자열 다루기\n",
    " - 문자열 s의 길이가 4 혹은 6이고, 숫자로만 구성돼있는지 확인해주는 함수, solution을 완성하세요. 예를 들어 s가 \"a234\"이면 False를 리턴하고 \"1234\"라면 True를 리턴하면 됩니다."
   ]
  },
  {
   "cell_type": "markdown",
   "id": "1fa6bce1",
   "metadata": {},
   "source": [
    "## 제한 사항\n",
    " - s는 길이 1 이상, 길이 8 이하인 문자열입니다.\n",
    " - s는 영문 알파벳 대소문자 또는 0부터 9까지 숫자로 이루어져 있습니다.\n",
    "\n",
    "## 입출력 예\n",
    " - s : \"a234\"\n",
    " - return : false"
   ]
  },
  {
   "cell_type": "code",
   "execution_count": 1,
   "id": "40ec64c9",
   "metadata": {},
   "outputs": [],
   "source": [
    "def solution(s):\n",
    "    if len(s) == 4 or len(s) == 6:\n",
    "        if s.isdigit() == True:\n",
    "            return True\n",
    "        else:\n",
    "            return False\n",
    "    else:\n",
    "        return False"
   ]
  },
  {
   "cell_type": "code",
   "execution_count": 2,
   "id": "3df1e472",
   "metadata": {},
   "outputs": [
    {
     "data": {
      "text/plain": [
       "False"
      ]
     },
     "execution_count": 2,
     "metadata": {},
     "output_type": "execute_result"
    }
   ],
   "source": [
    "solution(\"a234\")"
   ]
  },
  {
   "cell_type": "code",
   "execution_count": 3,
   "id": "0cc56343",
   "metadata": {},
   "outputs": [
    {
     "data": {
      "text/plain": [
       "True"
      ]
     },
     "execution_count": 3,
     "metadata": {},
     "output_type": "execute_result"
    }
   ],
   "source": [
    "solution(\"1234\")"
   ]
  },
  {
   "cell_type": "code",
   "execution_count": null,
   "id": "bf2bfe97",
   "metadata": {},
   "outputs": [],
   "source": []
  }
 ],
 "metadata": {
  "kernelspec": {
   "display_name": "Python 3 (ipykernel)",
   "language": "python",
   "name": "python3"
  },
  "language_info": {
   "codemirror_mode": {
    "name": "ipython",
    "version": 3
   },
   "file_extension": ".py",
   "mimetype": "text/x-python",
   "name": "python",
   "nbconvert_exporter": "python",
   "pygments_lexer": "ipython3",
   "version": "3.9.15"
  }
 },
 "nbformat": 4,
 "nbformat_minor": 5
}
