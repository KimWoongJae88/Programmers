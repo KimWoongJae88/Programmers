{
 "cells": [
  {
   "cell_type": "markdown",
   "id": "6a042650",
   "metadata": {},
   "source": [
    "# 조건에 맞게 수열 변환하기\n",
    " - 정수 배열 arr와 자연수 k가 주어집니다. 만약 k가 홀수라면 arr의 모든 원소에 k를 곱하고, k가 짝수라면 arr의 모든 원소에 k를 더합니다. 이러한 변환을 마친 후의 arr를 return 하는 solution 함수를 완성해 주세요."
   ]
  },
  {
   "cell_type": "markdown",
   "id": "f0247b80",
   "metadata": {},
   "source": [
    "## 제한사항\n",
    " - 1 ≤ arr의 길이 ≤ 1,000,000\n",
    " - 1 ≤ arr의 원소의 값 ≤ 100\n",
    " - 1 ≤ k ≤ 100\n",
    "\n",
    "## 입출력 예\n",
    " - arr = [1, 2, 3, 100, 99, 98]\n",
    " - k = 3\n",
    " - result = [3, 6, 9, 300, 297, 294]"
   ]
  },
  {
   "cell_type": "code",
   "execution_count": 1,
   "id": "f02ef6aa",
   "metadata": {},
   "outputs": [],
   "source": [
    "def solution(arr, k):\n",
    "    answer = []\n",
    "    if k % 2 != 0:\n",
    "        for i in arr:\n",
    "            answer.append(i*k)\n",
    "    else:\n",
    "        for i in arr:\n",
    "            answer.append(i+k)\n",
    "    return answer"
   ]
  },
  {
   "cell_type": "code",
   "execution_count": 2,
   "id": "b4ef4ad0",
   "metadata": {},
   "outputs": [
    {
     "data": {
      "text/plain": [
       "[3, 6, 9, 300, 297, 294]"
      ]
     },
     "execution_count": 2,
     "metadata": {},
     "output_type": "execute_result"
    }
   ],
   "source": [
    "solution([1, 2, 3, 100, 99, 98], 3)"
   ]
  },
  {
   "cell_type": "code",
   "execution_count": 3,
   "id": "ed8730ef",
   "metadata": {},
   "outputs": [
    {
     "data": {
      "text/plain": [
       "[3, 4, 5, 102, 101, 100]"
      ]
     },
     "execution_count": 3,
     "metadata": {},
     "output_type": "execute_result"
    }
   ],
   "source": [
    "solution([1, 2, 3, 100, 99, 98], 2)"
   ]
  },
  {
   "cell_type": "code",
   "execution_count": null,
   "id": "e613e9f0",
   "metadata": {},
   "outputs": [],
   "source": []
  }
 ],
 "metadata": {
  "kernelspec": {
   "display_name": "Python 3 (ipykernel)",
   "language": "python",
   "name": "python3"
  },
  "language_info": {
   "codemirror_mode": {
    "name": "ipython",
    "version": 3
   },
   "file_extension": ".py",
   "mimetype": "text/x-python",
   "name": "python",
   "nbconvert_exporter": "python",
   "pygments_lexer": "ipython3",
   "version": "3.9.15"
  }
 },
 "nbformat": 4,
 "nbformat_minor": 5
}
