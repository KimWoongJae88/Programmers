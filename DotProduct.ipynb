{
 "cells": [
  {
   "cell_type": "markdown",
   "id": "a68c275c",
   "metadata": {},
   "source": [
    "# 내적\n",
    " - 길이가 같은 두 1차원 정수 배열 a, b가 매개변수로 주어집니다. a와 b의 내적을 return 하도록 solution 함수를 완성해주세요. 이때, a와 b의 내적은 a[0]*b[0] + a[1]*b[1] + ... + a[n-1]*b[n-1] 입니다. (n은 a, b의 길이)"
   ]
  },
  {
   "cell_type": "markdown",
   "id": "4aab8b53",
   "metadata": {},
   "source": [
    "## 제한사항\n",
    " - a, b의 길이는 1 이상 1,000 이하입니다.\n",
    " - a, b의 모든 수는 -1,000 이상 1,000 이하입니다.\n",
    "\n",
    "\n",
    "## 입출력 예\n",
    " - a : [1,2,3,4]\n",
    " - b : [-3,-1,0,2]\n",
    " - result : 3"
   ]
  },
  {
   "cell_type": "code",
   "execution_count": 1,
   "id": "5f5805ae",
   "metadata": {},
   "outputs": [],
   "source": [
    "def solution(a, b):\n",
    "    answer = 0\n",
    "    for i in range(len(a)):\n",
    "        answer += a[i]*b[i]\n",
    "    return answer"
   ]
  },
  {
   "cell_type": "code",
   "execution_count": 2,
   "id": "0807de75",
   "metadata": {},
   "outputs": [
    {
     "data": {
      "text/plain": [
       "3"
      ]
     },
     "execution_count": 2,
     "metadata": {},
     "output_type": "execute_result"
    }
   ],
   "source": [
    "solution([1,2,3,4], [-3,-1,0,2])"
   ]
  },
  {
   "cell_type": "code",
   "execution_count": 3,
   "id": "a169c7e5",
   "metadata": {},
   "outputs": [
    {
     "data": {
      "text/plain": [
       "-2"
      ]
     },
     "execution_count": 3,
     "metadata": {},
     "output_type": "execute_result"
    }
   ],
   "source": [
    "solution([-1,0,1], [1,0,-1])"
   ]
  },
  {
   "cell_type": "code",
   "execution_count": null,
   "id": "fc96e819",
   "metadata": {},
   "outputs": [],
   "source": []
  }
 ],
 "metadata": {
  "kernelspec": {
   "display_name": "Python 3 (ipykernel)",
   "language": "python",
   "name": "python3"
  },
  "language_info": {
   "codemirror_mode": {
    "name": "ipython",
    "version": 3
   },
   "file_extension": ".py",
   "mimetype": "text/x-python",
   "name": "python",
   "nbconvert_exporter": "python",
   "pygments_lexer": "ipython3",
   "version": "3.9.15"
  }
 },
 "nbformat": 4,
 "nbformat_minor": 5
}
