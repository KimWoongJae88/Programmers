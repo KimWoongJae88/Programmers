{
 "cells": [
  {
   "cell_type": "markdown",
   "id": "1525c34c",
   "metadata": {},
   "source": [
    "# 모의고사\n",
    " - 수포자는 수학을 포기한 사람의 준말입니다. 수포자 삼인방은 모의고사에 수학 문제를 전부 찍으려 합니다. 수포자는 1번 문제부터 마지막 문제까지 다음과 같이 찍습니다.\n",
    "\n",
    "  - 1번 수포자가 찍는 방식: 1, 2, 3, 4, 5, 1, 2, 3, 4, 5, ...\n",
    "  - 2번 수포자가 찍는 방식: 2, 1, 2, 3, 2, 4, 2, 5, 2, 1, 2, 3, 2, 4, 2, 5, ...\n",
    "  - 3번 수포자가 찍는 방식: 3, 3, 1, 1, 2, 2, 4, 4, 5, 5, 3, 3, 1, 1, 2, 2, 4, 4, 5, 5, ...\n",
    "\n",
    " - 1번 문제부터 마지막 문제까지의 정답이 순서대로 들은 배열 answers가 주어졌을 때, 가장 많은 문제를 맞힌 사람이 누구인지 배열에 담아 return 하도록 solution 함수를 작성해주세요."
   ]
  },
  {
   "cell_type": "markdown",
   "id": "b7d56b19",
   "metadata": {},
   "source": [
    "## 제한 조건\n",
    " - 시험은 최대 10,000 문제로 구성되어있습니다.\n",
    " - 문제의 정답은 1, 2, 3, 4, 5중 하나입니다.\n",
    " - 가장 높은 점수를 받은 사람이 여럿일 경우, return하는 값을 오름차순 정렬해주세요.\n",
    "\n",
    "## 입출력 예\n",
    " - answers = [1,2,3,4,5]\n",
    " - return = [1]"
   ]
  },
  {
   "cell_type": "code",
   "execution_count": 43,
   "id": "79f88441",
   "metadata": {},
   "outputs": [],
   "source": [
    "def solution(answers):\n",
    "    num_1 = [1, 2, 3, 4, 5]\n",
    "    num_2 = [2, 1, 2, 3, 2, 4, 2, 5]\n",
    "    num_3 = [3, 3, 1, 1, 2, 2, 4, 4, 5, 5]\n",
    "    answer = []\n",
    "    score = [0, 0, 0]\n",
    "    for i in range(len(answers)):\n",
    "        if answers[i] == num_1[i%len(num_1)]:\n",
    "            score[0] += 1\n",
    "        if answers[i] == num_2[i%len(num_2)]:\n",
    "            score[1] += 1\n",
    "        if answers[i] == num_3[i%len(num_3)]:\n",
    "            score[2] += 1\n",
    "    for i, v in enumerate(score):\n",
    "        if v == max(score):\n",
    "            answer.append(i+1)\n",
    "    return answer"
   ]
  },
  {
   "cell_type": "code",
   "execution_count": 44,
   "id": "fa3cdc53",
   "metadata": {},
   "outputs": [
    {
     "data": {
      "text/plain": [
       "[1]"
      ]
     },
     "execution_count": 44,
     "metadata": {},
     "output_type": "execute_result"
    }
   ],
   "source": [
    "solution([1,2,3,4,5])"
   ]
  },
  {
   "cell_type": "code",
   "execution_count": 45,
   "id": "312603b7",
   "metadata": {},
   "outputs": [
    {
     "data": {
      "text/plain": [
       "[1, 2, 3]"
      ]
     },
     "execution_count": 45,
     "metadata": {},
     "output_type": "execute_result"
    }
   ],
   "source": [
    "solution([1,3,2,4,2])"
   ]
  },
  {
   "cell_type": "code",
   "execution_count": null,
   "id": "d7e462c5",
   "metadata": {},
   "outputs": [],
   "source": []
  }
 ],
 "metadata": {
  "kernelspec": {
   "display_name": "Python 3 (ipykernel)",
   "language": "python",
   "name": "python3"
  },
  "language_info": {
   "codemirror_mode": {
    "name": "ipython",
    "version": 3
   },
   "file_extension": ".py",
   "mimetype": "text/x-python",
   "name": "python",
   "nbconvert_exporter": "python",
   "pygments_lexer": "ipython3",
   "version": "3.9.15"
  }
 },
 "nbformat": 4,
 "nbformat_minor": 5
}
