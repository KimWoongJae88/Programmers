{
 "cells": [
  {
   "cell_type": "markdown",
   "id": "43a375a4",
   "metadata": {},
   "source": [
    "# 유한소수 판별하기\n",
    " - 소수점 아래 숫자가 계속되지 않고 유한개인 소수를 유한소수라고 합니다. 분수를 소수로 고칠 때 유한소수로 나타낼 수 있는 분수인지 판별하려고 합니다. 유한소수가 되기 위한 분수의 조건은 다음과 같습니다. 기약분수로 나타내었을 때, 분모의 소인수가 2와 5만 존재해야 합니다. 두 정수 a와 b가 매개변수로 주어질 때, a/b가 유한소수이면 1을, 무한소수라면 2를 return하도록 solution 함수를 완성해주세요."
   ]
  },
  {
   "cell_type": "code",
   "execution_count": 1,
   "id": "830bae90",
   "metadata": {},
   "outputs": [],
   "source": [
    "# 제한사항\n",
    "# a, b는 정수\n",
    "# 0 < a ≤ 1,000\n",
    "# 0 < b ≤ 1,000\n",
    "\n",
    "# a : 7\n",
    "# b : 20\n",
    "# result : 1"
   ]
  },
  {
   "cell_type": "code",
   "execution_count": 2,
   "id": "4b2d6f5f",
   "metadata": {},
   "outputs": [],
   "source": [
    "def solution(a, b):\n",
    "    c = 0\n",
    "    c += a/b\n",
    "    if len(str(c)) >= 16:\n",
    "        return 2\n",
    "    else:\n",
    "        return 1"
   ]
  },
  {
   "cell_type": "code",
   "execution_count": 3,
   "id": "407f6254",
   "metadata": {},
   "outputs": [
    {
     "data": {
      "text/plain": [
       "1"
      ]
     },
     "execution_count": 3,
     "metadata": {},
     "output_type": "execute_result"
    }
   ],
   "source": [
    "solution(7, 20)"
   ]
  },
  {
   "cell_type": "code",
   "execution_count": 4,
   "id": "95362268",
   "metadata": {},
   "outputs": [
    {
     "data": {
      "text/plain": [
       "1"
      ]
     },
     "execution_count": 4,
     "metadata": {},
     "output_type": "execute_result"
    }
   ],
   "source": [
    "solution(11, 22)"
   ]
  },
  {
   "cell_type": "code",
   "execution_count": 5,
   "id": "b8cdd96b",
   "metadata": {},
   "outputs": [
    {
     "data": {
      "text/plain": [
       "2"
      ]
     },
     "execution_count": 5,
     "metadata": {},
     "output_type": "execute_result"
    }
   ],
   "source": [
    "solution(12, 21)"
   ]
  },
  {
   "cell_type": "code",
   "execution_count": null,
   "id": "b99554c0",
   "metadata": {},
   "outputs": [],
   "source": []
  }
 ],
 "metadata": {
  "kernelspec": {
   "display_name": "Python 3 (ipykernel)",
   "language": "python",
   "name": "python3"
  },
  "language_info": {
   "codemirror_mode": {
    "name": "ipython",
    "version": 3
   },
   "file_extension": ".py",
   "mimetype": "text/x-python",
   "name": "python",
   "nbconvert_exporter": "python",
   "pygments_lexer": "ipython3",
   "version": "3.9.15"
  }
 },
 "nbformat": 4,
 "nbformat_minor": 5
}
