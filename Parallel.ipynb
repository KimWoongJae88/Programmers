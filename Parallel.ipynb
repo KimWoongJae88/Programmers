{
 "cells": [
  {
   "cell_type": "markdown",
   "id": "c0779289",
   "metadata": {},
   "source": [
    "# 평행\n",
    " - 점 네 개의 좌표를 담은 이차원 배열  dots가 다음과 같이 매개변수로 주어집니다. [[x1, y1], [x2, y2], [x3, y3], [x4, y4]] 주어진 네 개의 점을 두 개씩 이었을 때, 두 직선이 평행이 되는 경우가 있으면 1을 없으면 0을 return 하도록 solution 함수를 완성해보세요."
   ]
  },
  {
   "cell_type": "code",
   "execution_count": 1,
   "id": "6d9523ee",
   "metadata": {},
   "outputs": [],
   "source": [
    "# 제한사항\n",
    "# 0 ≤ dots의 원소 ≤ 100\n",
    "# dots의 길이 = 4\n",
    "# dots의 원소의 길이 = 2\n",
    "# dots의 원소는 [x, y] 형태이며 x, y는 정수입니다.\n",
    "# 서로 다른 두개 이상의 점이 겹치는 경우는 없습니다.\n",
    "# 두 직선이 겹치는 경우(일치하는 경우)에도 1을 return 해주세요.\n",
    "# 임의의 두 점을 이은 직선이 x축 또는 y축과 평행한 경우는 주어지지 않습니다."
   ]
  },
  {
   "cell_type": "code",
   "execution_count": 71,
   "id": "e2f71cfe",
   "metadata": {},
   "outputs": [],
   "source": [
    "def solution(dots):\n",
    "    a = []\n",
    "    b = []\n",
    "    c = 0\n",
    "    # 점과 점이 이어질수 있는 경우만큼 반복하여 코딩 \n",
    "    for i, j in zip(dots[0], dots[1]):\n",
    "        a.append(abs(i-j))  # x1-x2, y1-y2 값을 각각 리스트에\n",
    "    for i, j in zip(dots[2], dots[3]):\n",
    "        b.append(abs(i-j))  # x3-x4, y3-y4 값을 각각 리스트에\n",
    "    if a[1]/a[0] == b[1]/b[0]:  # x1-x2 / y1-y2의 값이 x3-x4 / y3-y4 가 같은 값이 있는지, 있으면 기울기가 같다는 의미이므로 답을 추출하기 위해 c에 1을 더해줌\n",
    "        c += 1\n",
    "    for i, j in zip(dots[0], dots[2]):\n",
    "        a.append(abs(i-j))\n",
    "    for i, j in zip(dots[1], dots[3]):\n",
    "        b.append(abs(i-j))\n",
    "    if a[1]/a[0] == b[1]/b[0]:\n",
    "        c += 1\n",
    "    for i, j in zip(dots[0], dots[3]):\n",
    "        a.append(abs(i-j))\n",
    "    for i, j in zip(dots[1], dots[2]):\n",
    "        b.append(abs(i-j))\n",
    "    if a[1]/a[0] == b[1]/b[0]:\n",
    "        c += 1\n",
    "    if c >= 1:  # 하나 이상 기울기가 같으면 1을 출력하므로 조건을 걸어준다.\n",
    "        return 1\n",
    "    else:\n",
    "        return 0"
   ]
  },
  {
   "cell_type": "code",
   "execution_count": 72,
   "id": "af112486",
   "metadata": {},
   "outputs": [
    {
     "name": "stdout",
     "output_type": "stream",
     "text": [
      "[8, 2]\n",
      "[8, 2]\n"
     ]
    },
    {
     "data": {
      "text/plain": [
       "1"
      ]
     },
     "execution_count": 72,
     "metadata": {},
     "output_type": "execute_result"
    }
   ],
   "source": [
    "solution([[1, 4], [9, 2], [3, 8], [11, 6]])"
   ]
  },
  {
   "cell_type": "code",
   "execution_count": 73,
   "id": "53e201e5",
   "metadata": {
    "scrolled": true
   },
   "outputs": [
    {
     "name": "stdout",
     "output_type": "stream",
     "text": [
      "[4, 0]\n",
      "[2, 0]\n"
     ]
    },
    {
     "data": {
      "text/plain": [
       "1"
      ]
     },
     "execution_count": 73,
     "metadata": {},
     "output_type": "execute_result"
    }
   ],
   "source": [
    "solution([[1, 1], [5, 1], [1, 10], [3, 10]])"
   ]
  }
 ],
 "metadata": {
  "kernelspec": {
   "display_name": "Python 3 (ipykernel)",
   "language": "python",
   "name": "python3"
  },
  "language_info": {
   "codemirror_mode": {
    "name": "ipython",
    "version": 3
   },
   "file_extension": ".py",
   "mimetype": "text/x-python",
   "name": "python",
   "nbconvert_exporter": "python",
   "pygments_lexer": "ipython3",
   "version": "3.9.12"
  }
 },
 "nbformat": 4,
 "nbformat_minor": 5
}
