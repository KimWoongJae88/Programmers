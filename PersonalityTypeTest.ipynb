{
 "cells": [
  {
   "cell_type": "markdown",
   "id": "7b65fe82",
   "metadata": {},
   "source": [
    "# 성격 유형 검사\n",
    " - 나만의 카카오 성격 유형 검사지를 만들려고 합니다. 성격 유형 검사는 다음과 같은 4개 지표로 성격 유형을 구분합니다. 성격은 각 지표에서 두 유형 중 하나로 결정됩니다.\n",
    "  - 지표 번호\t성격 유형\n",
    "  - 1번 지표\t라이언형(R), 튜브형(T)\n",
    "  - 2번 지표\t콘형(C), 프로도형(F)\n",
    "  - 3번 지표\t제이지형(J), 무지형(M)\n",
    "  - 4번 지표\t어피치형(A), 네오형(N)\n",
    " - 4개의 지표가 있으므로 성격 유형은 총 16(=2 x 2 x 2 x 2)가지가 나올 수 있습니다. 예를 들어, \"RFMN\"이나 \"TCMA\"와 같은 성격 유형이 있습니다.\n",
    " <br>\n",
    " - 검사지에는 총 n개의 질문이 있고, 각 질문에는 아래와 같은 7개의 선택지가 있습니다.\n",
    "\n",
    "  - 매우 비동의\n",
    "  - 비동의\n",
    "  - 약간 비동의\n",
    "  - 모르겠음\n",
    "  - 약간 동의\n",
    "  - 동의\n",
    "  - 매우 동의\n",
    "  \n",
    " <br>\n",
    " - 각 질문은 1가지 지표로 성격 유형 점수를 판단합니다. 예를 들어, 어떤 한 질문에서 4번 지표로 아래 표처럼 점수를 매길 수 있습니다.\n",
    "\n",
    "  - 선택지\t성격 유형 점수\n",
    "  - 매우 비동의\t네오형 3점\n",
    "  - 비동의\t네오형 2점\n",
    "  - 약간 비동의\t네오형 1점\n",
    "  - 모르겠음\t어떤 성격 유형도 점수를 얻지 않습니다\n",
    "  - 약간 동의\t어피치형 1점\n",
    "  - 동의\t어피치형 2점\n",
    "  - 매우 동의\t어피치형 3점\n",
    " - 이때 검사자가 질문에서 약간 동의 선택지를 선택할 경우 어피치형(A) 성격 유형 1점을 받게 됩니다. 만약 검사자가 매우 비동의 선택지를 선택할 경우 네오형(N) 성격 유형 3점을 받게 됩니다.\n",
    "\n",
    " <br>\n",
    " - 위 예시처럼 네오형이 비동의, 어피치형이 동의인 경우만 주어지지 않고, 질문에 따라 네오형이 동의, 어피치형이 비동의인 경우도 주어질 수 있습니다.하지만 각 선택지는 고정적인 크기의 점수를 가지고 있습니다.\n",
    "\n",
    "  - 매우 동의나 매우 비동의 선택지를 선택하면 3점을 얻습니다.\n",
    "  - 동의나 비동의 선택지를 선택하면 2점을 얻습니다.\n",
    "  - 약간 동의나 약간 비동의 선택지를 선택하면 1점을 얻습니다.\n",
    "  - 모르겠음 선택지를 선택하면 점수를 얻지 않습니다.\n",
    " - 검사 결과는 모든 질문의 성격 유형 점수를 더하여 각 지표에서 더 높은 점수를 받은 성격 유형이 검사자의 성격 유형이라고 판단합니다. 단, 하나의 지표에서 각 성격 유형 점수가 같으면, 두 성격 유형 중 사전 순으로 빠른 성격 유형을 검사자의 성격 유형이라고 판단합니다.\n",
    "\n",
    " <br>\n",
    " \n",
    " - 질문마다 판단하는 지표를 담은 1차원 문자열 배열 survey와 검사자가 각 질문마다 선택한 선택지를 담은 1차원 정수 배열 choices가 매개변수로 주어집니다. 이때, 검사자의 성격 유형 검사 결과를 지표 번호 순서대로 return 하도록 solution 함수를 완성해주세요."
   ]
  },
  {
   "cell_type": "code",
   "execution_count": 2,
   "id": "f93f2952",
   "metadata": {},
   "outputs": [],
   "source": [
    "# 제한사항\n",
    "# 1 ≤ survey의 길이 ( = n) ≤ 1,000\n",
    "# survey의 원소는 \"RT\", \"TR\", \"FC\", \"CF\", \"MJ\", \"JM\", \"AN\", \"NA\" 중 하나입니다.\n",
    "# survey[i]의 첫 번째 캐릭터는 i+1번 질문의 비동의 관련 선택지를 선택하면 받는 성격 유형을 의미합니다.\n",
    "# survey[i]의 두 번째 캐릭터는 i+1번 질문의 동의 관련 선택지를 선택하면 받는 성격 유형을 의미합니다.\n",
    "# choices의 길이 = survey의 길이\n",
    "\n",
    "# choices[i]는 검사자가 선택한 i+1번째 질문의 선택지를 의미합니다.\n",
    "# 1 ≤ choices의 원소 ≤ 7\n",
    "# choices\n",
    "# 1 \t매우 비동의\n",
    "# 2 \t비동의\n",
    "# 3 \t약간 비동의\n",
    "# 4 \t모르겠음\n",
    "# 5 \t약간 동의\n",
    "# 6 \t동의\n",
    "# 7 \t매우 동의"
   ]
  },
  {
   "cell_type": "markdown",
   "id": "46c664ff",
   "metadata": {},
   "source": [
    "---\n",
    "## 첫번째 풀이"
   ]
  },
  {
   "cell_type": "code",
   "execution_count": 85,
   "id": "2b66468d",
   "metadata": {},
   "outputs": [],
   "source": [
    "def solution(survey, choices):\n",
    "    answer = ''\n",
    "    dic = {}\n",
    "    dicc = {}\n",
    "    for i in range(len(survey)):  # choices 숫자에 맞춰서 동의쪽과 비동의쪽의 점수 딕셔너리에 더해준다.\n",
    "        if choices[i] == 1:\n",
    "            if survey[i][0] not in dic:\n",
    "                dic[survey[i][0]] = 3  # survey 문자 순서에 맞춰서 점수를 세어준다.\n",
    "            else:\n",
    "                dic[survey[i][0]] += 3\n",
    "        if choices[i] == 2:\n",
    "            if survey[i][0] not in dic:\n",
    "                dic[survey[i][0]] = 2\n",
    "            else:\n",
    "                dic[survey[i][0]] += 2\n",
    "        if choices[i] == 3:\n",
    "            if survey[i][0] not in dic:\n",
    "                dic[survey[i][0]] = 1\n",
    "            else:\n",
    "                dic[survey[i][0]] += 1\n",
    "\n",
    "        if choices[i] == 4:\n",
    "            pass\n",
    "\n",
    "        if choices[i] == 5:\n",
    "            if survey[i][1] not in dic:\n",
    "                dic[survey[i][1]] = 1\n",
    "            else:\n",
    "                dic[survey[i][1]] += 1       \n",
    "        if choices[i] == 6:\n",
    "            if survey[i][1] not in dic:\n",
    "                dic[survey[i][1]] = 2\n",
    "            else:\n",
    "                dic[survey[i][1]] += 2\n",
    "        if choices[i] == 7:\n",
    "            if survey[i][1] not in dic:\n",
    "                dic[survey[i][1]] = 3\n",
    "            else:\n",
    "                dic[survey[i][1]] += 3\n",
    "                            \n",
    "    if 'R' in dic:  # 모든 유형의 점수가 저장된 딕셔너리에서 비교대상의 키를 뽑아서 크기를 비교하여\n",
    "        if 'T' in dic:\n",
    "            if dic['R'] >= dic['T']:  # 정답문자열에 반영해준다.\n",
    "                answer += 'R'\n",
    "            else:\n",
    "                answer += 'T'\n",
    "        else:\n",
    "            answer += 'R'\n",
    "    else:\n",
    "        if 'T' in dic:\n",
    "            answer += 'T'\n",
    "        else:\n",
    "            answer += 'R'\n",
    "\n",
    "    if 'C' in dic:\n",
    "        if 'F' in dic:\n",
    "            if dic['C'] >= dic['F']:\n",
    "                answer += 'C'\n",
    "            else:\n",
    "                answer += 'F'\n",
    "        else:\n",
    "            answer += 'C'\n",
    "    else:\n",
    "        if 'F' in dic:\n",
    "            answer += 'F'\n",
    "        else:\n",
    "            answer += 'C'\n",
    "\n",
    "    if 'J' in dic:\n",
    "        if 'M' in dic:\n",
    "            if dic['J'] >= dic['M']:\n",
    "                answer += 'J'\n",
    "            else:\n",
    "                answer += 'M'\n",
    "        else:\n",
    "            answer += 'J'\n",
    "    else:\n",
    "        if 'M' in dic:\n",
    "            answer += 'M'\n",
    "        else:\n",
    "            answer += 'J'\n",
    "\n",
    "    if 'A' in dic:\n",
    "        if 'N' in dic:\n",
    "            if dic['A'] >= dic['N']:\n",
    "                answer += 'A'\n",
    "            else:\n",
    "                answer += 'N'\n",
    "        else:\n",
    "            answer += 'A'\n",
    "    else:\n",
    "        if 'N' in dic:\n",
    "            answer += 'N'\n",
    "        else:\n",
    "            answer += 'A'\n",
    "\n",
    "    return answer"
   ]
  },
  {
   "cell_type": "code",
   "execution_count": 86,
   "id": "648b7758",
   "metadata": {},
   "outputs": [
    {
     "data": {
      "text/plain": [
       "'TCMA'"
      ]
     },
     "execution_count": 86,
     "metadata": {},
     "output_type": "execute_result"
    }
   ],
   "source": [
    "solution([\"AN\", \"CF\", \"MJ\", \"RT\", \"NA\"], [5, 3, 2, 7, 5])"
   ]
  },
  {
   "cell_type": "code",
   "execution_count": 87,
   "id": "d34dee81",
   "metadata": {
    "scrolled": true
   },
   "outputs": [
    {
     "data": {
      "text/plain": [
       "'RCJA'"
      ]
     },
     "execution_count": 87,
     "metadata": {},
     "output_type": "execute_result"
    }
   ],
   "source": [
    "solution([\"TR\", \"RT\", \"TR\"], [7, 1, 3])"
   ]
  },
  {
   "cell_type": "markdown",
   "id": "4f7e98c9",
   "metadata": {},
   "source": [
    " - 코드가 너무 길다."
   ]
  },
  {
   "cell_type": "markdown",
   "id": "d7beae05",
   "metadata": {},
   "source": [
    "---\n",
    "## 두번째 풀이"
   ]
  },
  {
   "cell_type": "code",
   "execution_count": null,
   "id": "ba7682cb",
   "metadata": {},
   "outputs": [],
   "source": [
    "def solution(survey, choices):\n",
    "    dit = {'A':0, 'N':0, 'c':0, 'F':0, 'R':0, 'T':0, 'J':0, 'M':0}\n",
    "    "
   ]
  }
 ],
 "metadata": {
  "kernelspec": {
   "display_name": "Python 3 (ipykernel)",
   "language": "python",
   "name": "python3"
  },
  "language_info": {
   "codemirror_mode": {
    "name": "ipython",
    "version": 3
   },
   "file_extension": ".py",
   "mimetype": "text/x-python",
   "name": "python",
   "nbconvert_exporter": "python",
   "pygments_lexer": "ipython3",
   "version": "3.9.12"
  }
 },
 "nbformat": 4,
 "nbformat_minor": 5
}
