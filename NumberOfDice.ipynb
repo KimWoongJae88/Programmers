{
 "cells": [
  {
   "cell_type": "markdown",
   "id": "2a731793",
   "metadata": {},
   "source": [
    "# 주사위 개수\n",
    " - 머쓱이는 직육면체 모양의 상자를 하나 가지고 있는데 이 상자에 정육면체 모양의 주사위를 최대한 많이 채우고 싶습니다. 상자의 가로, 세로, 높이가 저장되어있는 배열 box와 주사위 모서리의 길이 정수 n이 매개변수로 주어졌을 때, 상자에 들어갈 수 있는 주사위의 최대 개수를 return 하도록 solution 함수를 완성해주세요."
   ]
  },
  {
   "cell_type": "code",
   "execution_count": 1,
   "id": "8b49867e",
   "metadata": {},
   "outputs": [],
   "source": [
    "# 제한사항\n",
    "# box의 길이는 3입니다.\n",
    "# box[0] = 상자의 가로 길이\n",
    "# box[1] = 상자의 세로 길이\n",
    "# box[2] = 상자의 높이 길이\n",
    "# 1 ≤ box의 원소 ≤ 100\n",
    "# 1 ≤ n ≤ 50\n",
    "# n ≤ box의 원소\n",
    "# 주사위는 상자와 평행하게 넣습니다.\n",
    "\n",
    "# box : [1, 1, 1]\n",
    "# n : 1\n",
    "# result : 1"
   ]
  },
  {
   "cell_type": "code",
   "execution_count": 2,
   "id": "855dc424",
   "metadata": {},
   "outputs": [],
   "source": [
    "def solution(box, n):\n",
    "    answer = 1\n",
    "    for i in box:\n",
    "        a = i // n\n",
    "        answer *= a\n",
    "    return answer"
   ]
  },
  {
   "cell_type": "code",
   "execution_count": 4,
   "id": "7154f7d4",
   "metadata": {},
   "outputs": [
    {
     "data": {
      "text/plain": [
       "1"
      ]
     },
     "execution_count": 4,
     "metadata": {},
     "output_type": "execute_result"
    }
   ],
   "source": [
    "solution([1, 1, 1], 1)"
   ]
  },
  {
   "cell_type": "code",
   "execution_count": 5,
   "id": "f9009d95",
   "metadata": {},
   "outputs": [
    {
     "data": {
      "text/plain": [
       "12"
      ]
     },
     "execution_count": 5,
     "metadata": {},
     "output_type": "execute_result"
    }
   ],
   "source": [
    "solution([10, 8, 6], 3)"
   ]
  },
  {
   "cell_type": "code",
   "execution_count": null,
   "id": "a958699b",
   "metadata": {},
   "outputs": [],
   "source": []
  }
 ],
 "metadata": {
  "kernelspec": {
   "display_name": "Python 3 (ipykernel)",
   "language": "python",
   "name": "python3"
  },
  "language_info": {
   "codemirror_mode": {
    "name": "ipython",
    "version": 3
   },
   "file_extension": ".py",
   "mimetype": "text/x-python",
   "name": "python",
   "nbconvert_exporter": "python",
   "pygments_lexer": "ipython3",
   "version": "3.9.15"
  }
 },
 "nbformat": 4,
 "nbformat_minor": 5
}
