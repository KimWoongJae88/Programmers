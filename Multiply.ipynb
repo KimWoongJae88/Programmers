{
 "cells": [
  {
   "cell_type": "markdown",
   "id": "3f61f09d",
   "metadata": {},
   "source": [
    "# 두수의 곱\n",
    " - 정수 num1, num2가 매개변수 주어집니다. num1과 num2를 곱한 값을 return 하도록 solution 함수를 완성해주세요."
   ]
  },
  {
   "cell_type": "code",
   "execution_count": 1,
   "id": "b85a5c12",
   "metadata": {},
   "outputs": [],
   "source": [
    "# 0 ≤ num1 ≤ 100\n",
    "# 0 ≤ num2 ≤ 100\n",
    "\n",
    "# num1 : 27\n",
    "# num2 : 19\n",
    "# result : 513"
   ]
  },
  {
   "cell_type": "code",
   "execution_count": 2,
   "id": "846d417c",
   "metadata": {},
   "outputs": [],
   "source": [
    "def solution(num1, num2):\n",
    "    return num1 * num2"
   ]
  },
  {
   "cell_type": "code",
   "execution_count": 3,
   "id": "ca444a39",
   "metadata": {},
   "outputs": [
    {
     "data": {
      "text/plain": [
       "513"
      ]
     },
     "execution_count": 3,
     "metadata": {},
     "output_type": "execute_result"
    }
   ],
   "source": [
    "solution(27, 19)"
   ]
  },
  {
   "cell_type": "code",
   "execution_count": 4,
   "id": "fddf4c84",
   "metadata": {},
   "outputs": [
    {
     "data": {
      "text/plain": [
       "33"
      ]
     },
     "execution_count": 4,
     "metadata": {},
     "output_type": "execute_result"
    }
   ],
   "source": [
    "solution(3, 11)"
   ]
  },
  {
   "cell_type": "code",
   "execution_count": null,
   "id": "83eda0e6",
   "metadata": {},
   "outputs": [],
   "source": []
  }
 ],
 "metadata": {
  "kernelspec": {
   "display_name": "Python 3 (ipykernel)",
   "language": "python",
   "name": "python3"
  },
  "language_info": {
   "codemirror_mode": {
    "name": "ipython",
    "version": 3
   },
   "file_extension": ".py",
   "mimetype": "text/x-python",
   "name": "python",
   "nbconvert_exporter": "python",
   "pygments_lexer": "ipython3",
   "version": "3.9.15"
  }
 },
 "nbformat": 4,
 "nbformat_minor": 5
}
