{
 "cells": [
  {
   "cell_type": "markdown",
   "id": "c0f5038f",
   "metadata": {},
   "source": [
    "# 시저 암호\n",
    " - 어떤 문장의 각 알파벳을 일정한 거리만큼 밀어서 다른 알파벳으로 바꾸는 암호화 방식을 시저 암호라고 합니다. 예를 들어 \"AB\"는 1만큼 밀면 \"BC\"가 되고, 3만큼 밀면 \"DE\"가 됩니다. \"z\"는 1만큼 밀면 \"a\"가 됩니다. 문자열 s와 거리 n을 입력받아 s를 n만큼 민 암호문을 만드는 함수, solution을 완성해 보세요."
   ]
  },
  {
   "cell_type": "code",
   "execution_count": 1,
   "id": "a2627c26",
   "metadata": {},
   "outputs": [],
   "source": [
    "# 제한 조건\n",
    "# 공백은 아무리 밀어도 공백입니다.\n",
    "# s는 알파벳 소문자, 대문자, 공백으로만 이루어져 있습니다.\n",
    "# s의 길이는 8000이하입니다.\n",
    "# n은 1 이상, 25이하인 자연수입니다.\n",
    "\n",
    "# s = 'z'\n",
    "# n = 1\n",
    "# result = 'a'"
   ]
  },
  {
   "cell_type": "code",
   "execution_count": 14,
   "id": "7ab1118c",
   "metadata": {},
   "outputs": [],
   "source": [
    "def solution(s, n):\n",
    "    answer = ''\n",
    "    for i in s:\n",
    "        if ord(i) >=65 and ord(i) < 91:  # 대문자 아스키값 + n이 소문자 아스키값을 침범할 수 있으므로 대문자 아스키값의 범위를 정해준다\n",
    "            if ord(i)+n > 90:  # 대문자 'Z'넘어가면 다시 'A'부터 시작할 수 있게 26을 빼줌\n",
    "                answer += chr(ord(i)+n-26)\n",
    "            else:\n",
    "                answer += chr(ord(i)+n)\n",
    "        if ord(i) >= 97:\n",
    "            if ord(i)+n > 122:\n",
    "                answer += chr(ord(i)+n-26)\n",
    "            else:\n",
    "                answer += chr(ord(i)+n)\n",
    "        if i == ' ':\n",
    "            answer += ' '\n",
    "    return answer"
   ]
  },
  {
   "cell_type": "code",
   "execution_count": 15,
   "id": "a5705004",
   "metadata": {},
   "outputs": [
    {
     "data": {
      "text/plain": [
       "'ZzYy'"
      ]
     },
     "execution_count": 15,
     "metadata": {},
     "output_type": "execute_result"
    }
   ],
   "source": [
    "solution('AaZz', 25)"
   ]
  },
  {
   "cell_type": "markdown",
   "id": "157673ca",
   "metadata": {},
   "source": [
    "---\n",
    "# 참고 사항\n",
    " - 아스키코드"
   ]
  },
  {
   "cell_type": "code",
   "execution_count": 5,
   "id": "fd256a7a",
   "metadata": {},
   "outputs": [
    {
     "data": {
      "text/plain": [
       "(97, 122)"
      ]
     },
     "execution_count": 5,
     "metadata": {},
     "output_type": "execute_result"
    }
   ],
   "source": [
    "ord('a'), ord('z')"
   ]
  },
  {
   "cell_type": "code",
   "execution_count": 6,
   "id": "ddf7e1d2",
   "metadata": {},
   "outputs": [
    {
     "data": {
      "text/plain": [
       "('a', 'z')"
      ]
     },
     "execution_count": 6,
     "metadata": {},
     "output_type": "execute_result"
    }
   ],
   "source": [
    "chr(97), chr(122)"
   ]
  }
 ],
 "metadata": {
  "kernelspec": {
   "display_name": "Python 3 (ipykernel)",
   "language": "python",
   "name": "python3"
  },
  "language_info": {
   "codemirror_mode": {
    "name": "ipython",
    "version": 3
   },
   "file_extension": ".py",
   "mimetype": "text/x-python",
   "name": "python",
   "nbconvert_exporter": "python",
   "pygments_lexer": "ipython3",
   "version": "3.9.12"
  }
 },
 "nbformat": 4,
 "nbformat_minor": 5
}
