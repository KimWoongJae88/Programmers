{
 "cells": [
  {
   "cell_type": "markdown",
   "id": "4ed195cb",
   "metadata": {},
   "source": [
    "# 겹치는 선분의 길이\n",
    " - 빨간색, 초록색, 파란색 선분이 x축 위에 있습니다. 세 선분의 x좌표 시작과 끝이 [[start, end], [start, end], [start, end]] 형태로 들어있는 2차원 배열 lines가 매개변수로 주어질 때, 두 개 이상의 선분이 겹치는 부분의 길이를return 하도록 solution 함수를 완성해보세요. lines가 [[0, 2], [-3, -1], [-2, 1]]일 때 선분이 두 개 이상 겹친 곳은 [-2, -1], [0, 1]로 2만큼 겹쳐있습니다."
   ]
  },
  {
   "cell_type": "code",
   "execution_count": 1,
   "id": "65eeccd3",
   "metadata": {},
   "outputs": [],
   "source": [
    "# 제한사항\n",
    "# lines의 길이 = 3\n",
    "# lines의 원소의 길이 = 2\n",
    "# 모든 선분은 길이가 1 이상입니다.\n",
    "# lines의 원소는 [a, b] 형태이며, a, b는 각각 양 끝점 중 하나입니다.\n",
    "# -100 ≤ a < b ≤ 100"
   ]
  },
  {
   "cell_type": "code",
   "execution_count": 4,
   "id": "33db2931",
   "metadata": {},
   "outputs": [],
   "source": [
    "def solution(lines):\n",
    "    a = []\n",
    "    b = []\n",
    "    c = []\n",
    "    d = []\n",
    "    for i in lines:\n",
    "        for j in range(i[0], i[1]+1):  # 주어진 범위내에 모든 선을 2차원 리스트로 하나씩 나열\n",
    "            if j < i[1]:\n",
    "                a.append([j, j+1])  # 선이라고 표현된 하나하나의 리스트를 a리스트에 2차원리스트형식으로 저장\n",
    "    for i in a:  # 모든선을 반복하여\n",
    "        if i in b:  # 한번이라도 겹친 선은 c리스트에 저장\n",
    "            c.append(i)\n",
    "        if i not in b:  # 겹쳐지지 않은 선은 b리스트에 저장하고 반복되면서 겹쳐진 선을 찾음\n",
    "            b.append(i)\n",
    "    for i in c:  # 한번이라고 겹쳐진 선중 중복되어 저장된 값을 제거\n",
    "        if i not in d:\n",
    "            d.append(i)\n",
    "    return len(d)"
   ]
  },
  {
   "cell_type": "code",
   "execution_count": 5,
   "id": "be8c200f",
   "metadata": {},
   "outputs": [
    {
     "data": {
      "text/plain": [
       "8"
      ]
     },
     "execution_count": 5,
     "metadata": {},
     "output_type": "execute_result"
    }
   ],
   "source": [
    "solution([[0, 5], [3, 9], [1, 10]])"
   ]
  },
  {
   "cell_type": "code",
   "execution_count": null,
   "id": "f6d82fac",
   "metadata": {},
   "outputs": [],
   "source": []
  }
 ],
 "metadata": {
  "kernelspec": {
   "display_name": "Python 3 (ipykernel)",
   "language": "python",
   "name": "python3"
  },
  "language_info": {
   "codemirror_mode": {
    "name": "ipython",
    "version": 3
   },
   "file_extension": ".py",
   "mimetype": "text/x-python",
   "name": "python",
   "nbconvert_exporter": "python",
   "pygments_lexer": "ipython3",
   "version": "3.9.12"
  }
 },
 "nbformat": 4,
 "nbformat_minor": 5
}
