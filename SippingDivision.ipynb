{
 "cells": [
  {
   "cell_type": "markdown",
   "id": "799ef774",
   "metadata": {},
   "source": [
    "# 홀짝 구분하기\n",
    " - 자연수 n이 입력으로 주어졌을 때 만약 n이 짝수이면 \"n is even\"을, 홀수이면 \"n is odd\"를 출력하는 코드를 작성해 보세요."
   ]
  },
  {
   "cell_type": "markdown",
   "id": "aabd3ac8",
   "metadata": {},
   "source": [
    "## 제한사항\n",
    "- 1 ≤ n ≤ 1,000\n",
    "\n",
    "## 입출력 예\n",
    "- 입력 #1 = 100\n",
    "- 출력 #1 = 100 is even"
   ]
  },
  {
   "cell_type": "code",
   "execution_count": 1,
   "id": "5f9eef3e",
   "metadata": {},
   "outputs": [
    {
     "name": "stdout",
     "output_type": "stream",
     "text": [
      "100\n",
      "100 is even\n"
     ]
    }
   ],
   "source": [
    "a = int(input())\n",
    "if a % 2 == 0:\n",
    "    print(a, 'is even')\n",
    "else:\n",
    "    print(a, 'is odd')"
   ]
  },
  {
   "cell_type": "code",
   "execution_count": null,
   "id": "27ae572a",
   "metadata": {},
   "outputs": [],
   "source": []
  }
 ],
 "metadata": {
  "kernelspec": {
   "display_name": "Python 3 (ipykernel)",
   "language": "python",
   "name": "python3"
  },
  "language_info": {
   "codemirror_mode": {
    "name": "ipython",
    "version": 3
   },
   "file_extension": ".py",
   "mimetype": "text/x-python",
   "name": "python",
   "nbconvert_exporter": "python",
   "pygments_lexer": "ipython3",
   "version": "3.9.15"
  }
 },
 "nbformat": 4,
 "nbformat_minor": 5
}
