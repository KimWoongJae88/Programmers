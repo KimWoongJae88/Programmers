{
 "cells": [
  {
   "cell_type": "markdown",
   "id": "85d809d7",
   "metadata": {},
   "source": [
    "# 약수의 개수와 더하기\n",
    " - 두 정수 left와 right가 매개변수로 주어집니다. left부터 right까지의 모든 수들 중에서, 약수의 개수가 짝수인 수는 더하고, 약수의 개수가 홀수인 수는 뺀 수를 return 하도록 solution 함수를 완성해주세요."
   ]
  },
  {
   "cell_type": "markdown",
   "id": "f39ef6cf",
   "metadata": {},
   "source": [
    "## 제한사항\n",
    " - 1 ≤ left ≤ right ≤ 1,000\n",
    "\n",
    "## 입출력 예\n",
    " - left : 13\n",
    " - right : 17\n",
    " - result : 43"
   ]
  },
  {
   "cell_type": "code",
   "execution_count": 1,
   "id": "db54ad29",
   "metadata": {},
   "outputs": [],
   "source": [
    "def solution(left, right):\n",
    "    answer = 0\n",
    "    for i in range(left, right+1):\n",
    "        a = 0\n",
    "        for j in range(1, i+1):\n",
    "            if i % j == 0:\n",
    "                a += 1\n",
    "        if a % 2 == 0:\n",
    "            answer += i\n",
    "        else:\n",
    "            answer -= i\n",
    "    return answer"
   ]
  },
  {
   "cell_type": "code",
   "execution_count": 2,
   "id": "7b03d8b0",
   "metadata": {},
   "outputs": [
    {
     "data": {
      "text/plain": [
       "52"
      ]
     },
     "execution_count": 2,
     "metadata": {},
     "output_type": "execute_result"
    }
   ],
   "source": [
    "solution(24, 27)"
   ]
  },
  {
   "cell_type": "code",
   "execution_count": null,
   "id": "bb2d1221",
   "metadata": {},
   "outputs": [],
   "source": []
  }
 ],
 "metadata": {
  "kernelspec": {
   "display_name": "Python 3 (ipykernel)",
   "language": "python",
   "name": "python3"
  },
  "language_info": {
   "codemirror_mode": {
    "name": "ipython",
    "version": 3
   },
   "file_extension": ".py",
   "mimetype": "text/x-python",
   "name": "python",
   "nbconvert_exporter": "python",
   "pygments_lexer": "ipython3",
   "version": "3.9.15"
  }
 },
 "nbformat": 4,
 "nbformat_minor": 5
}
