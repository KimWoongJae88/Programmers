{
 "cells": [
  {
   "cell_type": "markdown",
   "id": "ac8506dd",
   "metadata": {},
   "source": [
    "# 문자열 정수의 합\n",
    " - 한 자리 정수로 이루어진 문자열 num_str이 주어질 때, 각 자리수의 합을 return하도록 solution 함수를 완성해주세요."
   ]
  },
  {
   "cell_type": "markdown",
   "id": "8dadf6aa",
   "metadata": {},
   "source": [
    "## 제한사항\n",
    "- 3 ≤ num_str ≤ 100\n",
    "\n",
    "## 입출력 예\n",
    "- num_str = \"123456789\"\n",
    "- result = 45"
   ]
  },
  {
   "cell_type": "code",
   "execution_count": 1,
   "id": "f622bd41",
   "metadata": {},
   "outputs": [],
   "source": [
    "def solution(num_str):\n",
    "    answer = 0\n",
    "    for i in num_str:\n",
    "        answer += int(i)\n",
    "    return answer"
   ]
  },
  {
   "cell_type": "code",
   "execution_count": 2,
   "id": "f9c9c89f",
   "metadata": {},
   "outputs": [
    {
     "data": {
      "text/plain": [
       "45"
      ]
     },
     "execution_count": 2,
     "metadata": {},
     "output_type": "execute_result"
    }
   ],
   "source": [
    "solution(\"123456789\")"
   ]
  },
  {
   "cell_type": "code",
   "execution_count": 3,
   "id": "d52552c2",
   "metadata": {},
   "outputs": [
    {
     "data": {
      "text/plain": [
       "1"
      ]
     },
     "execution_count": 3,
     "metadata": {},
     "output_type": "execute_result"
    }
   ],
   "source": [
    "solution('10000000')"
   ]
  },
  {
   "cell_type": "code",
   "execution_count": null,
   "id": "b71530c2",
   "metadata": {},
   "outputs": [],
   "source": []
  }
 ],
 "metadata": {
  "kernelspec": {
   "display_name": "Python 3 (ipykernel)",
   "language": "python",
   "name": "python3"
  },
  "language_info": {
   "codemirror_mode": {
    "name": "ipython",
    "version": 3
   },
   "file_extension": ".py",
   "mimetype": "text/x-python",
   "name": "python",
   "nbconvert_exporter": "python",
   "pygments_lexer": "ipython3",
   "version": "3.9.15"
  }
 },
 "nbformat": 4,
 "nbformat_minor": 5
}
