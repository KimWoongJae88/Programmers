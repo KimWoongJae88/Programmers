{
 "cells": [
  {
   "cell_type": "markdown",
   "id": "b2609827",
   "metadata": {},
   "source": [
    "# 카운트 업\n",
    " - 정수 start와 end가 주어질 때, start부터 end까지의 숫자를 차례로 담은 리스트를 return하도록 solution 함수를 완성해주세요."
   ]
  },
  {
   "cell_type": "markdown",
   "id": "b0924cfe",
   "metadata": {},
   "source": [
    "## 제한사항\n",
    "- 0 ≤ start ≤ end ≤ 50\n",
    "\n",
    "## 입출력 예\n",
    "- start = 3\n",
    "- end = 10\n",
    "- result = [3, 4, 5, 6, 7, 8, 9, 10]"
   ]
  },
  {
   "cell_type": "code",
   "execution_count": 1,
   "id": "5fcf99b9",
   "metadata": {},
   "outputs": [],
   "source": [
    "def solution(start, end):\n",
    "    return list(range(start, end+1))"
   ]
  },
  {
   "cell_type": "code",
   "execution_count": 2,
   "id": "2e8bde34",
   "metadata": {},
   "outputs": [
    {
     "data": {
      "text/plain": [
       "[3, 4, 5, 6, 7, 8, 9, 10]"
      ]
     },
     "execution_count": 2,
     "metadata": {},
     "output_type": "execute_result"
    }
   ],
   "source": [
    "solution(3, 10)"
   ]
  },
  {
   "cell_type": "code",
   "execution_count": null,
   "id": "ec6563fe",
   "metadata": {},
   "outputs": [],
   "source": []
  }
 ],
 "metadata": {
  "kernelspec": {
   "display_name": "Python 3 (ipykernel)",
   "language": "python",
   "name": "python3"
  },
  "language_info": {
   "codemirror_mode": {
    "name": "ipython",
    "version": 3
   },
   "file_extension": ".py",
   "mimetype": "text/x-python",
   "name": "python",
   "nbconvert_exporter": "python",
   "pygments_lexer": "ipython3",
   "version": "3.9.15"
  }
 },
 "nbformat": 4,
 "nbformat_minor": 5
}
